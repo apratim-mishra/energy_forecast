{
 "cells": [
  {
   "cell_type": "code",
   "execution_count": 90,
   "metadata": {
    "colab": {
     "base_uri": "https://localhost:8080/"
    },
    "executionInfo": {
     "elapsed": 600,
     "status": "ok",
     "timestamp": 1651517584753,
     "user": {
      "displayName": "a. mishra",
      "userId": "11561480260359570297"
     },
     "user_tz": 300
    },
    "id": "prSq-X2keSQV",
    "outputId": "147c2abe-e354-4e21-edeb-14e3a3dc50f5"
   },
   "outputs": [],
   "source": [
    "# from google.colab import drive\n",
    "\n",
    "\n",
    "# drive.mount('/content/gdrive')"
   ]
  },
  {
   "cell_type": "code",
   "execution_count": 91,
   "metadata": {
    "colab": {
     "base_uri": "https://localhost:8080/"
    },
    "executionInfo": {
     "elapsed": 94,
     "status": "ok",
     "timestamp": 1651517585435,
     "user": {
      "displayName": "a. mishra",
      "userId": "11561480260359570297"
     },
     "user_tz": 300
    },
    "id": "3-z58RQ5eX9g",
    "outputId": "979c9dc8-63dd-400e-f772-0e7c733eff77"
   },
   "outputs": [],
   "source": [
    "# cd gdrive/My Drive/Colab Notebooks/project_paylocity/ashrae-energy-prediction"
   ]
  },
  {
   "cell_type": "code",
   "execution_count": 150,
   "metadata": {},
   "outputs": [
    {
     "data": {
      "text/plain": [
       "['.local',\n",
       " 'train_preprocessed_may.csv',\n",
       " '.conda',\n",
       " '.ssh',\n",
       " 'may__.ipynb',\n",
       " '.ipynb_checkpoints',\n",
       " 'lr_find_temp_model_b2cf9b09-a57f-4035-ac29-ea88053e48a1.ckpt',\n",
       " 'README',\n",
       " '.bashrc',\n",
       " '.keras',\n",
       " '.dl_binaries',\n",
       " '.cache',\n",
       " 'lightning_logs',\n",
       " '.ipython',\n",
       " 'src',\n",
       " '.bash_history',\n",
       " 'tools',\n",
       " '.safety',\n",
       " '.profile',\n",
       " 'LICENSE',\n",
       " 'Nvidia_Cloud_EULA.pdf',\n",
       " '.sudo_as_admin_successful',\n",
       " '.jupyter',\n",
       " 'examples',\n",
       " 'nvidia-acknowledgements',\n",
       " '.condarc',\n",
       " 'tutorials',\n",
       " '.config',\n",
       " '.bash_logout',\n",
       " 'anaconda3',\n",
       " '.gnupg']"
      ]
     },
     "execution_count": 150,
     "metadata": {},
     "output_type": "execute_result"
    }
   ],
   "source": [
    "import os\n",
    "os.listdir()"
   ]
  },
  {
   "cell_type": "code",
   "execution_count": 151,
   "metadata": {
    "colab": {
     "base_uri": "https://localhost:8080/"
    },
    "executionInfo": {
     "elapsed": 3131,
     "status": "ok",
     "timestamp": 1651517589032,
     "user": {
      "displayName": "a. mishra",
      "userId": "11561480260359570297"
     },
     "user_tz": 300
    },
    "id": "mNFK8YcaeasB",
    "outputId": "94f5f401-98b1-42e7-ac86-7b9db03d33f1"
   },
   "outputs": [],
   "source": [
    "\n",
    "\n",
    "import pandas as pd\n",
    "import numpy as np\n",
    "import matplotlib.pyplot as plt\n",
    "import ast\n",
    "from collections import Counter\n",
    "import datetime\n",
    "import seaborn as sns\n",
    "\n",
    "# import lightgbm as lgb\n",
    "# import xgboost as xgb\n",
    "from sklearn.preprocessing import LabelEncoder\n",
    "from sklearn.model_selection import KFold\n",
    "import datetime\n",
    "import tqdm\n",
    "\n",
    "from sklearn.metrics import mean_squared_log_error\n",
    "from pandas import read_csv\n",
    "from pandas import datetime\n",
    "from matplotlib import pyplot\n",
    "from statsmodels.tsa.arima_model import ARIMA\n",
    "from sklearn.metrics import mean_squared_error\n",
    "from pandas.plotting import autocorrelation_plot"
   ]
  },
  {
   "cell_type": "code",
   "execution_count": 152,
   "metadata": {
    "executionInfo": {
     "elapsed": 9123,
     "status": "ok",
     "timestamp": 1651517598147,
     "user": {
      "displayName": "a. mishra",
      "userId": "11561480260359570297"
     },
     "user_tz": 300
    },
    "id": "VLhVXbuSecTN"
   },
   "outputs": [],
   "source": [
    "train_preprocessed_may = pd.read_csv('train_preprocessed_may.csv')"
   ]
  },
  {
   "cell_type": "code",
   "execution_count": 153,
   "metadata": {
    "executionInfo": {
     "elapsed": 17,
     "status": "ok",
     "timestamp": 1651517598150,
     "user": {
      "displayName": "a. mishra",
      "userId": "11561480260359570297"
     },
     "user_tz": 300
    },
    "id": "9f9NOQouelVs"
   },
   "outputs": [],
   "source": [
    "train_2 = train_preprocessed_may[train_preprocessed_may['site_id'].isin([12,11])]"
   ]
  },
  {
   "cell_type": "code",
   "execution_count": 154,
   "metadata": {
    "colab": {
     "base_uri": "https://localhost:8080/"
    },
    "executionInfo": {
     "elapsed": 15,
     "status": "ok",
     "timestamp": 1651517598150,
     "user": {
      "displayName": "a. mishra",
      "userId": "11561480260359570297"
     },
     "user_tz": 300
    },
    "id": "1TJXk1E7enTG",
    "outputId": "9aee176c-ed2a-4214-8151-d80832b0f7de"
   },
   "outputs": [
    {
     "name": "stderr",
     "output_type": "stream",
     "text": [
      "/usr/local/lib/python3.6/dist-packages/ipykernel_launcher.py:1: SettingWithCopyWarning: \n",
      "A value is trying to be set on a copy of a slice from a DataFrame.\n",
      "Try using .loc[row_indexer,col_indexer] = value instead\n",
      "\n",
      "See the caveats in the documentation: https://pandas.pydata.org/pandas-docs/stable/user_guide/indexing.html#returning-a-view-versus-a-copy\n",
      "  \"\"\"Entry point for launching an IPython kernel.\n",
      "/usr/local/lib/python3.6/dist-packages/ipykernel_launcher.py:2: SettingWithCopyWarning: \n",
      "A value is trying to be set on a copy of a slice from a DataFrame.\n",
      "Try using .loc[row_indexer,col_indexer] = value instead\n",
      "\n",
      "See the caveats in the documentation: https://pandas.pydata.org/pandas-docs/stable/user_guide/indexing.html#returning-a-view-versus-a-copy\n",
      "  \n",
      "/usr/local/lib/python3.6/dist-packages/ipykernel_launcher.py:3: SettingWithCopyWarning: \n",
      "A value is trying to be set on a copy of a slice from a DataFrame.\n",
      "Try using .loc[row_indexer,col_indexer] = value instead\n",
      "\n",
      "See the caveats in the documentation: https://pandas.pydata.org/pandas-docs/stable/user_guide/indexing.html#returning-a-view-versus-a-copy\n",
      "  This is separate from the ipykernel package so we can avoid doing imports until\n",
      "/usr/local/lib/python3.6/dist-packages/ipykernel_launcher.py:4: SettingWithCopyWarning: \n",
      "A value is trying to be set on a copy of a slice from a DataFrame.\n",
      "Try using .loc[row_indexer,col_indexer] = value instead\n",
      "\n",
      "See the caveats in the documentation: https://pandas.pydata.org/pandas-docs/stable/user_guide/indexing.html#returning-a-view-versus-a-copy\n",
      "  after removing the cwd from sys.path.\n",
      "/usr/local/lib/python3.6/dist-packages/ipykernel_launcher.py:5: SettingWithCopyWarning: \n",
      "A value is trying to be set on a copy of a slice from a DataFrame.\n",
      "Try using .loc[row_indexer,col_indexer] = value instead\n",
      "\n",
      "See the caveats in the documentation: https://pandas.pydata.org/pandas-docs/stable/user_guide/indexing.html#returning-a-view-versus-a-copy\n",
      "  \"\"\"\n"
     ]
    }
   ],
   "source": [
    "train_2[\"timestamp\"] = pd.to_datetime(train_2[\"timestamp\"])\n",
    "train_2[\"hour\"] = train_2[\"timestamp\"].dt.hour\n",
    "train_2[\"day\"] = train_2[\"timestamp\"].dt.day\n",
    "train_2[\"weekend\"] = train_2[\"timestamp\"].dt.weekday\n",
    "train_2[\"month\"] = train_2[\"timestamp\"].dt.month\n",
    "\n",
    "train_2 = train_2.reset_index()\n",
    "train_2 = train_2.drop(columns = ['index'], axis=1)"
   ]
  },
  {
   "cell_type": "code",
   "execution_count": 155,
   "metadata": {
    "executionInfo": {
     "elapsed": 11,
     "status": "ok",
     "timestamp": 1651517598151,
     "user": {
      "displayName": "a. mishra",
      "userId": "11561480260359570297"
     },
     "user_tz": 300
    },
    "id": "PztqTYz5epB_"
   },
   "outputs": [],
   "source": [
    "# train_final = train_2.head(int(len(train_2)*(90/100)))\n",
    "# test_final = train_2[len(train_final):]"
   ]
  },
  {
   "cell_type": "code",
   "execution_count": 156,
   "metadata": {
    "executionInfo": {
     "elapsed": 11,
     "status": "ok",
     "timestamp": 1651517598151,
     "user": {
      "displayName": "a. mishra",
      "userId": "11561480260359570297"
     },
     "user_tz": 300
    },
    "id": "mA3CljL0eyze"
   },
   "outputs": [],
   "source": [
    "def add_lags(df, window=3):\n",
    "    group_df = df.groupby(['building_id','site_id'])\n",
    "    cols = ['air_temperature', 'cloud_coverage', 'dew_temperature', 'precip_depth_1_hr', 'sea_level_pressure', 'wind_direction', 'wind_speed']\n",
    "    rolled = group_df[cols].rolling(window=window, min_periods=0)\n",
    "    lag_mean = rolled.mean().reset_index().astype(np.float16)\n",
    "    lag_max = rolled.max().reset_index().astype(np.float16)\n",
    "    lag_min = rolled.min().reset_index().astype(np.float16)\n",
    "    lag_std = rolled.std().reset_index().astype(np.float16)\n",
    "    for col in cols:\n",
    "        df[f'{col}_mean_lag{window}'] = lag_mean[col]\n",
    "        df[f'{col}_max_lag{window}'] = lag_max[col]\n",
    "        df[f'{col}_min_lag{window}'] = lag_min[col]\n",
    "        df[f'{col}_std_lag{window}'] = lag_std[col]"
   ]
  },
  {
   "cell_type": "code",
   "execution_count": 157,
   "metadata": {
    "executionInfo": {
     "elapsed": 1485,
     "status": "ok",
     "timestamp": 1651517599626,
     "user": {
      "displayName": "a. mishra",
      "userId": "11561480260359570297"
     },
     "user_tz": 300
    },
    "id": "D4TfSVKQfQZO"
   },
   "outputs": [],
   "source": [
    "add_lags(train_2, window = 3)"
   ]
  },
  {
   "cell_type": "code",
   "execution_count": 158,
   "metadata": {
    "colab": {
     "base_uri": "https://localhost:8080/",
     "height": 235
    },
    "executionInfo": {
     "elapsed": 20,
     "status": "ok",
     "timestamp": 1651517599629,
     "user": {
      "displayName": "a. mishra",
      "userId": "11561480260359570297"
     },
     "user_tz": 300
    },
    "id": "YYvedCGU1sM1",
    "outputId": "dc5f2262-4f5d-4576-fefd-8f9f7a8cae87"
   },
   "outputs": [
    {
     "data": {
      "text/html": [
       "<div>\n",
       "<style scoped>\n",
       "    .dataframe tbody tr th:only-of-type {\n",
       "        vertical-align: middle;\n",
       "    }\n",
       "\n",
       "    .dataframe tbody tr th {\n",
       "        vertical-align: top;\n",
       "    }\n",
       "\n",
       "    .dataframe thead th {\n",
       "        text-align: right;\n",
       "    }\n",
       "</style>\n",
       "<table border=\"1\" class=\"dataframe\">\n",
       "  <thead>\n",
       "    <tr style=\"text-align: right;\">\n",
       "      <th></th>\n",
       "      <th>building_id</th>\n",
       "      <th>meter</th>\n",
       "      <th>timestamp</th>\n",
       "      <th>meter_reading</th>\n",
       "      <th>site_id</th>\n",
       "      <th>primary_use</th>\n",
       "      <th>square_feet</th>\n",
       "      <th>year_built</th>\n",
       "      <th>floor_count</th>\n",
       "      <th>air_temperature</th>\n",
       "      <th>cloud_coverage</th>\n",
       "      <th>dew_temperature</th>\n",
       "      <th>precip_depth_1_hr</th>\n",
       "      <th>sea_level_pressure</th>\n",
       "      <th>wind_direction</th>\n",
       "      <th>wind_speed</th>\n",
       "      <th>hour</th>\n",
       "      <th>day</th>\n",
       "      <th>weekend</th>\n",
       "      <th>month</th>\n",
       "      <th>air_temperature_mean_lag3</th>\n",
       "      <th>air_temperature_max_lag3</th>\n",
       "      <th>air_temperature_min_lag3</th>\n",
       "      <th>air_temperature_std_lag3</th>\n",
       "      <th>cloud_coverage_mean_lag3</th>\n",
       "      <th>cloud_coverage_max_lag3</th>\n",
       "      <th>cloud_coverage_min_lag3</th>\n",
       "      <th>cloud_coverage_std_lag3</th>\n",
       "      <th>dew_temperature_mean_lag3</th>\n",
       "      <th>dew_temperature_max_lag3</th>\n",
       "      <th>dew_temperature_min_lag3</th>\n",
       "      <th>dew_temperature_std_lag3</th>\n",
       "      <th>precip_depth_1_hr_mean_lag3</th>\n",
       "      <th>precip_depth_1_hr_max_lag3</th>\n",
       "      <th>precip_depth_1_hr_min_lag3</th>\n",
       "      <th>precip_depth_1_hr_std_lag3</th>\n",
       "      <th>sea_level_pressure_mean_lag3</th>\n",
       "      <th>sea_level_pressure_max_lag3</th>\n",
       "      <th>sea_level_pressure_min_lag3</th>\n",
       "      <th>sea_level_pressure_std_lag3</th>\n",
       "      <th>wind_direction_mean_lag3</th>\n",
       "      <th>wind_direction_max_lag3</th>\n",
       "      <th>wind_direction_min_lag3</th>\n",
       "      <th>wind_direction_std_lag3</th>\n",
       "      <th>wind_speed_mean_lag3</th>\n",
       "      <th>wind_speed_max_lag3</th>\n",
       "      <th>wind_speed_min_lag3</th>\n",
       "      <th>wind_speed_std_lag3</th>\n",
       "    </tr>\n",
       "  </thead>\n",
       "  <tbody>\n",
       "    <tr>\n",
       "      <th>0</th>\n",
       "      <td>1029</td>\n",
       "      <td>0</td>\n",
       "      <td>2016-01-01</td>\n",
       "      <td>246.000</td>\n",
       "      <td>11</td>\n",
       "      <td>Education</td>\n",
       "      <td>152559</td>\n",
       "      <td>1970.0</td>\n",
       "      <td>3.0</td>\n",
       "      <td>-1.8</td>\n",
       "      <td>9.0</td>\n",
       "      <td>-3.2</td>\n",
       "      <td>0.0</td>\n",
       "      <td>1016.0</td>\n",
       "      <td>280.0</td>\n",
       "      <td>1.5</td>\n",
       "      <td>0</td>\n",
       "      <td>1</td>\n",
       "      <td>4</td>\n",
       "      <td>1</td>\n",
       "      <td>-14.703125</td>\n",
       "      <td>-14.703125</td>\n",
       "      <td>-14.703125</td>\n",
       "      <td>NaN</td>\n",
       "      <td>9.0</td>\n",
       "      <td>9.0</td>\n",
       "      <td>9.0</td>\n",
       "      <td>NaN</td>\n",
       "      <td>-16.40625</td>\n",
       "      <td>-16.40625</td>\n",
       "      <td>-16.40625</td>\n",
       "      <td>NaN</td>\n",
       "      <td>2.0</td>\n",
       "      <td>2.0</td>\n",
       "      <td>2.0</td>\n",
       "      <td>NaN</td>\n",
       "      <td>1008.5</td>\n",
       "      <td>1008.5</td>\n",
       "      <td>1008.5</td>\n",
       "      <td>NaN</td>\n",
       "      <td>60.0</td>\n",
       "      <td>60.0</td>\n",
       "      <td>60.0</td>\n",
       "      <td>NaN</td>\n",
       "      <td>2.099609</td>\n",
       "      <td>2.099609</td>\n",
       "      <td>2.099609</td>\n",
       "      <td>NaN</td>\n",
       "    </tr>\n",
       "    <tr>\n",
       "      <th>1</th>\n",
       "      <td>1029</td>\n",
       "      <td>3</td>\n",
       "      <td>2016-01-01</td>\n",
       "      <td>140.929</td>\n",
       "      <td>11</td>\n",
       "      <td>Education</td>\n",
       "      <td>152559</td>\n",
       "      <td>1970.0</td>\n",
       "      <td>3.0</td>\n",
       "      <td>-1.8</td>\n",
       "      <td>9.0</td>\n",
       "      <td>-3.2</td>\n",
       "      <td>0.0</td>\n",
       "      <td>1016.0</td>\n",
       "      <td>280.0</td>\n",
       "      <td>1.5</td>\n",
       "      <td>0</td>\n",
       "      <td>1</td>\n",
       "      <td>4</td>\n",
       "      <td>1</td>\n",
       "      <td>-14.703125</td>\n",
       "      <td>-14.703125</td>\n",
       "      <td>-14.703125</td>\n",
       "      <td>0.0</td>\n",
       "      <td>9.0</td>\n",
       "      <td>9.0</td>\n",
       "      <td>9.0</td>\n",
       "      <td>0.0</td>\n",
       "      <td>-16.40625</td>\n",
       "      <td>-16.40625</td>\n",
       "      <td>-16.40625</td>\n",
       "      <td>0.0</td>\n",
       "      <td>2.0</td>\n",
       "      <td>2.0</td>\n",
       "      <td>2.0</td>\n",
       "      <td>0.0</td>\n",
       "      <td>1008.5</td>\n",
       "      <td>1008.5</td>\n",
       "      <td>1008.5</td>\n",
       "      <td>0.0</td>\n",
       "      <td>60.0</td>\n",
       "      <td>60.0</td>\n",
       "      <td>60.0</td>\n",
       "      <td>0.0</td>\n",
       "      <td>2.099609</td>\n",
       "      <td>2.099609</td>\n",
       "      <td>2.099609</td>\n",
       "      <td>0.0</td>\n",
       "    </tr>\n",
       "    <tr>\n",
       "      <th>2</th>\n",
       "      <td>1030</td>\n",
       "      <td>0</td>\n",
       "      <td>2016-01-01</td>\n",
       "      <td>50.000</td>\n",
       "      <td>11</td>\n",
       "      <td>Education</td>\n",
       "      <td>68030</td>\n",
       "      <td>1970.0</td>\n",
       "      <td>3.0</td>\n",
       "      <td>-1.8</td>\n",
       "      <td>9.0</td>\n",
       "      <td>-3.2</td>\n",
       "      <td>0.0</td>\n",
       "      <td>1016.0</td>\n",
       "      <td>280.0</td>\n",
       "      <td>1.5</td>\n",
       "      <td>0</td>\n",
       "      <td>1</td>\n",
       "      <td>4</td>\n",
       "      <td>1</td>\n",
       "      <td>-14.703125</td>\n",
       "      <td>-14.703125</td>\n",
       "      <td>-14.703125</td>\n",
       "      <td>0.0</td>\n",
       "      <td>9.0</td>\n",
       "      <td>9.0</td>\n",
       "      <td>9.0</td>\n",
       "      <td>0.0</td>\n",
       "      <td>-16.40625</td>\n",
       "      <td>-16.40625</td>\n",
       "      <td>-16.40625</td>\n",
       "      <td>0.0</td>\n",
       "      <td>2.0</td>\n",
       "      <td>2.0</td>\n",
       "      <td>2.0</td>\n",
       "      <td>0.0</td>\n",
       "      <td>1008.5</td>\n",
       "      <td>1008.5</td>\n",
       "      <td>1008.5</td>\n",
       "      <td>0.0</td>\n",
       "      <td>60.0</td>\n",
       "      <td>60.0</td>\n",
       "      <td>60.0</td>\n",
       "      <td>0.0</td>\n",
       "      <td>2.099609</td>\n",
       "      <td>2.099609</td>\n",
       "      <td>2.099609</td>\n",
       "      <td>0.0</td>\n",
       "    </tr>\n",
       "  </tbody>\n",
       "</table>\n",
       "</div>"
      ],
      "text/plain": [
       "   building_id  meter  timestamp  meter_reading  site_id primary_use  square_feet  year_built  floor_count  air_temperature  cloud_coverage  dew_temperature  precip_depth_1_hr  sea_level_pressure  wind_direction  wind_speed  hour  day  weekend  month  air_temperature_mean_lag3  air_temperature_max_lag3  air_temperature_min_lag3  air_temperature_std_lag3  cloud_coverage_mean_lag3  cloud_coverage_max_lag3  cloud_coverage_min_lag3  cloud_coverage_std_lag3  dew_temperature_mean_lag3  dew_temperature_max_lag3  dew_temperature_min_lag3  dew_temperature_std_lag3  precip_depth_1_hr_mean_lag3  precip_depth_1_hr_max_lag3  precip_depth_1_hr_min_lag3  precip_depth_1_hr_std_lag3  sea_level_pressure_mean_lag3  sea_level_pressure_max_lag3  sea_level_pressure_min_lag3  sea_level_pressure_std_lag3  wind_direction_mean_lag3  wind_direction_max_lag3  wind_direction_min_lag3  wind_direction_std_lag3  wind_speed_mean_lag3  wind_speed_max_lag3  wind_speed_min_lag3  wind_speed_std_lag3\n",
       "0         1029      0 2016-01-01        246.000       11   Education       152559      1970.0          3.0             -1.8             9.0             -3.2                0.0              1016.0           280.0         1.5     0    1        4      1                 -14.703125                -14.703125                -14.703125                       NaN                       9.0                      9.0                      9.0                      NaN                  -16.40625                 -16.40625                 -16.40625                       NaN                          2.0                         2.0                         2.0                         NaN                        1008.5                       1008.5                       1008.5                          NaN                      60.0                     60.0                     60.0                      NaN              2.099609             2.099609             2.099609                  NaN\n",
       "1         1029      3 2016-01-01        140.929       11   Education       152559      1970.0          3.0             -1.8             9.0             -3.2                0.0              1016.0           280.0         1.5     0    1        4      1                 -14.703125                -14.703125                -14.703125                       0.0                       9.0                      9.0                      9.0                      0.0                  -16.40625                 -16.40625                 -16.40625                       0.0                          2.0                         2.0                         2.0                         0.0                        1008.5                       1008.5                       1008.5                          0.0                      60.0                     60.0                     60.0                      0.0              2.099609             2.099609             2.099609                  0.0\n",
       "2         1030      0 2016-01-01         50.000       11   Education        68030      1970.0          3.0             -1.8             9.0             -3.2                0.0              1016.0           280.0         1.5     0    1        4      1                 -14.703125                -14.703125                -14.703125                       0.0                       9.0                      9.0                      9.0                      0.0                  -16.40625                 -16.40625                 -16.40625                       0.0                          2.0                         2.0                         2.0                         0.0                        1008.5                       1008.5                       1008.5                          0.0                      60.0                     60.0                     60.0                      0.0              2.099609             2.099609             2.099609                  0.0"
      ]
     },
     "execution_count": 158,
     "metadata": {},
     "output_type": "execute_result"
    }
   ],
   "source": [
    "train_2.head(3)"
   ]
  },
  {
   "cell_type": "code",
   "execution_count": 159,
   "metadata": {
    "executionInfo": {
     "elapsed": 9,
     "status": "ok",
     "timestamp": 1651517599630,
     "user": {
      "displayName": "a. mishra",
      "userId": "11561480260359570297"
     },
     "user_tz": 300
    },
    "id": "gbTG4PntfVdY"
   },
   "outputs": [],
   "source": [
    "# def features_engineering3(df):\n",
    "    \n",
    "#     df.sort_values(\"timestamp\")\n",
    "#     df.reset_index(drop=True)\n",
    "    \n",
    "#     df[\"timestamp\"] = pd.to_datetime(df[\"timestamp\"],format=\"%Y-%m-%d %H:%M:%S\")\n",
    "#     df['square_feet'] =  np.log1p(df['square_feet'])\n",
    "\n",
    "#     # Remove unimp Columns\n",
    "#     drop = [\"timestamp\"]\n",
    "#     df = df.drop(drop, axis=1)\n",
    "\n",
    "#     le = LabelEncoder()\n",
    "#     df[\"primary_use\"] = le.fit_transform(df[\"primary_use\"])\n",
    "    \n",
    "#     return df"
   ]
  },
  {
   "cell_type": "code",
   "execution_count": 160,
   "metadata": {
    "executionInfo": {
     "elapsed": 10,
     "status": "ok",
     "timestamp": 1651517600693,
     "user": {
      "displayName": "a. mishra",
      "userId": "11561480260359570297"
     },
     "user_tz": 300
    },
    "id": "gylxYntBf6aS"
   },
   "outputs": [],
   "source": [
    "import pandas as pd\n",
    "pd.set_option('display.max_rows', 500)\n",
    "pd.set_option('display.max_columns', 500)\n",
    "pd.set_option('display.width', 1000)"
   ]
  },
  {
   "cell_type": "code",
   "execution_count": 161,
   "metadata": {
    "colab": {
     "base_uri": "https://localhost:8080/"
    },
    "executionInfo": {
     "elapsed": 4200,
     "status": "ok",
     "timestamp": 1651517604886,
     "user": {
      "displayName": "a. mishra",
      "userId": "11561480260359570297"
     },
     "user_tz": 300
    },
    "id": "eTj4Jj3q0fMJ",
    "outputId": "a2bfcba5-65f6-434e-aa40-af50c2de2d32"
   },
   "outputs": [
    {
     "name": "stdout",
     "output_type": "stream",
     "text": [
      "Defaulting to user installation because normal site-packages is not writeable\n",
      "Looking in indexes: https://pypi.org/simple, https://pip.repos.neuron.amazonaws.com\n",
      "Requirement already satisfied: pytorch-forecasting in ./.local/lib/python3.6/site-packages (0.9.0)\n",
      "Requirement already satisfied: optuna<3.0.0,>=2.3.0 in ./.local/lib/python3.6/site-packages (from pytorch-forecasting) (2.10.0)\n",
      "Requirement already satisfied: scikit-learn<0.25,>=0.23 in /usr/local/lib/python3.6/dist-packages (from pytorch-forecasting) (0.24.2)\n",
      "Requirement already satisfied: pandas<2.0.0,>=1.1.0 in /usr/local/lib/python3.6/dist-packages (from pytorch-forecasting) (1.1.5)\n",
      "Requirement already satisfied: matplotlib in /usr/local/lib/python3.6/dist-packages (from pytorch-forecasting) (3.3.4)\n",
      "Requirement already satisfied: scipy in /usr/local/lib/python3.6/dist-packages (from pytorch-forecasting) (1.5.4)\n",
      "Requirement already satisfied: torch<2.0,>=1.7 in ./.local/lib/python3.6/site-packages (from pytorch-forecasting) (1.10.2)\n",
      "Requirement already satisfied: pytorch-lightning<2.0.0,>=1.2.4 in ./.local/lib/python3.6/site-packages (from pytorch-forecasting) (1.5.10)\n",
      "Requirement already satisfied: statsmodels in ./.local/lib/python3.6/site-packages (from pytorch-forecasting) (0.12.2)\n",
      "Requirement already satisfied: numpy in /usr/local/lib/python3.6/dist-packages (from optuna<3.0.0,>=2.3.0->pytorch-forecasting) (1.19.5)\n",
      "Requirement already satisfied: colorlog in ./.local/lib/python3.6/site-packages (from optuna<3.0.0,>=2.3.0->pytorch-forecasting) (6.6.0)\n",
      "Requirement already satisfied: alembic in ./.local/lib/python3.6/site-packages (from optuna<3.0.0,>=2.3.0->pytorch-forecasting) (1.7.7)\n",
      "Requirement already satisfied: sqlalchemy>=1.1.0 in ./.local/lib/python3.6/site-packages (from optuna<3.0.0,>=2.3.0->pytorch-forecasting) (1.4.36)\n",
      "Requirement already satisfied: tqdm in /usr/local/lib/python3.6/dist-packages (from optuna<3.0.0,>=2.3.0->pytorch-forecasting) (4.64.0)\n",
      "Requirement already satisfied: PyYAML in /usr/local/lib/python3.6/dist-packages (from optuna<3.0.0,>=2.3.0->pytorch-forecasting) (5.4.1)\n",
      "Requirement already satisfied: packaging>=20.0 in /usr/local/lib/python3.6/dist-packages (from optuna<3.0.0,>=2.3.0->pytorch-forecasting) (21.3)\n",
      "Requirement already satisfied: cliff in ./.local/lib/python3.6/site-packages (from optuna<3.0.0,>=2.3.0->pytorch-forecasting) (3.10.1)\n",
      "Requirement already satisfied: cmaes>=0.8.2 in ./.local/lib/python3.6/site-packages (from optuna<3.0.0,>=2.3.0->pytorch-forecasting) (0.8.2)\n",
      "Requirement already satisfied: pytz>=2017.2 in /usr/local/lib/python3.6/dist-packages (from pandas<2.0.0,>=1.1.0->pytorch-forecasting) (2022.1)\n",
      "Requirement already satisfied: python-dateutil>=2.7.3 in /usr/local/lib/python3.6/dist-packages (from pandas<2.0.0,>=1.1.0->pytorch-forecasting) (2.8.2)\n",
      "Requirement already satisfied: pyDeprecate==0.3.1 in ./.local/lib/python3.6/site-packages (from pytorch-lightning<2.0.0,>=1.2.4->pytorch-forecasting) (0.3.1)\n",
      "Requirement already satisfied: fsspec[http]!=2021.06.0,>=2021.05.0 in ./.local/lib/python3.6/site-packages (from pytorch-lightning<2.0.0,>=1.2.4->pytorch-forecasting) (2022.1.0)\n",
      "Requirement already satisfied: future>=0.17.1 in /usr/local/lib/python3.6/dist-packages (from pytorch-lightning<2.0.0,>=1.2.4->pytorch-forecasting) (0.18.2)\n",
      "Requirement already satisfied: typing-extensions in /usr/local/lib/python3.6/dist-packages (from pytorch-lightning<2.0.0,>=1.2.4->pytorch-forecasting) (4.1.1)\n",
      "Requirement already satisfied: tensorboard>=2.2.0 in ./.local/lib/python3.6/site-packages (from pytorch-lightning<2.0.0,>=1.2.4->pytorch-forecasting) (2.9.0)\n",
      "Requirement already satisfied: torchmetrics>=0.4.1 in ./.local/lib/python3.6/site-packages (from pytorch-lightning<2.0.0,>=1.2.4->pytorch-forecasting) (0.8.1)\n",
      "Requirement already satisfied: setuptools==59.5.0 in ./.local/lib/python3.6/site-packages (from pytorch-lightning<2.0.0,>=1.2.4->pytorch-forecasting) (59.5.0)\n",
      "Requirement already satisfied: joblib>=0.11 in /usr/local/lib/python3.6/dist-packages (from scikit-learn<0.25,>=0.23->pytorch-forecasting) (1.1.0)\n",
      "Requirement already satisfied: threadpoolctl>=2.0.0 in /usr/local/lib/python3.6/dist-packages (from scikit-learn<0.25,>=0.23->pytorch-forecasting) (3.1.0)\n",
      "Requirement already satisfied: dataclasses in /usr/local/lib/python3.6/dist-packages (from torch<2.0,>=1.7->pytorch-forecasting) (0.8)\n",
      "Requirement already satisfied: pyparsing!=2.0.4,!=2.1.2,!=2.1.6,>=2.0.3 in /usr/local/lib/python3.6/dist-packages (from matplotlib->pytorch-forecasting) (3.0.8)\n",
      "Requirement already satisfied: cycler>=0.10 in /usr/local/lib/python3.6/dist-packages (from matplotlib->pytorch-forecasting) (0.11.0)\n",
      "Requirement already satisfied: pillow>=6.2.0 in /usr/local/lib/python3.6/dist-packages (from matplotlib->pytorch-forecasting) (8.4.0)\n",
      "Requirement already satisfied: kiwisolver>=1.0.1 in /usr/local/lib/python3.6/dist-packages (from matplotlib->pytorch-forecasting) (1.3.1)\n",
      "Requirement already satisfied: patsy>=0.5 in ./.local/lib/python3.6/site-packages (from statsmodels->pytorch-forecasting) (0.5.2)\n",
      "Requirement already satisfied: requests in /usr/local/lib/python3.6/dist-packages (from fsspec[http]!=2021.06.0,>=2021.05.0->pytorch-lightning<2.0.0,>=1.2.4->pytorch-forecasting) (2.27.1)\n",
      "Requirement already satisfied: aiohttp in ./.local/lib/python3.6/site-packages (from fsspec[http]!=2021.06.0,>=2021.05.0->pytorch-lightning<2.0.0,>=1.2.4->pytorch-forecasting) (3.8.1)\n",
      "Requirement already satisfied: six in /usr/local/lib/python3.6/dist-packages (from patsy>=0.5->statsmodels->pytorch-forecasting) (1.16.0)\n",
      "Requirement already satisfied: importlib-metadata in /usr/local/lib/python3.6/dist-packages (from sqlalchemy>=1.1.0->optuna<3.0.0,>=2.3.0->pytorch-forecasting) (4.8.3)\n",
      "Requirement already satisfied: greenlet!=0.4.17 in ./.local/lib/python3.6/site-packages (from sqlalchemy>=1.1.0->optuna<3.0.0,>=2.3.0->pytorch-forecasting) (1.1.2)\n",
      "Requirement already satisfied: wheel>=0.26 in /usr/local/lib/python3.6/dist-packages (from tensorboard>=2.2.0->pytorch-lightning<2.0.0,>=1.2.4->pytorch-forecasting) (0.37.1)\n",
      "Requirement already satisfied: google-auth-oauthlib<0.5,>=0.4.1 in ./.local/lib/python3.6/site-packages (from tensorboard>=2.2.0->pytorch-lightning<2.0.0,>=1.2.4->pytorch-forecasting) (0.4.6)\n",
      "Requirement already satisfied: markdown>=2.6.8 in ./.local/lib/python3.6/site-packages (from tensorboard>=2.2.0->pytorch-lightning<2.0.0,>=1.2.4->pytorch-forecasting) (3.3.6)\n",
      "Requirement already satisfied: tensorboard-data-server<0.7.0,>=0.6.0 in ./.local/lib/python3.6/site-packages (from tensorboard>=2.2.0->pytorch-lightning<2.0.0,>=1.2.4->pytorch-forecasting) (0.6.1)\n",
      "Requirement already satisfied: absl-py>=0.4 in ./.local/lib/python3.6/site-packages (from tensorboard>=2.2.0->pytorch-lightning<2.0.0,>=1.2.4->pytorch-forecasting) (1.0.0)\n",
      "Requirement already satisfied: protobuf>=3.9.2 in /usr/local/lib/python3.6/dist-packages (from tensorboard>=2.2.0->pytorch-lightning<2.0.0,>=1.2.4->pytorch-forecasting) (3.19.4)\n",
      "Requirement already satisfied: werkzeug>=1.0.1 in ./.local/lib/python3.6/site-packages (from tensorboard>=2.2.0->pytorch-lightning<2.0.0,>=1.2.4->pytorch-forecasting) (2.0.3)\n",
      "Requirement already satisfied: google-auth<3,>=1.6.3 in ./.local/lib/python3.6/site-packages (from tensorboard>=2.2.0->pytorch-lightning<2.0.0,>=1.2.4->pytorch-forecasting) (2.6.6)\n",
      "Requirement already satisfied: tensorboard-plugin-wit>=1.6.0 in ./.local/lib/python3.6/site-packages (from tensorboard>=2.2.0->pytorch-lightning<2.0.0,>=1.2.4->pytorch-forecasting) (1.8.1)\n",
      "Requirement already satisfied: grpcio>=1.24.3 in ./.local/lib/python3.6/site-packages (from tensorboard>=2.2.0->pytorch-lightning<2.0.0,>=1.2.4->pytorch-forecasting) (1.44.0)\n",
      "Requirement already satisfied: importlib-resources in /usr/local/lib/python3.6/dist-packages (from tqdm->optuna<3.0.0,>=2.3.0->pytorch-forecasting) (5.4.0)\n",
      "Requirement already satisfied: Mako in ./.local/lib/python3.6/site-packages (from alembic->optuna<3.0.0,>=2.3.0->pytorch-forecasting) (1.1.6)\n",
      "Requirement already satisfied: PrettyTable>=0.7.2 in ./.local/lib/python3.6/site-packages (from cliff->optuna<3.0.0,>=2.3.0->pytorch-forecasting) (2.5.0)\n",
      "Requirement already satisfied: pbr!=2.1.0,>=2.0.0 in ./.local/lib/python3.6/site-packages (from cliff->optuna<3.0.0,>=2.3.0->pytorch-forecasting) (5.8.1)\n",
      "Requirement already satisfied: autopage>=0.4.0 in ./.local/lib/python3.6/site-packages (from cliff->optuna<3.0.0,>=2.3.0->pytorch-forecasting) (0.5.0)\n",
      "Requirement already satisfied: cmd2>=1.0.0 in ./.local/lib/python3.6/site-packages (from cliff->optuna<3.0.0,>=2.3.0->pytorch-forecasting) (2.4.1)\n",
      "Requirement already satisfied: stevedore>=2.0.1 in ./.local/lib/python3.6/site-packages (from cliff->optuna<3.0.0,>=2.3.0->pytorch-forecasting) (3.5.0)\n",
      "Requirement already satisfied: wcwidth>=0.1.7 in /usr/local/lib/python3.6/dist-packages (from cmd2>=1.0.0->cliff->optuna<3.0.0,>=2.3.0->pytorch-forecasting) (0.2.5)\n",
      "Requirement already satisfied: attrs>=16.3.0 in /usr/local/lib/python3.6/dist-packages (from cmd2>=1.0.0->cliff->optuna<3.0.0,>=2.3.0->pytorch-forecasting) (21.4.0)\n",
      "Requirement already satisfied: pyperclip>=1.6 in ./.local/lib/python3.6/site-packages (from cmd2>=1.0.0->cliff->optuna<3.0.0,>=2.3.0->pytorch-forecasting) (1.8.2)\n",
      "Requirement already satisfied: cachetools<6.0,>=2.0.0 in ./.local/lib/python3.6/site-packages (from google-auth<3,>=1.6.3->tensorboard>=2.2.0->pytorch-lightning<2.0.0,>=1.2.4->pytorch-forecasting) (4.2.4)\n",
      "Requirement already satisfied: pyasn1-modules>=0.2.1 in /usr/lib/python3/dist-packages (from google-auth<3,>=1.6.3->tensorboard>=2.2.0->pytorch-lightning<2.0.0,>=1.2.4->pytorch-forecasting) (0.2.1)\n",
      "Requirement already satisfied: rsa<5,>=3.1.4 in /usr/local/lib/python3.6/dist-packages (from google-auth<3,>=1.6.3->tensorboard>=2.2.0->pytorch-lightning<2.0.0,>=1.2.4->pytorch-forecasting) (4.7.2)\n",
      "Requirement already satisfied: requests-oauthlib>=0.7.0 in ./.local/lib/python3.6/site-packages (from google-auth-oauthlib<0.5,>=0.4.1->tensorboard>=2.2.0->pytorch-lightning<2.0.0,>=1.2.4->pytorch-forecasting) (1.3.1)\n",
      "Requirement already satisfied: zipp>=0.5 in /usr/local/lib/python3.6/dist-packages (from importlib-metadata->sqlalchemy>=1.1.0->optuna<3.0.0,>=2.3.0->pytorch-forecasting) (3.6.0)\n",
      "Requirement already satisfied: charset-normalizer~=2.0.0 in /usr/local/lib/python3.6/dist-packages (from requests->fsspec[http]!=2021.06.0,>=2021.05.0->pytorch-lightning<2.0.0,>=1.2.4->pytorch-forecasting) (2.0.12)\n",
      "Requirement already satisfied: certifi>=2017.4.17 in /usr/local/lib/python3.6/dist-packages (from requests->fsspec[http]!=2021.06.0,>=2021.05.0->pytorch-lightning<2.0.0,>=1.2.4->pytorch-forecasting) (2021.10.8)\n",
      "Requirement already satisfied: idna<4,>=2.5 in /usr/local/lib/python3.6/dist-packages (from requests->fsspec[http]!=2021.06.0,>=2021.05.0->pytorch-lightning<2.0.0,>=1.2.4->pytorch-forecasting) (3.3)\n",
      "Requirement already satisfied: urllib3<1.27,>=1.21.1 in /usr/local/lib/python3.6/dist-packages (from requests->fsspec[http]!=2021.06.0,>=2021.05.0->pytorch-lightning<2.0.0,>=1.2.4->pytorch-forecasting) (1.26.9)\n",
      "Requirement already satisfied: aiosignal>=1.1.2 in ./.local/lib/python3.6/site-packages (from aiohttp->fsspec[http]!=2021.06.0,>=2021.05.0->pytorch-lightning<2.0.0,>=1.2.4->pytorch-forecasting) (1.2.0)\n",
      "Requirement already satisfied: idna-ssl>=1.0 in ./.local/lib/python3.6/site-packages (from aiohttp->fsspec[http]!=2021.06.0,>=2021.05.0->pytorch-lightning<2.0.0,>=1.2.4->pytorch-forecasting) (1.1.0)\n",
      "Requirement already satisfied: frozenlist>=1.1.1 in ./.local/lib/python3.6/site-packages (from aiohttp->fsspec[http]!=2021.06.0,>=2021.05.0->pytorch-lightning<2.0.0,>=1.2.4->pytorch-forecasting) (1.2.0)\n",
      "Requirement already satisfied: multidict<7.0,>=4.5 in ./.local/lib/python3.6/site-packages (from aiohttp->fsspec[http]!=2021.06.0,>=2021.05.0->pytorch-lightning<2.0.0,>=1.2.4->pytorch-forecasting) (5.2.0)\n",
      "Requirement already satisfied: asynctest==0.13.0 in ./.local/lib/python3.6/site-packages (from aiohttp->fsspec[http]!=2021.06.0,>=2021.05.0->pytorch-lightning<2.0.0,>=1.2.4->pytorch-forecasting) (0.13.0)\n",
      "Requirement already satisfied: yarl<2.0,>=1.0 in ./.local/lib/python3.6/site-packages (from aiohttp->fsspec[http]!=2021.06.0,>=2021.05.0->pytorch-lightning<2.0.0,>=1.2.4->pytorch-forecasting) (1.7.2)\n",
      "Requirement already satisfied: async-timeout<5.0,>=4.0.0a3 in ./.local/lib/python3.6/site-packages (from aiohttp->fsspec[http]!=2021.06.0,>=2021.05.0->pytorch-lightning<2.0.0,>=1.2.4->pytorch-forecasting) (4.0.2)\n",
      "Requirement already satisfied: MarkupSafe>=0.9.2 in /usr/local/lib/python3.6/dist-packages (from Mako->alembic->optuna<3.0.0,>=2.3.0->pytorch-forecasting) (2.0.1)\n",
      "Requirement already satisfied: oauthlib>=3.0.0 in ./.local/lib/python3.6/site-packages (from requests-oauthlib>=0.7.0->google-auth-oauthlib<0.5,>=0.4.1->tensorboard>=2.2.0->pytorch-lightning<2.0.0,>=1.2.4->pytorch-forecasting) (3.2.0)\n",
      "Requirement already satisfied: pyasn1>=0.1.3 in /usr/local/lib/python3.6/dist-packages (from rsa<5,>=3.1.4->google-auth<3,>=1.6.3->tensorboard>=2.2.0->pytorch-lightning<2.0.0,>=1.2.4->pytorch-forecasting) (0.4.8)\n"
     ]
    }
   ],
   "source": [
    "!pip install pytorch-forecasting"
   ]
  },
  {
   "cell_type": "code",
   "execution_count": 162,
   "metadata": {
    "executionInfo": {
     "elapsed": 12820,
     "status": "ok",
     "timestamp": 1651517617700,
     "user": {
      "displayName": "a. mishra",
      "userId": "11561480260359570297"
     },
     "user_tz": 300
    },
    "id": "clPai0Zs0fOi"
   },
   "outputs": [],
   "source": [
    "import copy\n",
    "from pathlib import Path\n",
    "import warnings\n",
    "\n",
    "import numpy as np\n",
    "import pandas as pd\n",
    "import pytorch_lightning as pl\n",
    "from pytorch_lightning.callbacks import EarlyStopping, LearningRateMonitor\n",
    "from pytorch_lightning.loggers import TensorBoardLogger\n",
    "import torch\n",
    "\n",
    "from pytorch_forecasting import Baseline, TemporalFusionTransformer, TimeSeriesDataSet\n",
    "from pytorch_forecasting.data import GroupNormalizer\n",
    "from pytorch_forecasting.metrics import SMAPE, PoissonLoss, QuantileLoss\n",
    "from pytorch_forecasting.models.temporal_fusion_transformer.tuning import optimize_hyperparameters"
   ]
  },
  {
   "cell_type": "code",
   "execution_count": null,
   "metadata": {
    "executionInfo": {
     "elapsed": 18,
     "status": "ok",
     "timestamp": 1651517617701,
     "user": {
      "displayName": "a. mishra",
      "userId": "11561480260359570297"
     },
     "user_tz": 300
    },
    "id": "o-HZizZf0fRs"
   },
   "outputs": [],
   "source": []
  },
  {
   "cell_type": "code",
   "execution_count": 163,
   "metadata": {
    "executionInfo": {
     "elapsed": 10,
     "status": "ok",
     "timestamp": 1651517617702,
     "user": {
      "displayName": "a. mishra",
      "userId": "11561480260359570297"
     },
     "user_tz": 300
    },
    "id": "o9EBavz50fUZ"
   },
   "outputs": [],
   "source": [
    "from pytorch_forecasting.data.examples import get_stallion_data\n",
    "\n",
    "\n"
   ]
  },
  {
   "cell_type": "code",
   "execution_count": 164,
   "metadata": {
    "colab": {
     "base_uri": "https://localhost:8080/",
     "height": 144
    },
    "executionInfo": {
     "elapsed": 15,
     "status": "ok",
     "timestamp": 1651517617980,
     "user": {
      "displayName": "a. mishra",
      "userId": "11561480260359570297"
     },
     "user_tz": 300
    },
    "id": "4sQtoM9SFbDF",
    "outputId": "85ca5e92-2911-47ec-f80d-a0d2b4ea4551"
   },
   "outputs": [
    {
     "data": {
      "text/html": [
       "<div>\n",
       "<style scoped>\n",
       "    .dataframe tbody tr th:only-of-type {\n",
       "        vertical-align: middle;\n",
       "    }\n",
       "\n",
       "    .dataframe tbody tr th {\n",
       "        vertical-align: top;\n",
       "    }\n",
       "\n",
       "    .dataframe thead th {\n",
       "        text-align: right;\n",
       "    }\n",
       "</style>\n",
       "<table border=\"1\" class=\"dataframe\">\n",
       "  <thead>\n",
       "    <tr style=\"text-align: right;\">\n",
       "      <th></th>\n",
       "      <th>building_id</th>\n",
       "      <th>meter</th>\n",
       "      <th>timestamp</th>\n",
       "      <th>meter_reading</th>\n",
       "      <th>site_id</th>\n",
       "      <th>primary_use</th>\n",
       "      <th>square_feet</th>\n",
       "      <th>year_built</th>\n",
       "      <th>floor_count</th>\n",
       "      <th>air_temperature</th>\n",
       "      <th>cloud_coverage</th>\n",
       "      <th>dew_temperature</th>\n",
       "      <th>precip_depth_1_hr</th>\n",
       "      <th>sea_level_pressure</th>\n",
       "      <th>wind_direction</th>\n",
       "      <th>wind_speed</th>\n",
       "      <th>hour</th>\n",
       "      <th>day</th>\n",
       "      <th>weekend</th>\n",
       "      <th>month</th>\n",
       "      <th>air_temperature_mean_lag3</th>\n",
       "      <th>air_temperature_max_lag3</th>\n",
       "      <th>air_temperature_min_lag3</th>\n",
       "      <th>air_temperature_std_lag3</th>\n",
       "      <th>cloud_coverage_mean_lag3</th>\n",
       "      <th>cloud_coverage_max_lag3</th>\n",
       "      <th>cloud_coverage_min_lag3</th>\n",
       "      <th>cloud_coverage_std_lag3</th>\n",
       "      <th>dew_temperature_mean_lag3</th>\n",
       "      <th>dew_temperature_max_lag3</th>\n",
       "      <th>dew_temperature_min_lag3</th>\n",
       "      <th>dew_temperature_std_lag3</th>\n",
       "      <th>precip_depth_1_hr_mean_lag3</th>\n",
       "      <th>precip_depth_1_hr_max_lag3</th>\n",
       "      <th>precip_depth_1_hr_min_lag3</th>\n",
       "      <th>precip_depth_1_hr_std_lag3</th>\n",
       "      <th>sea_level_pressure_mean_lag3</th>\n",
       "      <th>sea_level_pressure_max_lag3</th>\n",
       "      <th>sea_level_pressure_min_lag3</th>\n",
       "      <th>sea_level_pressure_std_lag3</th>\n",
       "      <th>wind_direction_mean_lag3</th>\n",
       "      <th>wind_direction_max_lag3</th>\n",
       "      <th>wind_direction_min_lag3</th>\n",
       "      <th>wind_direction_std_lag3</th>\n",
       "      <th>wind_speed_mean_lag3</th>\n",
       "      <th>wind_speed_max_lag3</th>\n",
       "      <th>wind_speed_min_lag3</th>\n",
       "      <th>wind_speed_std_lag3</th>\n",
       "    </tr>\n",
       "  </thead>\n",
       "  <tbody>\n",
       "    <tr>\n",
       "      <th>0</th>\n",
       "      <td>1029</td>\n",
       "      <td>0</td>\n",
       "      <td>2016-01-01</td>\n",
       "      <td>246.0</td>\n",
       "      <td>11</td>\n",
       "      <td>Education</td>\n",
       "      <td>152559</td>\n",
       "      <td>1970.0</td>\n",
       "      <td>3.0</td>\n",
       "      <td>-1.8</td>\n",
       "      <td>9.0</td>\n",
       "      <td>-3.2</td>\n",
       "      <td>0.0</td>\n",
       "      <td>1016.0</td>\n",
       "      <td>280.0</td>\n",
       "      <td>1.5</td>\n",
       "      <td>0</td>\n",
       "      <td>1</td>\n",
       "      <td>4</td>\n",
       "      <td>1</td>\n",
       "      <td>-14.703125</td>\n",
       "      <td>-14.703125</td>\n",
       "      <td>-14.703125</td>\n",
       "      <td>NaN</td>\n",
       "      <td>9.0</td>\n",
       "      <td>9.0</td>\n",
       "      <td>9.0</td>\n",
       "      <td>NaN</td>\n",
       "      <td>-16.40625</td>\n",
       "      <td>-16.40625</td>\n",
       "      <td>-16.40625</td>\n",
       "      <td>NaN</td>\n",
       "      <td>2.0</td>\n",
       "      <td>2.0</td>\n",
       "      <td>2.0</td>\n",
       "      <td>NaN</td>\n",
       "      <td>1008.5</td>\n",
       "      <td>1008.5</td>\n",
       "      <td>1008.5</td>\n",
       "      <td>NaN</td>\n",
       "      <td>60.0</td>\n",
       "      <td>60.0</td>\n",
       "      <td>60.0</td>\n",
       "      <td>NaN</td>\n",
       "      <td>2.099609</td>\n",
       "      <td>2.099609</td>\n",
       "      <td>2.099609</td>\n",
       "      <td>NaN</td>\n",
       "    </tr>\n",
       "  </tbody>\n",
       "</table>\n",
       "</div>"
      ],
      "text/plain": [
       "   building_id  meter  timestamp  meter_reading  site_id primary_use  square_feet  year_built  floor_count  air_temperature  cloud_coverage  dew_temperature  precip_depth_1_hr  sea_level_pressure  wind_direction  wind_speed  hour  day  weekend  month  air_temperature_mean_lag3  air_temperature_max_lag3  air_temperature_min_lag3  air_temperature_std_lag3  cloud_coverage_mean_lag3  cloud_coverage_max_lag3  cloud_coverage_min_lag3  cloud_coverage_std_lag3  dew_temperature_mean_lag3  dew_temperature_max_lag3  dew_temperature_min_lag3  dew_temperature_std_lag3  precip_depth_1_hr_mean_lag3  precip_depth_1_hr_max_lag3  precip_depth_1_hr_min_lag3  precip_depth_1_hr_std_lag3  sea_level_pressure_mean_lag3  sea_level_pressure_max_lag3  sea_level_pressure_min_lag3  sea_level_pressure_std_lag3  wind_direction_mean_lag3  wind_direction_max_lag3  wind_direction_min_lag3  wind_direction_std_lag3  wind_speed_mean_lag3  wind_speed_max_lag3  wind_speed_min_lag3  wind_speed_std_lag3\n",
       "0         1029      0 2016-01-01          246.0       11   Education       152559      1970.0          3.0             -1.8             9.0             -3.2                0.0              1016.0           280.0         1.5     0    1        4      1                 -14.703125                -14.703125                -14.703125                       NaN                       9.0                      9.0                      9.0                      NaN                  -16.40625                 -16.40625                 -16.40625                       NaN                          2.0                         2.0                         2.0                         NaN                        1008.5                       1008.5                       1008.5                          NaN                      60.0                     60.0                     60.0                      NaN              2.099609             2.099609             2.099609                  NaN"
      ]
     },
     "execution_count": 164,
     "metadata": {},
     "output_type": "execute_result"
    }
   ],
   "source": [
    "train_2.head(1)"
   ]
  },
  {
   "cell_type": "code",
   "execution_count": 165,
   "metadata": {
    "colab": {
     "base_uri": "https://localhost:8080/"
    },
    "executionInfo": {
     "elapsed": 13,
     "status": "ok",
     "timestamp": 1651517617980,
     "user": {
      "displayName": "a. mishra",
      "userId": "11561480260359570297"
     },
     "user_tz": 300
    },
    "id": "fJcGRWsGFS8V",
    "outputId": "1c8f5500-7052-464a-bd6e-7f0339fa55c6"
   },
   "outputs": [
    {
     "data": {
      "text/plain": [
       "(435368, 48)"
      ]
     },
     "execution_count": 165,
     "metadata": {},
     "output_type": "execute_result"
    }
   ],
   "source": [
    "train_2.shape"
   ]
  },
  {
   "cell_type": "code",
   "execution_count": 166,
   "metadata": {
    "colab": {
     "base_uri": "https://localhost:8080/"
    },
    "executionInfo": {
     "elapsed": 16,
     "status": "ok",
     "timestamp": 1651517618184,
     "user": {
      "displayName": "a. mishra",
      "userId": "11561480260359570297"
     },
     "user_tz": 300
    },
    "id": "D2F2hWL5FdcI",
    "outputId": "d15ab9db-196f-4866-84b3-952c0bc0e56c"
   },
   "outputs": [
    {
     "data": {
      "text/plain": [
       "(435368, 48)"
      ]
     },
     "execution_count": 166,
     "metadata": {},
     "output_type": "execute_result"
    }
   ],
   "source": [
    "train_2.shape"
   ]
  },
  {
   "cell_type": "code",
   "execution_count": 168,
   "metadata": {},
   "outputs": [],
   "source": [
    "train_2[\"building_id\"] = train_2[\"building_id\"].astype(str)\n",
    "train_2[\"meter\"] = train_2[\"meter\"].astype(str) \n",
    "train_2[\"site_id\"] = train_2[\"site_id\"].astype(str) "
   ]
  },
  {
   "cell_type": "code",
   "execution_count": 172,
   "metadata": {
    "executionInfo": {
     "elapsed": 16,
     "status": "ok",
     "timestamp": 1651517618185,
     "user": {
      "displayName": "a. mishra",
      "userId": "11561480260359570297"
     },
     "user_tz": 300
    },
    "id": "8paibWknFdhE"
   },
   "outputs": [
    {
     "data": {
      "text/plain": [
       "building_id                             object\n",
       "meter                                   object\n",
       "timestamp                       datetime64[ns]\n",
       "meter_reading                          float64\n",
       "site_id                                 object\n",
       "primary_use                             object\n",
       "square_feet                              int64\n",
       "year_built                             float64\n",
       "floor_count                            float64\n",
       "air_temperature                        float64\n",
       "cloud_coverage                         float64\n",
       "dew_temperature                        float64\n",
       "precip_depth_1_hr                      float64\n",
       "sea_level_pressure                     float64\n",
       "wind_direction                         float64\n",
       "wind_speed                             float64\n",
       "hour                                     int64\n",
       "day                                      int64\n",
       "weekend                                  int64\n",
       "month                                    int64\n",
       "air_temperature_mean_lag3              float16\n",
       "air_temperature_max_lag3               float16\n",
       "air_temperature_min_lag3               float16\n",
       "air_temperature_std_lag3               float16\n",
       "cloud_coverage_mean_lag3               float16\n",
       "cloud_coverage_max_lag3                float16\n",
       "cloud_coverage_min_lag3                float16\n",
       "cloud_coverage_std_lag3                float16\n",
       "dew_temperature_mean_lag3              float16\n",
       "dew_temperature_max_lag3               float16\n",
       "dew_temperature_min_lag3               float16\n",
       "dew_temperature_std_lag3               float16\n",
       "precip_depth_1_hr_mean_lag3            float16\n",
       "precip_depth_1_hr_max_lag3             float16\n",
       "precip_depth_1_hr_min_lag3             float16\n",
       "precip_depth_1_hr_std_lag3             float16\n",
       "sea_level_pressure_mean_lag3           float16\n",
       "sea_level_pressure_max_lag3            float16\n",
       "sea_level_pressure_min_lag3            float16\n",
       "sea_level_pressure_std_lag3            float16\n",
       "wind_direction_mean_lag3               float16\n",
       "wind_direction_max_lag3                float16\n",
       "wind_direction_min_lag3                float16\n",
       "wind_direction_std_lag3                float16\n",
       "wind_speed_mean_lag3                   float16\n",
       "wind_speed_max_lag3                    float16\n",
       "wind_speed_min_lag3                    float16\n",
       "wind_speed_std_lag3                    float16\n",
       "dtype: object"
      ]
     },
     "execution_count": 172,
     "metadata": {},
     "output_type": "execute_result"
    }
   ],
   "source": [
    "train_2.dtypes"
   ]
  },
  {
   "cell_type": "code",
   "execution_count": null,
   "metadata": {},
   "outputs": [],
   "source": []
  },
  {
   "cell_type": "code",
   "execution_count": null,
   "metadata": {},
   "outputs": [],
   "source": []
  },
  {
   "cell_type": "code",
   "execution_count": 175,
   "metadata": {},
   "outputs": [],
   "source": [
    "train_2 = train_2[train_2.site_id == \"11\"]"
   ]
  },
  {
   "cell_type": "code",
   "execution_count": 185,
   "metadata": {
    "executionInfo": {
     "elapsed": 15,
     "status": "ok",
     "timestamp": 1651517618185,
     "user": {
      "displayName": "a. mishra",
      "userId": "11561480260359570297"
     },
     "user_tz": 300
    },
    "id": "UNtBV6gy0m9l"
   },
   "outputs": [],
   "source": [
    "data = train_2"
   ]
  },
  {
   "cell_type": "code",
   "execution_count": 186,
   "metadata": {
    "colab": {
     "base_uri": "https://localhost:8080/",
     "height": 175
    },
    "executionInfo": {
     "elapsed": 16,
     "status": "ok",
     "timestamp": 1651517618186,
     "user": {
      "displayName": "a. mishra",
      "userId": "11561480260359570297"
     },
     "user_tz": 300
    },
    "id": "9PEhDj9GudkZ",
    "outputId": "c8a1329b-4c93-47a9-c742-92e7c2c0497d"
   },
   "outputs": [
    {
     "data": {
      "text/html": [
       "<div>\n",
       "<style scoped>\n",
       "    .dataframe tbody tr th:only-of-type {\n",
       "        vertical-align: middle;\n",
       "    }\n",
       "\n",
       "    .dataframe tbody tr th {\n",
       "        vertical-align: top;\n",
       "    }\n",
       "\n",
       "    .dataframe thead th {\n",
       "        text-align: right;\n",
       "    }\n",
       "</style>\n",
       "<table border=\"1\" class=\"dataframe\">\n",
       "  <thead>\n",
       "    <tr style=\"text-align: right;\">\n",
       "      <th></th>\n",
       "      <th>building_id</th>\n",
       "      <th>meter</th>\n",
       "      <th>date</th>\n",
       "      <th>meter_reading</th>\n",
       "      <th>site_id</th>\n",
       "      <th>primary_use</th>\n",
       "      <th>square_feet</th>\n",
       "      <th>year_built</th>\n",
       "      <th>floor_count</th>\n",
       "      <th>air_temperature</th>\n",
       "      <th>cloud_coverage</th>\n",
       "      <th>dew_temperature</th>\n",
       "      <th>precip_depth_1_hr</th>\n",
       "      <th>sea_level_pressure</th>\n",
       "      <th>wind_direction</th>\n",
       "      <th>wind_speed</th>\n",
       "      <th>hour</th>\n",
       "      <th>day</th>\n",
       "      <th>weekend</th>\n",
       "      <th>month</th>\n",
       "      <th>air_temperature_mean_lag3</th>\n",
       "      <th>air_temperature_max_lag3</th>\n",
       "      <th>air_temperature_min_lag3</th>\n",
       "      <th>air_temperature_std_lag3</th>\n",
       "      <th>cloud_coverage_mean_lag3</th>\n",
       "      <th>cloud_coverage_max_lag3</th>\n",
       "      <th>cloud_coverage_min_lag3</th>\n",
       "      <th>cloud_coverage_std_lag3</th>\n",
       "      <th>dew_temperature_mean_lag3</th>\n",
       "      <th>dew_temperature_max_lag3</th>\n",
       "      <th>dew_temperature_min_lag3</th>\n",
       "      <th>dew_temperature_std_lag3</th>\n",
       "      <th>precip_depth_1_hr_mean_lag3</th>\n",
       "      <th>precip_depth_1_hr_max_lag3</th>\n",
       "      <th>precip_depth_1_hr_min_lag3</th>\n",
       "      <th>precip_depth_1_hr_std_lag3</th>\n",
       "      <th>sea_level_pressure_mean_lag3</th>\n",
       "      <th>sea_level_pressure_max_lag3</th>\n",
       "      <th>sea_level_pressure_min_lag3</th>\n",
       "      <th>sea_level_pressure_std_lag3</th>\n",
       "      <th>wind_direction_mean_lag3</th>\n",
       "      <th>wind_direction_max_lag3</th>\n",
       "      <th>wind_direction_min_lag3</th>\n",
       "      <th>wind_direction_std_lag3</th>\n",
       "      <th>wind_speed_mean_lag3</th>\n",
       "      <th>wind_speed_max_lag3</th>\n",
       "      <th>wind_speed_min_lag3</th>\n",
       "      <th>wind_speed_std_lag3</th>\n",
       "      <th>time_idx</th>\n",
       "      <th>log_meter_reading</th>\n",
       "    </tr>\n",
       "  </thead>\n",
       "  <tbody>\n",
       "    <tr>\n",
       "      <th>0</th>\n",
       "      <td>1029</td>\n",
       "      <td>0</td>\n",
       "      <td>2016-01-01</td>\n",
       "      <td>246.000</td>\n",
       "      <td>11</td>\n",
       "      <td>Education</td>\n",
       "      <td>152559</td>\n",
       "      <td>1970.0</td>\n",
       "      <td>3.0</td>\n",
       "      <td>-1.8</td>\n",
       "      <td>9.0</td>\n",
       "      <td>-3.2</td>\n",
       "      <td>0.0</td>\n",
       "      <td>1016.0</td>\n",
       "      <td>280.0</td>\n",
       "      <td>1.5</td>\n",
       "      <td>0</td>\n",
       "      <td>1</td>\n",
       "      <td>4</td>\n",
       "      <td>1</td>\n",
       "      <td>-14.703125</td>\n",
       "      <td>-14.703125</td>\n",
       "      <td>-14.703125</td>\n",
       "      <td>NaN</td>\n",
       "      <td>9.0</td>\n",
       "      <td>9.0</td>\n",
       "      <td>9.0</td>\n",
       "      <td>NaN</td>\n",
       "      <td>-16.40625</td>\n",
       "      <td>-16.40625</td>\n",
       "      <td>-16.40625</td>\n",
       "      <td>NaN</td>\n",
       "      <td>2.0</td>\n",
       "      <td>2.0</td>\n",
       "      <td>2.0</td>\n",
       "      <td>NaN</td>\n",
       "      <td>1008.5</td>\n",
       "      <td>1008.5</td>\n",
       "      <td>1008.5</td>\n",
       "      <td>NaN</td>\n",
       "      <td>60.0</td>\n",
       "      <td>60.0</td>\n",
       "      <td>60.0</td>\n",
       "      <td>NaN</td>\n",
       "      <td>2.099609</td>\n",
       "      <td>2.099609</td>\n",
       "      <td>2.099609</td>\n",
       "      <td>NaN</td>\n",
       "      <td>0</td>\n",
       "      <td>5.509388</td>\n",
       "    </tr>\n",
       "    <tr>\n",
       "      <th>1</th>\n",
       "      <td>1029</td>\n",
       "      <td>3</td>\n",
       "      <td>2016-01-01</td>\n",
       "      <td>140.929</td>\n",
       "      <td>11</td>\n",
       "      <td>Education</td>\n",
       "      <td>152559</td>\n",
       "      <td>1970.0</td>\n",
       "      <td>3.0</td>\n",
       "      <td>-1.8</td>\n",
       "      <td>9.0</td>\n",
       "      <td>-3.2</td>\n",
       "      <td>0.0</td>\n",
       "      <td>1016.0</td>\n",
       "      <td>280.0</td>\n",
       "      <td>1.5</td>\n",
       "      <td>0</td>\n",
       "      <td>1</td>\n",
       "      <td>4</td>\n",
       "      <td>1</td>\n",
       "      <td>-14.703125</td>\n",
       "      <td>-14.703125</td>\n",
       "      <td>-14.703125</td>\n",
       "      <td>0.0</td>\n",
       "      <td>9.0</td>\n",
       "      <td>9.0</td>\n",
       "      <td>9.0</td>\n",
       "      <td>0.0</td>\n",
       "      <td>-16.40625</td>\n",
       "      <td>-16.40625</td>\n",
       "      <td>-16.40625</td>\n",
       "      <td>0.0</td>\n",
       "      <td>2.0</td>\n",
       "      <td>2.0</td>\n",
       "      <td>2.0</td>\n",
       "      <td>0.0</td>\n",
       "      <td>1008.5</td>\n",
       "      <td>1008.5</td>\n",
       "      <td>1008.5</td>\n",
       "      <td>0.0</td>\n",
       "      <td>60.0</td>\n",
       "      <td>60.0</td>\n",
       "      <td>60.0</td>\n",
       "      <td>0.0</td>\n",
       "      <td>2.099609</td>\n",
       "      <td>2.099609</td>\n",
       "      <td>2.099609</td>\n",
       "      <td>0.0</td>\n",
       "      <td>0</td>\n",
       "      <td>4.955327</td>\n",
       "    </tr>\n",
       "  </tbody>\n",
       "</table>\n",
       "</div>"
      ],
      "text/plain": [
       "  building_id meter       date  meter_reading site_id primary_use  square_feet  year_built  floor_count  air_temperature  cloud_coverage  dew_temperature  precip_depth_1_hr  sea_level_pressure  wind_direction  wind_speed  hour  day  weekend month  air_temperature_mean_lag3  air_temperature_max_lag3  air_temperature_min_lag3  air_temperature_std_lag3  cloud_coverage_mean_lag3  cloud_coverage_max_lag3  cloud_coverage_min_lag3  cloud_coverage_std_lag3  dew_temperature_mean_lag3  dew_temperature_max_lag3  dew_temperature_min_lag3  dew_temperature_std_lag3  precip_depth_1_hr_mean_lag3  precip_depth_1_hr_max_lag3  precip_depth_1_hr_min_lag3  precip_depth_1_hr_std_lag3  sea_level_pressure_mean_lag3  sea_level_pressure_max_lag3  sea_level_pressure_min_lag3  sea_level_pressure_std_lag3  wind_direction_mean_lag3  wind_direction_max_lag3  wind_direction_min_lag3  wind_direction_std_lag3  wind_speed_mean_lag3  wind_speed_max_lag3  wind_speed_min_lag3  wind_speed_std_lag3  time_idx  \\\n",
       "0        1029     0 2016-01-01        246.000      11   Education       152559      1970.0          3.0             -1.8             9.0             -3.2                0.0              1016.0           280.0         1.5     0    1        4     1                 -14.703125                -14.703125                -14.703125                       NaN                       9.0                      9.0                      9.0                      NaN                  -16.40625                 -16.40625                 -16.40625                       NaN                          2.0                         2.0                         2.0                         NaN                        1008.5                       1008.5                       1008.5                          NaN                      60.0                     60.0                     60.0                      NaN              2.099609             2.099609             2.099609                  NaN         0   \n",
       "1        1029     3 2016-01-01        140.929      11   Education       152559      1970.0          3.0             -1.8             9.0             -3.2                0.0              1016.0           280.0         1.5     0    1        4     1                 -14.703125                -14.703125                -14.703125                       0.0                       9.0                      9.0                      9.0                      0.0                  -16.40625                 -16.40625                 -16.40625                       0.0                          2.0                         2.0                         2.0                         0.0                        1008.5                       1008.5                       1008.5                          0.0                      60.0                     60.0                     60.0                      0.0              2.099609             2.099609             2.099609                  0.0         0   \n",
       "\n",
       "   log_meter_reading  \n",
       "0           5.509388  \n",
       "1           4.955327  "
      ]
     },
     "execution_count": 186,
     "metadata": {},
     "output_type": "execute_result"
    }
   ],
   "source": [
    "data.head(2)"
   ]
  },
  {
   "cell_type": "code",
   "execution_count": null,
   "metadata": {
    "executionInfo": {
     "elapsed": 16,
     "status": "ok",
     "timestamp": 1651517618187,
     "user": {
      "displayName": "a. mishra",
      "userId": "11561480260359570297"
     },
     "user_tz": 300
    },
    "id": "4RmrLu5_2MsZ"
   },
   "outputs": [],
   "source": []
  },
  {
   "cell_type": "code",
   "execution_count": 187,
   "metadata": {
    "colab": {
     "base_uri": "https://localhost:8080/"
    },
    "executionInfo": {
     "elapsed": 16,
     "status": "ok",
     "timestamp": 1651517618187,
     "user": {
      "displayName": "a. mishra",
      "userId": "11561480260359570297"
     },
     "user_tz": 300
    },
    "id": "WZJgrXoGu7sv",
    "outputId": "fcb54872-3234-4958-b3f7-45335e19e4aa"
   },
   "outputs": [
    {
     "name": "stderr",
     "output_type": "stream",
     "text": [
      "/usr/local/lib/python3.6/dist-packages/pandas/core/frame.py:4308: SettingWithCopyWarning: \n",
      "A value is trying to be set on a copy of a slice from a DataFrame\n",
      "\n",
      "See the caveats in the documentation: https://pandas.pydata.org/pandas-docs/stable/user_guide/indexing.html#returning-a-view-versus-a-copy\n",
      "  errors=errors,\n"
     ]
    }
   ],
   "source": [
    "data.rename(columns = {'timestamp':'date'}, inplace = True)"
   ]
  },
  {
   "cell_type": "code",
   "execution_count": 188,
   "metadata": {
    "executionInfo": {
     "elapsed": 146,
     "status": "ok",
     "timestamp": 1651517618325,
     "user": {
      "displayName": "a. mishra",
      "userId": "11561480260359570297"
     },
     "user_tz": 300
    },
    "id": "8O7uf_ka1F0z"
   },
   "outputs": [
    {
     "name": "stderr",
     "output_type": "stream",
     "text": [
      "/usr/local/lib/python3.6/dist-packages/ipykernel_launcher.py:1: SettingWithCopyWarning: \n",
      "A value is trying to be set on a copy of a slice from a DataFrame.\n",
      "Try using .loc[row_indexer,col_indexer] = value instead\n",
      "\n",
      "See the caveats in the documentation: https://pandas.pydata.org/pandas-docs/stable/user_guide/indexing.html#returning-a-view-versus-a-copy\n",
      "  \"\"\"Entry point for launching an IPython kernel.\n",
      "/usr/local/lib/python3.6/dist-packages/ipykernel_launcher.py:2: SettingWithCopyWarning: \n",
      "A value is trying to be set on a copy of a slice from a DataFrame.\n",
      "Try using .loc[row_indexer,col_indexer] = value instead\n",
      "\n",
      "See the caveats in the documentation: https://pandas.pydata.org/pandas-docs/stable/user_guide/indexing.html#returning-a-view-versus-a-copy\n",
      "  \n",
      "/usr/local/lib/python3.6/dist-packages/ipykernel_launcher.py:3: SettingWithCopyWarning: \n",
      "A value is trying to be set on a copy of a slice from a DataFrame.\n",
      "Try using .loc[row_indexer,col_indexer] = value instead\n",
      "\n",
      "See the caveats in the documentation: https://pandas.pydata.org/pandas-docs/stable/user_guide/indexing.html#returning-a-view-versus-a-copy\n",
      "  This is separate from the ipykernel package so we can avoid doing imports until\n"
     ]
    }
   ],
   "source": [
    "\n",
    "data[\"time_idx\"] = data[\"date\"].dt.year * 12 + data[\"date\"].dt.month\n",
    "data[\"time_idx\"] -= data[\"time_idx\"].min()\n",
    "data[\"month\"] = data.date.dt.month.astype(str).astype(\"category\") "
   ]
  },
  {
   "cell_type": "code",
   "execution_count": null,
   "metadata": {
    "executionInfo": {
     "elapsed": 7,
     "status": "ok",
     "timestamp": 1651517618325,
     "user": {
      "displayName": "a. mishra",
      "userId": "11561480260359570297"
     },
     "user_tz": 300
    },
    "id": "Tbtlhx4zuTbL"
   },
   "outputs": [],
   "source": []
  },
  {
   "cell_type": "code",
   "execution_count": null,
   "metadata": {
    "executionInfo": {
     "elapsed": 6,
     "status": "ok",
     "timestamp": 1651517618325,
     "user": {
      "displayName": "a. mishra",
      "userId": "11561480260359570297"
     },
     "user_tz": 300
    },
    "id": "fVpZwGfDuTd_"
   },
   "outputs": [],
   "source": []
  },
  {
   "cell_type": "code",
   "execution_count": 189,
   "metadata": {
    "colab": {
     "base_uri": "https://localhost:8080/"
    },
    "executionInfo": {
     "elapsed": 4,
     "status": "ok",
     "timestamp": 1651517618325,
     "user": {
      "displayName": "a. mishra",
      "userId": "11561480260359570297"
     },
     "user_tz": 300
    },
    "id": "ydl1rFNb3IXU",
    "outputId": "b2d3bbd5-2f4b-4f3a-82bc-a5b735814522"
   },
   "outputs": [
    {
     "data": {
      "text/plain": [
       "(119459, 50)"
      ]
     },
     "execution_count": 189,
     "metadata": {},
     "output_type": "execute_result"
    }
   ],
   "source": [
    "data.shape"
   ]
  },
  {
   "cell_type": "code",
   "execution_count": 190,
   "metadata": {
    "colab": {
     "base_uri": "https://localhost:8080/",
     "height": 209
    },
    "executionInfo": {
     "elapsed": 163,
     "status": "ok",
     "timestamp": 1651517618485,
     "user": {
      "displayName": "a. mishra",
      "userId": "11561480260359570297"
     },
     "user_tz": 300
    },
    "id": "pVX4Lftr1Qqt",
    "outputId": "a94da84f-03b9-4201-acb9-85d1ba492840"
   },
   "outputs": [
    {
     "data": {
      "text/html": [
       "<div>\n",
       "<style scoped>\n",
       "    .dataframe tbody tr th:only-of-type {\n",
       "        vertical-align: middle;\n",
       "    }\n",
       "\n",
       "    .dataframe tbody tr th {\n",
       "        vertical-align: top;\n",
       "    }\n",
       "\n",
       "    .dataframe thead th {\n",
       "        text-align: right;\n",
       "    }\n",
       "</style>\n",
       "<table border=\"1\" class=\"dataframe\">\n",
       "  <thead>\n",
       "    <tr style=\"text-align: right;\">\n",
       "      <th></th>\n",
       "      <th>building_id</th>\n",
       "      <th>meter</th>\n",
       "      <th>date</th>\n",
       "      <th>meter_reading</th>\n",
       "      <th>site_id</th>\n",
       "      <th>primary_use</th>\n",
       "      <th>square_feet</th>\n",
       "      <th>year_built</th>\n",
       "      <th>floor_count</th>\n",
       "      <th>air_temperature</th>\n",
       "      <th>cloud_coverage</th>\n",
       "      <th>dew_temperature</th>\n",
       "      <th>precip_depth_1_hr</th>\n",
       "      <th>sea_level_pressure</th>\n",
       "      <th>wind_direction</th>\n",
       "      <th>wind_speed</th>\n",
       "      <th>hour</th>\n",
       "      <th>day</th>\n",
       "      <th>weekend</th>\n",
       "      <th>month</th>\n",
       "      <th>air_temperature_mean_lag3</th>\n",
       "      <th>air_temperature_max_lag3</th>\n",
       "      <th>air_temperature_min_lag3</th>\n",
       "      <th>air_temperature_std_lag3</th>\n",
       "      <th>cloud_coverage_mean_lag3</th>\n",
       "      <th>cloud_coverage_max_lag3</th>\n",
       "      <th>cloud_coverage_min_lag3</th>\n",
       "      <th>cloud_coverage_std_lag3</th>\n",
       "      <th>dew_temperature_mean_lag3</th>\n",
       "      <th>dew_temperature_max_lag3</th>\n",
       "      <th>dew_temperature_min_lag3</th>\n",
       "      <th>dew_temperature_std_lag3</th>\n",
       "      <th>precip_depth_1_hr_mean_lag3</th>\n",
       "      <th>precip_depth_1_hr_max_lag3</th>\n",
       "      <th>precip_depth_1_hr_min_lag3</th>\n",
       "      <th>precip_depth_1_hr_std_lag3</th>\n",
       "      <th>sea_level_pressure_mean_lag3</th>\n",
       "      <th>sea_level_pressure_max_lag3</th>\n",
       "      <th>sea_level_pressure_min_lag3</th>\n",
       "      <th>sea_level_pressure_std_lag3</th>\n",
       "      <th>wind_direction_mean_lag3</th>\n",
       "      <th>wind_direction_max_lag3</th>\n",
       "      <th>wind_direction_min_lag3</th>\n",
       "      <th>wind_direction_std_lag3</th>\n",
       "      <th>wind_speed_mean_lag3</th>\n",
       "      <th>wind_speed_max_lag3</th>\n",
       "      <th>wind_speed_min_lag3</th>\n",
       "      <th>wind_speed_std_lag3</th>\n",
       "      <th>time_idx</th>\n",
       "      <th>log_meter_reading</th>\n",
       "    </tr>\n",
       "  </thead>\n",
       "  <tbody>\n",
       "    <tr>\n",
       "      <th>0</th>\n",
       "      <td>1029</td>\n",
       "      <td>0</td>\n",
       "      <td>2016-01-01</td>\n",
       "      <td>246.000</td>\n",
       "      <td>11</td>\n",
       "      <td>Education</td>\n",
       "      <td>152559</td>\n",
       "      <td>1970.0</td>\n",
       "      <td>3.0</td>\n",
       "      <td>-1.8</td>\n",
       "      <td>9.0</td>\n",
       "      <td>-3.2</td>\n",
       "      <td>0.0</td>\n",
       "      <td>1016.0</td>\n",
       "      <td>280.0</td>\n",
       "      <td>1.5</td>\n",
       "      <td>0</td>\n",
       "      <td>1</td>\n",
       "      <td>4</td>\n",
       "      <td>1</td>\n",
       "      <td>-14.703125</td>\n",
       "      <td>-14.703125</td>\n",
       "      <td>-14.703125</td>\n",
       "      <td>NaN</td>\n",
       "      <td>9.0</td>\n",
       "      <td>9.0</td>\n",
       "      <td>9.0</td>\n",
       "      <td>NaN</td>\n",
       "      <td>-16.40625</td>\n",
       "      <td>-16.40625</td>\n",
       "      <td>-16.40625</td>\n",
       "      <td>NaN</td>\n",
       "      <td>2.0</td>\n",
       "      <td>2.0</td>\n",
       "      <td>2.0</td>\n",
       "      <td>NaN</td>\n",
       "      <td>1008.5</td>\n",
       "      <td>1008.5</td>\n",
       "      <td>1008.5</td>\n",
       "      <td>NaN</td>\n",
       "      <td>60.0</td>\n",
       "      <td>60.0</td>\n",
       "      <td>60.0</td>\n",
       "      <td>NaN</td>\n",
       "      <td>2.099609</td>\n",
       "      <td>2.099609</td>\n",
       "      <td>2.099609</td>\n",
       "      <td>NaN</td>\n",
       "      <td>0</td>\n",
       "      <td>5.509388</td>\n",
       "    </tr>\n",
       "    <tr>\n",
       "      <th>1</th>\n",
       "      <td>1029</td>\n",
       "      <td>3</td>\n",
       "      <td>2016-01-01</td>\n",
       "      <td>140.929</td>\n",
       "      <td>11</td>\n",
       "      <td>Education</td>\n",
       "      <td>152559</td>\n",
       "      <td>1970.0</td>\n",
       "      <td>3.0</td>\n",
       "      <td>-1.8</td>\n",
       "      <td>9.0</td>\n",
       "      <td>-3.2</td>\n",
       "      <td>0.0</td>\n",
       "      <td>1016.0</td>\n",
       "      <td>280.0</td>\n",
       "      <td>1.5</td>\n",
       "      <td>0</td>\n",
       "      <td>1</td>\n",
       "      <td>4</td>\n",
       "      <td>1</td>\n",
       "      <td>-14.703125</td>\n",
       "      <td>-14.703125</td>\n",
       "      <td>-14.703125</td>\n",
       "      <td>0.0</td>\n",
       "      <td>9.0</td>\n",
       "      <td>9.0</td>\n",
       "      <td>9.0</td>\n",
       "      <td>0.0</td>\n",
       "      <td>-16.40625</td>\n",
       "      <td>-16.40625</td>\n",
       "      <td>-16.40625</td>\n",
       "      <td>0.0</td>\n",
       "      <td>2.0</td>\n",
       "      <td>2.0</td>\n",
       "      <td>2.0</td>\n",
       "      <td>0.0</td>\n",
       "      <td>1008.5</td>\n",
       "      <td>1008.5</td>\n",
       "      <td>1008.5</td>\n",
       "      <td>0.0</td>\n",
       "      <td>60.0</td>\n",
       "      <td>60.0</td>\n",
       "      <td>60.0</td>\n",
       "      <td>0.0</td>\n",
       "      <td>2.099609</td>\n",
       "      <td>2.099609</td>\n",
       "      <td>2.099609</td>\n",
       "      <td>0.0</td>\n",
       "      <td>0</td>\n",
       "      <td>4.955327</td>\n",
       "    </tr>\n",
       "  </tbody>\n",
       "</table>\n",
       "</div>"
      ],
      "text/plain": [
       "  building_id meter       date  meter_reading site_id primary_use  square_feet  year_built  floor_count  air_temperature  cloud_coverage  dew_temperature  precip_depth_1_hr  sea_level_pressure  wind_direction  wind_speed  hour  day  weekend month  air_temperature_mean_lag3  air_temperature_max_lag3  air_temperature_min_lag3  air_temperature_std_lag3  cloud_coverage_mean_lag3  cloud_coverage_max_lag3  cloud_coverage_min_lag3  cloud_coverage_std_lag3  dew_temperature_mean_lag3  dew_temperature_max_lag3  dew_temperature_min_lag3  dew_temperature_std_lag3  precip_depth_1_hr_mean_lag3  precip_depth_1_hr_max_lag3  precip_depth_1_hr_min_lag3  precip_depth_1_hr_std_lag3  sea_level_pressure_mean_lag3  sea_level_pressure_max_lag3  sea_level_pressure_min_lag3  sea_level_pressure_std_lag3  wind_direction_mean_lag3  wind_direction_max_lag3  wind_direction_min_lag3  wind_direction_std_lag3  wind_speed_mean_lag3  wind_speed_max_lag3  wind_speed_min_lag3  wind_speed_std_lag3  time_idx  \\\n",
       "0        1029     0 2016-01-01        246.000      11   Education       152559      1970.0          3.0             -1.8             9.0             -3.2                0.0              1016.0           280.0         1.5     0    1        4     1                 -14.703125                -14.703125                -14.703125                       NaN                       9.0                      9.0                      9.0                      NaN                  -16.40625                 -16.40625                 -16.40625                       NaN                          2.0                         2.0                         2.0                         NaN                        1008.5                       1008.5                       1008.5                          NaN                      60.0                     60.0                     60.0                      NaN              2.099609             2.099609             2.099609                  NaN         0   \n",
       "1        1029     3 2016-01-01        140.929      11   Education       152559      1970.0          3.0             -1.8             9.0             -3.2                0.0              1016.0           280.0         1.5     0    1        4     1                 -14.703125                -14.703125                -14.703125                       0.0                       9.0                      9.0                      9.0                      0.0                  -16.40625                 -16.40625                 -16.40625                       0.0                          2.0                         2.0                         2.0                         0.0                        1008.5                       1008.5                       1008.5                          0.0                      60.0                     60.0                     60.0                      0.0              2.099609             2.099609             2.099609                  0.0         0   \n",
       "\n",
       "   log_meter_reading  \n",
       "0           5.509388  \n",
       "1           4.955327  "
      ]
     },
     "execution_count": 190,
     "metadata": {},
     "output_type": "execute_result"
    }
   ],
   "source": [
    "data.head(2)"
   ]
  },
  {
   "cell_type": "code",
   "execution_count": 191,
   "metadata": {
    "executionInfo": {
     "elapsed": 16,
     "status": "ok",
     "timestamp": 1651517618486,
     "user": {
      "displayName": "a. mishra",
      "userId": "11561480260359570297"
     },
     "user_tz": 300
    },
    "id": "FiN6uDKR1SNb"
   },
   "outputs": [
    {
     "name": "stderr",
     "output_type": "stream",
     "text": [
      "/usr/local/lib/python3.6/dist-packages/ipykernel_launcher.py:1: SettingWithCopyWarning: \n",
      "A value is trying to be set on a copy of a slice from a DataFrame.\n",
      "Try using .loc[row_indexer,col_indexer] = value instead\n",
      "\n",
      "See the caveats in the documentation: https://pandas.pydata.org/pandas-docs/stable/user_guide/indexing.html#returning-a-view-versus-a-copy\n",
      "  \"\"\"Entry point for launching an IPython kernel.\n"
     ]
    }
   ],
   "source": [
    "data['log_meter_reading'] = np.log(data['meter_reading']+1)"
   ]
  },
  {
   "cell_type": "code",
   "execution_count": 192,
   "metadata": {
    "executionInfo": {
     "elapsed": 16,
     "status": "ok",
     "timestamp": 1651517618486,
     "user": {
      "displayName": "a. mishra",
      "userId": "11561480260359570297"
     },
     "user_tz": 300
    },
    "id": "E_G9_vTw3j0e"
   },
   "outputs": [],
   "source": [
    "train = data[data['date'].dt.month !=\"12\"]"
   ]
  },
  {
   "cell_type": "code",
   "execution_count": null,
   "metadata": {
    "executionInfo": {
     "elapsed": 15,
     "status": "ok",
     "timestamp": 1651517618486,
     "user": {
      "displayName": "a. mishra",
      "userId": "11561480260359570297"
     },
     "user_tz": 300
    },
    "id": "5Fpk-s4g0pDh"
   },
   "outputs": [],
   "source": []
  },
  {
   "cell_type": "code",
   "execution_count": 193,
   "metadata": {
    "colab": {
     "base_uri": "https://localhost:8080/"
    },
    "executionInfo": {
     "elapsed": 15,
     "status": "ok",
     "timestamp": 1651517618486,
     "user": {
      "displayName": "a. mishra",
      "userId": "11561480260359570297"
     },
     "user_tz": 300
    },
    "id": "0sdKtEYD3moj",
    "outputId": "383ddf18-8510-4661-f5fc-cf8f1fc0dbd0"
   },
   "outputs": [
    {
     "data": {
      "text/plain": [
       "array(['building_id', 'meter', 'date', 'meter_reading', 'site_id',\n",
       "       'primary_use', 'square_feet', 'year_built', 'floor_count',\n",
       "       'air_temperature', 'cloud_coverage', 'dew_temperature',\n",
       "       'precip_depth_1_hr', 'sea_level_pressure', 'wind_direction',\n",
       "       'wind_speed', 'hour', 'day', 'weekend', 'month',\n",
       "       'air_temperature_mean_lag3', 'air_temperature_max_lag3',\n",
       "       'air_temperature_min_lag3', 'air_temperature_std_lag3',\n",
       "       'cloud_coverage_mean_lag3', 'cloud_coverage_max_lag3',\n",
       "       'cloud_coverage_min_lag3', 'cloud_coverage_std_lag3',\n",
       "       'dew_temperature_mean_lag3', 'dew_temperature_max_lag3',\n",
       "       'dew_temperature_min_lag3', 'dew_temperature_std_lag3',\n",
       "       'precip_depth_1_hr_mean_lag3', 'precip_depth_1_hr_max_lag3',\n",
       "       'precip_depth_1_hr_min_lag3', 'precip_depth_1_hr_std_lag3',\n",
       "       'sea_level_pressure_mean_lag3', 'sea_level_pressure_max_lag3',\n",
       "       'sea_level_pressure_min_lag3', 'sea_level_pressure_std_lag3',\n",
       "       'wind_direction_mean_lag3', 'wind_direction_max_lag3',\n",
       "       'wind_direction_min_lag3', 'wind_direction_std_lag3',\n",
       "       'wind_speed_mean_lag3', 'wind_speed_max_lag3',\n",
       "       'wind_speed_min_lag3', 'wind_speed_std_lag3', 'time_idx',\n",
       "       'log_meter_reading'], dtype=object)"
      ]
     },
     "execution_count": 193,
     "metadata": {},
     "output_type": "execute_result"
    }
   ],
   "source": [
    "train.columns.values"
   ]
  },
  {
   "cell_type": "code",
   "execution_count": 194,
   "metadata": {
    "executionInfo": {
     "elapsed": 8,
     "status": "ok",
     "timestamp": 1651517618486,
     "user": {
      "displayName": "a. mishra",
      "userId": "11561480260359570297"
     },
     "user_tz": 300
    },
    "id": "Als48kai4ol4"
   },
   "outputs": [],
   "source": [
    "static_rr = ['square_feet', 'floor_count',\n",
    "       'air_temperature', 'cloud_coverage', 'dew_temperature',\n",
    "       'precip_depth_1_hr', 'sea_level_pressure', 'wind_direction',\n",
    "       'wind_speed' , 'air_temperature_mean_lag3', 'air_temperature_max_lag3',\n",
    "       'air_temperature_min_lag3', 'air_temperature_std_lag3',\n",
    "       'cloud_coverage_mean_lag3', 'cloud_coverage_max_lag3',\n",
    "       'cloud_coverage_min_lag3', 'cloud_coverage_std_lag3',\n",
    "       'dew_temperature_mean_lag3', 'dew_temperature_max_lag3',\n",
    "       'dew_temperature_min_lag3', 'dew_temperature_std_lag3',\n",
    "       'precip_depth_1_hr_mean_lag3', 'precip_depth_1_hr_max_lag3',\n",
    "       'precip_depth_1_hr_min_lag3', 'precip_depth_1_hr_std_lag3',\n",
    "       'sea_level_pressure_mean_lag3', 'sea_level_pressure_max_lag3',\n",
    "       'sea_level_pressure_min_lag3', 'sea_level_pressure_std_lag3',\n",
    "       'wind_direction_mean_lag3', 'wind_direction_max_lag3',\n",
    "       'wind_direction_min_lag3', 'wind_direction_std_lag3',\n",
    "       'wind_speed_mean_lag3', 'wind_speed_max_lag3',\n",
    "       'wind_speed_min_lag3', 'wind_speed_std_lag3', 'time_idx']"
   ]
  },
  {
   "cell_type": "code",
   "execution_count": 195,
   "metadata": {
    "executionInfo": {
     "elapsed": 8,
     "status": "ok",
     "timestamp": 1651517618486,
     "user": {
      "displayName": "a. mishra",
      "userId": "11561480260359570297"
     },
     "user_tz": 300
    },
    "id": "VSbEfxne46Ha"
   },
   "outputs": [],
   "source": [
    "static_categoricalss = ['primary_use', 'month', 'meter']"
   ]
  },
  {
   "cell_type": "code",
   "execution_count": null,
   "metadata": {
    "executionInfo": {
     "elapsed": 8,
     "status": "ok",
     "timestamp": 1651517618487,
     "user": {
      "displayName": "a. mishra",
      "userId": "11561480260359570297"
     },
     "user_tz": 300
    },
    "id": "Sx1ya14B6r2c"
   },
   "outputs": [],
   "source": []
  },
  {
   "cell_type": "code",
   "execution_count": 196,
   "metadata": {
    "executionInfo": {
     "elapsed": 8,
     "status": "ok",
     "timestamp": 1651517618487,
     "user": {
      "displayName": "a. mishra",
      "userId": "11561480260359570297"
     },
     "user_tz": 300
    },
    "id": "7AvPQey8yU_C"
   },
   "outputs": [],
   "source": [
    "import pytorch_forecasting"
   ]
  },
  {
   "cell_type": "code",
   "execution_count": 197,
   "metadata": {
    "colab": {
     "base_uri": "https://localhost:8080/"
    },
    "executionInfo": {
     "elapsed": 6,
     "status": "ok",
     "timestamp": 1651517618715,
     "user": {
      "displayName": "a. mishra",
      "userId": "11561480260359570297"
     },
     "user_tz": 300
    },
    "id": "RU-flwrNz0rW",
    "outputId": "06df42cc-5ccd-4f88-c03c-0f30626eed4d"
   },
   "outputs": [],
   "source": [
    "train['meter_reading'] = train['meter_reading'].astype(np.float64)\n",
    "train['log_meter_reading'] = train['log_meter_reading'].astype(np.float64)"
   ]
  },
  {
   "cell_type": "code",
   "execution_count": 198,
   "metadata": {
    "colab": {
     "base_uri": "https://localhost:8080/",
     "height": 209
    },
    "executionInfo": {
     "elapsed": 4,
     "status": "ok",
     "timestamp": 1651517618715,
     "user": {
      "displayName": "a. mishra",
      "userId": "11561480260359570297"
     },
     "user_tz": 300
    },
    "id": "4VbXj7u60hsn",
    "outputId": "82e06e5e-8e24-4ef4-9110-6f550e24086f"
   },
   "outputs": [
    {
     "data": {
      "text/html": [
       "<div>\n",
       "<style scoped>\n",
       "    .dataframe tbody tr th:only-of-type {\n",
       "        vertical-align: middle;\n",
       "    }\n",
       "\n",
       "    .dataframe tbody tr th {\n",
       "        vertical-align: top;\n",
       "    }\n",
       "\n",
       "    .dataframe thead th {\n",
       "        text-align: right;\n",
       "    }\n",
       "</style>\n",
       "<table border=\"1\" class=\"dataframe\">\n",
       "  <thead>\n",
       "    <tr style=\"text-align: right;\">\n",
       "      <th></th>\n",
       "      <th>building_id</th>\n",
       "      <th>meter</th>\n",
       "      <th>date</th>\n",
       "      <th>meter_reading</th>\n",
       "      <th>site_id</th>\n",
       "      <th>primary_use</th>\n",
       "      <th>square_feet</th>\n",
       "      <th>year_built</th>\n",
       "      <th>floor_count</th>\n",
       "      <th>air_temperature</th>\n",
       "      <th>cloud_coverage</th>\n",
       "      <th>dew_temperature</th>\n",
       "      <th>precip_depth_1_hr</th>\n",
       "      <th>sea_level_pressure</th>\n",
       "      <th>wind_direction</th>\n",
       "      <th>wind_speed</th>\n",
       "      <th>hour</th>\n",
       "      <th>day</th>\n",
       "      <th>weekend</th>\n",
       "      <th>month</th>\n",
       "      <th>air_temperature_mean_lag3</th>\n",
       "      <th>air_temperature_max_lag3</th>\n",
       "      <th>air_temperature_min_lag3</th>\n",
       "      <th>air_temperature_std_lag3</th>\n",
       "      <th>cloud_coverage_mean_lag3</th>\n",
       "      <th>cloud_coverage_max_lag3</th>\n",
       "      <th>cloud_coverage_min_lag3</th>\n",
       "      <th>cloud_coverage_std_lag3</th>\n",
       "      <th>dew_temperature_mean_lag3</th>\n",
       "      <th>dew_temperature_max_lag3</th>\n",
       "      <th>dew_temperature_min_lag3</th>\n",
       "      <th>dew_temperature_std_lag3</th>\n",
       "      <th>precip_depth_1_hr_mean_lag3</th>\n",
       "      <th>precip_depth_1_hr_max_lag3</th>\n",
       "      <th>precip_depth_1_hr_min_lag3</th>\n",
       "      <th>precip_depth_1_hr_std_lag3</th>\n",
       "      <th>sea_level_pressure_mean_lag3</th>\n",
       "      <th>sea_level_pressure_max_lag3</th>\n",
       "      <th>sea_level_pressure_min_lag3</th>\n",
       "      <th>sea_level_pressure_std_lag3</th>\n",
       "      <th>wind_direction_mean_lag3</th>\n",
       "      <th>wind_direction_max_lag3</th>\n",
       "      <th>wind_direction_min_lag3</th>\n",
       "      <th>wind_direction_std_lag3</th>\n",
       "      <th>wind_speed_mean_lag3</th>\n",
       "      <th>wind_speed_max_lag3</th>\n",
       "      <th>wind_speed_min_lag3</th>\n",
       "      <th>wind_speed_std_lag3</th>\n",
       "      <th>time_idx</th>\n",
       "      <th>log_meter_reading</th>\n",
       "    </tr>\n",
       "  </thead>\n",
       "  <tbody>\n",
       "    <tr>\n",
       "      <th>0</th>\n",
       "      <td>1029</td>\n",
       "      <td>0</td>\n",
       "      <td>2016-01-01</td>\n",
       "      <td>246.000</td>\n",
       "      <td>11</td>\n",
       "      <td>Education</td>\n",
       "      <td>152559</td>\n",
       "      <td>1970.0</td>\n",
       "      <td>3.0</td>\n",
       "      <td>-1.8</td>\n",
       "      <td>9.0</td>\n",
       "      <td>-3.2</td>\n",
       "      <td>0.0</td>\n",
       "      <td>1016.0</td>\n",
       "      <td>280.0</td>\n",
       "      <td>1.5</td>\n",
       "      <td>0</td>\n",
       "      <td>1</td>\n",
       "      <td>4</td>\n",
       "      <td>1</td>\n",
       "      <td>-14.703125</td>\n",
       "      <td>-14.703125</td>\n",
       "      <td>-14.703125</td>\n",
       "      <td>NaN</td>\n",
       "      <td>9.0</td>\n",
       "      <td>9.0</td>\n",
       "      <td>9.0</td>\n",
       "      <td>NaN</td>\n",
       "      <td>-16.40625</td>\n",
       "      <td>-16.40625</td>\n",
       "      <td>-16.40625</td>\n",
       "      <td>NaN</td>\n",
       "      <td>2.0</td>\n",
       "      <td>2.0</td>\n",
       "      <td>2.0</td>\n",
       "      <td>NaN</td>\n",
       "      <td>1008.5</td>\n",
       "      <td>1008.5</td>\n",
       "      <td>1008.5</td>\n",
       "      <td>NaN</td>\n",
       "      <td>60.0</td>\n",
       "      <td>60.0</td>\n",
       "      <td>60.0</td>\n",
       "      <td>NaN</td>\n",
       "      <td>2.099609</td>\n",
       "      <td>2.099609</td>\n",
       "      <td>2.099609</td>\n",
       "      <td>NaN</td>\n",
       "      <td>0</td>\n",
       "      <td>5.509388</td>\n",
       "    </tr>\n",
       "    <tr>\n",
       "      <th>1</th>\n",
       "      <td>1029</td>\n",
       "      <td>3</td>\n",
       "      <td>2016-01-01</td>\n",
       "      <td>140.929</td>\n",
       "      <td>11</td>\n",
       "      <td>Education</td>\n",
       "      <td>152559</td>\n",
       "      <td>1970.0</td>\n",
       "      <td>3.0</td>\n",
       "      <td>-1.8</td>\n",
       "      <td>9.0</td>\n",
       "      <td>-3.2</td>\n",
       "      <td>0.0</td>\n",
       "      <td>1016.0</td>\n",
       "      <td>280.0</td>\n",
       "      <td>1.5</td>\n",
       "      <td>0</td>\n",
       "      <td>1</td>\n",
       "      <td>4</td>\n",
       "      <td>1</td>\n",
       "      <td>-14.703125</td>\n",
       "      <td>-14.703125</td>\n",
       "      <td>-14.703125</td>\n",
       "      <td>0.0</td>\n",
       "      <td>9.0</td>\n",
       "      <td>9.0</td>\n",
       "      <td>9.0</td>\n",
       "      <td>0.0</td>\n",
       "      <td>-16.40625</td>\n",
       "      <td>-16.40625</td>\n",
       "      <td>-16.40625</td>\n",
       "      <td>0.0</td>\n",
       "      <td>2.0</td>\n",
       "      <td>2.0</td>\n",
       "      <td>2.0</td>\n",
       "      <td>0.0</td>\n",
       "      <td>1008.5</td>\n",
       "      <td>1008.5</td>\n",
       "      <td>1008.5</td>\n",
       "      <td>0.0</td>\n",
       "      <td>60.0</td>\n",
       "      <td>60.0</td>\n",
       "      <td>60.0</td>\n",
       "      <td>0.0</td>\n",
       "      <td>2.099609</td>\n",
       "      <td>2.099609</td>\n",
       "      <td>2.099609</td>\n",
       "      <td>0.0</td>\n",
       "      <td>0</td>\n",
       "      <td>4.955327</td>\n",
       "    </tr>\n",
       "  </tbody>\n",
       "</table>\n",
       "</div>"
      ],
      "text/plain": [
       "  building_id meter       date  meter_reading site_id primary_use  square_feet  year_built  floor_count  air_temperature  cloud_coverage  dew_temperature  precip_depth_1_hr  sea_level_pressure  wind_direction  wind_speed  hour  day  weekend month  air_temperature_mean_lag3  air_temperature_max_lag3  air_temperature_min_lag3  air_temperature_std_lag3  cloud_coverage_mean_lag3  cloud_coverage_max_lag3  cloud_coverage_min_lag3  cloud_coverage_std_lag3  dew_temperature_mean_lag3  dew_temperature_max_lag3  dew_temperature_min_lag3  dew_temperature_std_lag3  precip_depth_1_hr_mean_lag3  precip_depth_1_hr_max_lag3  precip_depth_1_hr_min_lag3  precip_depth_1_hr_std_lag3  sea_level_pressure_mean_lag3  sea_level_pressure_max_lag3  sea_level_pressure_min_lag3  sea_level_pressure_std_lag3  wind_direction_mean_lag3  wind_direction_max_lag3  wind_direction_min_lag3  wind_direction_std_lag3  wind_speed_mean_lag3  wind_speed_max_lag3  wind_speed_min_lag3  wind_speed_std_lag3  time_idx  \\\n",
       "0        1029     0 2016-01-01        246.000      11   Education       152559      1970.0          3.0             -1.8             9.0             -3.2                0.0              1016.0           280.0         1.5     0    1        4     1                 -14.703125                -14.703125                -14.703125                       NaN                       9.0                      9.0                      9.0                      NaN                  -16.40625                 -16.40625                 -16.40625                       NaN                          2.0                         2.0                         2.0                         NaN                        1008.5                       1008.5                       1008.5                          NaN                      60.0                     60.0                     60.0                      NaN              2.099609             2.099609             2.099609                  NaN         0   \n",
       "1        1029     3 2016-01-01        140.929      11   Education       152559      1970.0          3.0             -1.8             9.0             -3.2                0.0              1016.0           280.0         1.5     0    1        4     1                 -14.703125                -14.703125                -14.703125                       0.0                       9.0                      9.0                      9.0                      0.0                  -16.40625                 -16.40625                 -16.40625                       0.0                          2.0                         2.0                         2.0                         0.0                        1008.5                       1008.5                       1008.5                          0.0                      60.0                     60.0                     60.0                      0.0              2.099609             2.099609             2.099609                  0.0         0   \n",
       "\n",
       "   log_meter_reading  \n",
       "0           5.509388  \n",
       "1           4.955327  "
      ]
     },
     "execution_count": 198,
     "metadata": {},
     "output_type": "execute_result"
    }
   ],
   "source": [
    "train.head(2)"
   ]
  },
  {
   "cell_type": "code",
   "execution_count": 199,
   "metadata": {
    "colab": {
     "base_uri": "https://localhost:8080/"
    },
    "executionInfo": {
     "elapsed": 13,
     "status": "ok",
     "timestamp": 1651517618842,
     "user": {
      "displayName": "a. mishra",
      "userId": "11561480260359570297"
     },
     "user_tz": 300
    },
    "id": "ewE_j0iU7sw7",
    "outputId": "b9e3eb70-a19e-4596-b092-12639f560e1f"
   },
   "outputs": [],
   "source": [
    "train['air_temperature_std_lag3'].fillna(0.0, inplace = True )\n",
    "train['cloud_coverage_std_lag3'].fillna(0.0, inplace = True )\n",
    "train['dew_temperature_std_lag3'].fillna(0.0, inplace = True )\n",
    "train['precip_depth_1_hr_std_lag3'].fillna(0.0, inplace = True )\n",
    "train['wind_direction_std_lag3'].fillna(0.0, inplace = True )\n",
    "train['wind_speed_std_lag3'].fillna(0.0, inplace = True )\n",
    "train['sea_level_pressure_std_lag3'].fillna(0.0, inplace = True )"
   ]
  },
  {
   "cell_type": "code",
   "execution_count": 200,
   "metadata": {
    "executionInfo": {
     "elapsed": 6,
     "status": "ok",
     "timestamp": 1651517618842,
     "user": {
      "displayName": "a. mishra",
      "userId": "11561480260359570297"
     },
     "user_tz": 300
    },
    "id": "G_JkjrO872nk"
   },
   "outputs": [
    {
     "name": "stderr",
     "output_type": "stream",
     "text": [
      "/usr/local/lib/python3.6/dist-packages/pandas/core/series.py:4536: SettingWithCopyWarning: \n",
      "A value is trying to be set on a copy of a slice from a DataFrame\n",
      "\n",
      "See the caveats in the documentation: https://pandas.pydata.org/pandas-docs/stable/user_guide/indexing.html#returning-a-view-versus-a-copy\n",
      "  downcast=downcast,\n"
     ]
    }
   ],
   "source": [
    "data['air_temperature_std_lag3'].fillna(0.0, inplace = True )\n",
    "data['cloud_coverage_std_lag3'].fillna(0.0, inplace = True )\n",
    "data['dew_temperature_std_lag3'].fillna(0.0, inplace = True )\n",
    "data['precip_depth_1_hr_std_lag3'].fillna(0.0, inplace = True )\n",
    "data['wind_direction_std_lag3'].fillna(0.0, inplace = True )\n",
    "data['wind_speed_std_lag3'].fillna(0.0, inplace = True )\n",
    "data['sea_level_pressure_std_lag3'].fillna(0.0, inplace = True )"
   ]
  },
  {
   "cell_type": "code",
   "execution_count": null,
   "metadata": {
    "executionInfo": {
     "elapsed": 6,
     "status": "ok",
     "timestamp": 1651517618843,
     "user": {
      "displayName": "a. mishra",
      "userId": "11561480260359570297"
     },
     "user_tz": 300
    },
    "id": "QAtDinp47kM0"
   },
   "outputs": [],
   "source": []
  },
  {
   "cell_type": "code",
   "execution_count": null,
   "metadata": {
    "executionInfo": {
     "elapsed": 5,
     "status": "ok",
     "timestamp": 1651517618843,
     "user": {
      "displayName": "a. mishra",
      "userId": "11561480260359570297"
     },
     "user_tz": 300
    },
    "id": "4jka7IMB7kQC"
   },
   "outputs": [],
   "source": []
  },
  {
   "cell_type": "code",
   "execution_count": 201,
   "metadata": {
    "executionInfo": {
     "elapsed": 357,
     "status": "ok",
     "timestamp": 1651517620233,
     "user": {
      "displayName": "a. mishra",
      "userId": "11561480260359570297"
     },
     "user_tz": 300
    },
    "id": "fzC_ZHQt62Xx"
   },
   "outputs": [
    {
     "name": "stderr",
     "output_type": "stream",
     "text": [
      "/usr/local/lib/python3.6/dist-packages/ipykernel_launcher.py:1: SettingWithCopyWarning: \n",
      "A value is trying to be set on a copy of a slice from a DataFrame.\n",
      "Try using .loc[row_indexer,col_indexer] = value instead\n",
      "\n",
      "See the caveats in the documentation: https://pandas.pydata.org/pandas-docs/stable/user_guide/indexing.html#returning-a-view-versus-a-copy\n",
      "  \"\"\"Entry point for launching an IPython kernel.\n",
      "/usr/local/lib/python3.6/dist-packages/ipykernel_launcher.py:2: SettingWithCopyWarning: \n",
      "A value is trying to be set on a copy of a slice from a DataFrame.\n",
      "Try using .loc[row_indexer,col_indexer] = value instead\n",
      "\n",
      "See the caveats in the documentation: https://pandas.pydata.org/pandas-docs/stable/user_guide/indexing.html#returning-a-view-versus-a-copy\n",
      "  \n",
      "/usr/local/lib/python3.6/dist-packages/ipykernel_launcher.py:3: SettingWithCopyWarning: \n",
      "A value is trying to be set on a copy of a slice from a DataFrame.\n",
      "Try using .loc[row_indexer,col_indexer] = value instead\n",
      "\n",
      "See the caveats in the documentation: https://pandas.pydata.org/pandas-docs/stable/user_guide/indexing.html#returning-a-view-versus-a-copy\n",
      "  This is separate from the ipykernel package so we can avoid doing imports until\n"
     ]
    }
   ],
   "source": [
    "data['building_id'] = data['building_id'].astype(\"category\")\n",
    "data['site_id'] = data['site_id'].astype(\"category\")\n",
    "data['meter'] = data['meter'].astype(\"category\")"
   ]
  },
  {
   "cell_type": "code",
   "execution_count": 202,
   "metadata": {
    "colab": {
     "base_uri": "https://localhost:8080/"
    },
    "executionInfo": {
     "elapsed": 4,
     "status": "ok",
     "timestamp": 1651517620520,
     "user": {
      "displayName": "a. mishra",
      "userId": "11561480260359570297"
     },
     "user_tz": 300
    },
    "id": "AA_CAfUW7Hzb",
    "outputId": "cfecb6aa-e976-423d-b6fc-1b80fe70459a"
   },
   "outputs": [],
   "source": [
    "train['building_id'] = train['building_id'].astype(\"category\")\n",
    "train['site_id'] = train['site_id'].astype(\"category\")\n",
    "train['meter'] = train['meter'].astype(\"category\")"
   ]
  },
  {
   "cell_type": "code",
   "execution_count": null,
   "metadata": {
    "executionInfo": {
     "elapsed": 3,
     "status": "ok",
     "timestamp": 1651517620804,
     "user": {
      "displayName": "a. mishra",
      "userId": "11561480260359570297"
     },
     "user_tz": 300
    },
    "id": "1khjws9k7bmj"
   },
   "outputs": [],
   "source": []
  },
  {
   "cell_type": "code",
   "execution_count": 203,
   "metadata": {
    "colab": {
     "base_uri": "https://localhost:8080/"
    },
    "executionInfo": {
     "elapsed": 169,
     "status": "ok",
     "timestamp": 1651517622083,
     "user": {
      "displayName": "a. mishra",
      "userId": "11561480260359570297"
     },
     "user_tz": 300
    },
    "id": "UdjsBdI03oHs",
    "outputId": "dc8835c9-cd8f-46cd-cd84-0e56fec97bc1"
   },
   "outputs": [
    {
     "data": {
      "text/plain": [
       "(119459, 50)"
      ]
     },
     "execution_count": 203,
     "metadata": {},
     "output_type": "execute_result"
    }
   ],
   "source": [
    "train.shape"
   ]
  },
  {
   "cell_type": "code",
   "execution_count": 204,
   "metadata": {
    "colab": {
     "base_uri": "https://localhost:8080/"
    },
    "executionInfo": {
     "elapsed": 3,
     "status": "ok",
     "timestamp": 1651517622315,
     "user": {
      "displayName": "a. mishra",
      "userId": "11561480260359570297"
     },
     "user_tz": 300
    },
    "id": "SvJ02we83oJ8",
    "outputId": "3b4075ea-c81e-44a2-f3d2-97b70a908287"
   },
   "outputs": [
    {
     "data": {
      "text/plain": [
       "(119459, 50)"
      ]
     },
     "execution_count": 204,
     "metadata": {},
     "output_type": "execute_result"
    }
   ],
   "source": [
    "data.shape"
   ]
  },
  {
   "cell_type": "code",
   "execution_count": 205,
   "metadata": {
    "colab": {
     "base_uri": "https://localhost:8080/"
    },
    "executionInfo": {
     "elapsed": 159,
     "status": "ok",
     "timestamp": 1651517623509,
     "user": {
      "displayName": "a. mishra",
      "userId": "11561480260359570297"
     },
     "user_tz": 300
    },
    "id": "hB1Xvhjw8zrd",
    "outputId": "faced786-081a-4fc0-f415-bcce233b05bf"
   },
   "outputs": [
    {
     "data": {
      "text/plain": [
       "['primary_use', 'month', 'meter']"
      ]
     },
     "execution_count": 205,
     "metadata": {},
     "output_type": "execute_result"
    }
   ],
   "source": [
    "static_categoricalss"
   ]
  },
  {
   "cell_type": "code",
   "execution_count": 206,
   "metadata": {
    "colab": {
     "base_uri": "https://localhost:8080/"
    },
    "executionInfo": {
     "elapsed": 3,
     "status": "ok",
     "timestamp": 1651517623628,
     "user": {
      "displayName": "a. mishra",
      "userId": "11561480260359570297"
     },
     "user_tz": 300
    },
    "id": "0DQDVGgD9CE2",
    "outputId": "ff705b0b-15ed-402d-a799-c892f35af31c"
   },
   "outputs": [],
   "source": [
    "train['primary_use'] = train['primary_use'].astype(\"category\")"
   ]
  },
  {
   "cell_type": "code",
   "execution_count": 207,
   "metadata": {
    "executionInfo": {
     "elapsed": 110,
     "status": "ok",
     "timestamp": 1651517624246,
     "user": {
      "displayName": "a. mishra",
      "userId": "11561480260359570297"
     },
     "user_tz": 300
    },
    "id": "hvH_JCVoAjM3"
   },
   "outputs": [
    {
     "name": "stderr",
     "output_type": "stream",
     "text": [
      "/usr/local/lib/python3.6/dist-packages/ipykernel_launcher.py:1: SettingWithCopyWarning: \n",
      "A value is trying to be set on a copy of a slice from a DataFrame.\n",
      "Try using .loc[row_indexer,col_indexer] = value instead\n",
      "\n",
      "See the caveats in the documentation: https://pandas.pydata.org/pandas-docs/stable/user_guide/indexing.html#returning-a-view-versus-a-copy\n",
      "  \"\"\"Entry point for launching an IPython kernel.\n"
     ]
    }
   ],
   "source": [
    "data['primary_use'] = data['primary_use'].astype(\"category\")"
   ]
  },
  {
   "cell_type": "code",
   "execution_count": 208,
   "metadata": {
    "colab": {
     "base_uri": "https://localhost:8080/"
    },
    "executionInfo": {
     "elapsed": 3,
     "status": "ok",
     "timestamp": 1651517624435,
     "user": {
      "displayName": "a. mishra",
      "userId": "11561480260359570297"
     },
     "user_tz": 300
    },
    "id": "qlU3d9IM8zvJ",
    "outputId": "95da28b0-c980-4743-e9d7-913e2a3cece9"
   },
   "outputs": [
    {
     "data": {
      "text/plain": [
       "CategoricalDtype(categories=['1028', '1029', '1030', '1031', '1032'], ordered=False)"
      ]
     },
     "execution_count": 208,
     "metadata": {},
     "output_type": "execute_result"
    }
   ],
   "source": [
    "train['building_id'].dtypes"
   ]
  },
  {
   "cell_type": "code",
   "execution_count": 209,
   "metadata": {
    "executionInfo": {
     "elapsed": 195,
     "status": "ok",
     "timestamp": 1651517627093,
     "user": {
      "displayName": "a. mishra",
      "userId": "11561480260359570297"
     },
     "user_tz": 300
    },
    "id": "j-XpUXlK9kWG"
   },
   "outputs": [],
   "source": [
    "\n",
    "max_prediction_length = 1\n",
    "max_encoder_length = 6\n",
    "training_cutoff = train[\"time_idx\"].max() - max_prediction_length"
   ]
  },
  {
   "cell_type": "code",
   "execution_count": null,
   "metadata": {},
   "outputs": [],
   "source": []
  },
  {
   "cell_type": "code",
   "execution_count": null,
   "metadata": {},
   "outputs": [],
   "source": []
  },
  {
   "cell_type": "code",
   "execution_count": null,
   "metadata": {},
   "outputs": [],
   "source": []
  },
  {
   "cell_type": "code",
   "execution_count": 212,
   "metadata": {
    "colab": {
     "base_uri": "https://localhost:8080/"
    },
    "executionInfo": {
     "elapsed": 3015,
     "status": "ok",
     "timestamp": 1651517631547,
     "user": {
      "displayName": "a. mishra",
      "userId": "11561480260359570297"
     },
     "user_tz": 300
    },
    "id": "pp47BZcc3wTq",
    "outputId": "baea1581-5ddc-4aa9-eb50-277ee1038a28"
   },
   "outputs": [
    {
     "name": "stderr",
     "output_type": "stream",
     "text": [
      "/home/ubuntu/.local/lib/python3.6/site-packages/pytorch_forecasting/data/encoders.py:121: UserWarning: Found 5 unknown classes which were set to NaN\n",
      "  UserWarning,\n",
      "/home/ubuntu/.local/lib/python3.6/site-packages/pytorch_forecasting/data/encoders.py:121: UserWarning: Found 1 unknown classes which were set to NaN\n",
      "  UserWarning,\n",
      "/home/ubuntu/.local/lib/python3.6/site-packages/pytorch_forecasting/data/encoders.py:121: UserWarning: Found 11 unknown classes which were set to NaN\n",
      "  UserWarning,\n",
      "/home/ubuntu/.local/lib/python3.6/site-packages/pytorch_forecasting/data/encoders.py:121: UserWarning: Found 3 unknown classes which were set to NaN\n",
      "  UserWarning,\n",
      "/home/ubuntu/.local/lib/python3.6/site-packages/pytorch_forecasting/data/encoders.py:121: UserWarning: Found 5 unknown classes which were set to NaN\n",
      "  UserWarning,\n",
      "/home/ubuntu/.local/lib/python3.6/site-packages/pytorch_forecasting/data/encoders.py:121: UserWarning: Found 1 unknown classes which were set to NaN\n",
      "  UserWarning,\n",
      "/home/ubuntu/.local/lib/python3.6/site-packages/pytorch_forecasting/data/encoders.py:121: UserWarning: Found 12 unknown classes which were set to NaN\n",
      "  UserWarning,\n",
      "/home/ubuntu/.local/lib/python3.6/site-packages/pytorch_forecasting/data/encoders.py:121: UserWarning: Found 3 unknown classes which were set to NaN\n",
      "  UserWarning,\n"
     ]
    }
   ],
   "source": [
    "\n",
    "\n",
    "training = TimeSeriesDataSet(\n",
    "    train[lambda x: x.time_idx <= training_cutoff],\n",
    "    time_idx=\"time_idx\",\n",
    "    target= \"log_meter_reading\",\n",
    "    group_ids=[\"building_id\", \"site_id\"],\n",
    "    min_encoder_length=max_encoder_length // 2,  # keep encoder length long (as it is in the validation set)\n",
    "    max_encoder_length=max_encoder_length,\n",
    "    min_prediction_length=1,\n",
    "    max_prediction_length= max_prediction_length,\n",
    "    static_categoricals= [\"building_id\", \"site_id\"],\n",
    "    static_reals= [],\n",
    "    time_varying_known_categoricals = ['month'],\n",
    "    time_varying_known_reals = static_rr,\n",
    "    time_varying_unknown_categoricals=['primary_use', 'meter'],\n",
    "    time_varying_unknown_reals=[],\n",
    "    target_normalizer=GroupNormalizer(\n",
    "        groups=[\"building_id\", \"site_id\"], transformation=\"softplus\"\n",
    "    ),  # use softplus and normalize by group\n",
    "    categorical_encoders=\n",
    "    {'meter': pytorch_forecasting.data.encoders.NaNLabelEncoder(add_nan=True),\n",
    "     'month': pytorch_forecasting.data.encoders.NaNLabelEncoder(add_nan=True),\n",
    "     'primary_use': pytorch_forecasting.data.encoders.NaNLabelEncoder(add_nan=True),\n",
    "     'building_id': pytorch_forecasting.data.encoders.NaNLabelEncoder(add_nan=True),\n",
    "     'site_id': pytorch_forecasting.data.encoders.NaNLabelEncoder(add_nan=True)},\n",
    "    add_relative_time_idx=True,\n",
    "    add_target_scales=True,\n",
    "    add_encoder_length=True,\n",
    "    allow_missing_timesteps = True\n",
    "\n",
    "\n",
    ")\n",
    "validation = TimeSeriesDataSet.from_dataset(training, train, predict=True, stop_randomization=True)"
   ]
  },
  {
   "cell_type": "code",
   "execution_count": 213,
   "metadata": {
    "executionInfo": {
     "elapsed": 94,
     "status": "ok",
     "timestamp": 1651517681189,
     "user": {
      "displayName": "a. mishra",
      "userId": "11561480260359570297"
     },
     "user_tz": 300
    },
    "id": "zyTN4r6BvhyP"
   },
   "outputs": [],
   "source": [
    "batch_size = 128  # set this between 32 to 128\n",
    "train_dataloader = training.to_dataloader(train=True, batch_size=batch_size, num_workers=0)\n",
    "val_dataloader = validation.to_dataloader(train=False, batch_size=batch_size * 10, num_workers=0)"
   ]
  },
  {
   "cell_type": "code",
   "execution_count": 214,
   "metadata": {},
   "outputs": [
    {
     "data": {
      "text/plain": [
       "128"
      ]
     },
     "execution_count": 214,
     "metadata": {},
     "output_type": "execute_result"
    }
   ],
   "source": [
    "batch_size"
   ]
  },
  {
   "cell_type": "code",
   "execution_count": 215,
   "metadata": {
    "colab": {
     "base_uri": "https://localhost:8080/"
    },
    "executionInfo": {
     "elapsed": 232,
     "status": "ok",
     "timestamp": 1651517681911,
     "user": {
      "displayName": "a. mishra",
      "userId": "11561480260359570297"
     },
     "user_tz": 300
    },
    "id": "RNpmDJwh5vBP",
    "outputId": "189602dc-b6e8-4821-c070-08440c33eb7b"
   },
   "outputs": [],
   "source": [
    "actuals = torch.cat([y for x, (y, weight) in iter(val_dataloader)])\n",
    "baseline_predictions = Baseline().predict(val_dataloader)\n",
    "\n"
   ]
  },
  {
   "cell_type": "code",
   "execution_count": 216,
   "metadata": {
    "executionInfo": {
     "elapsed": 177,
     "status": "ok",
     "timestamp": 1651517683333,
     "user": {
      "displayName": "a. mishra",
      "userId": "11561480260359570297"
     },
     "user_tz": 300
    },
    "id": "UrUcXOAT-lDs"
   },
   "outputs": [],
   "source": [
    "from torchmetrics import MeanSquaredError\n",
    "mse = MeanSquaredError()"
   ]
  },
  {
   "cell_type": "code",
   "execution_count": 217,
   "metadata": {
    "colab": {
     "base_uri": "https://localhost:8080/"
    },
    "executionInfo": {
     "elapsed": 4,
     "status": "ok",
     "timestamp": 1651517683469,
     "user": {
      "displayName": "a. mishra",
      "userId": "11561480260359570297"
     },
     "user_tz": 300
    },
    "id": "PjZEFvJK-lGS",
    "outputId": "abb37156-d914-43cd-de72-d33710f5b37d"
   },
   "outputs": [
    {
     "data": {
      "text/plain": [
       "tensor(5.9177)"
      ]
     },
     "execution_count": 217,
     "metadata": {},
     "output_type": "execute_result"
    }
   ],
   "source": [
    "mse(actuals, baseline_predictions)"
   ]
  },
  {
   "cell_type": "code",
   "execution_count": null,
   "metadata": {},
   "outputs": [],
   "source": []
  },
  {
   "cell_type": "code",
   "execution_count": 219,
   "metadata": {
    "executionInfo": {
     "elapsed": 81,
     "status": "ok",
     "timestamp": 1651517683970,
     "user": {
      "displayName": "a. mishra",
      "userId": "11561480260359570297"
     },
     "user_tz": 300
    },
    "id": "zD-UMwbO_GhN"
   },
   "outputs": [
    {
     "data": {
      "text/plain": [
       "tensor([[4.5060],\n",
       "        [5.4332],\n",
       "        [3.9826],\n",
       "        [5.2730],\n",
       "        [5.3107]])"
      ]
     },
     "execution_count": 219,
     "metadata": {},
     "output_type": "execute_result"
    }
   ],
   "source": [
    "actuals"
   ]
  },
  {
   "cell_type": "code",
   "execution_count": null,
   "metadata": {},
   "outputs": [],
   "source": []
  },
  {
   "cell_type": "code",
   "execution_count": null,
   "metadata": {
    "id": "U5e05A5r_QXx"
   },
   "outputs": [],
   "source": []
  },
  {
   "cell_type": "code",
   "execution_count": 224,
   "metadata": {
    "colab": {
     "base_uri": "https://localhost:8080/"
    },
    "executionInfo": {
     "elapsed": 514,
     "status": "ok",
     "timestamp": 1651517792237,
     "user": {
      "displayName": "a. mishra",
      "userId": "11561480260359570297"
     },
     "user_tz": 300
    },
    "id": "yhIDsZL1_Qga",
    "outputId": "af793971-a4f2-43e4-9d3d-fc980215fa2c"
   },
   "outputs": [
    {
     "name": "stderr",
     "output_type": "stream",
     "text": [
      "Global seed set to 42\n",
      "GPU available: False, used: False\n",
      "TPU available: False, using: 0 TPU cores\n",
      "IPU available: False, using: 0 IPUs\n"
     ]
    },
    {
     "name": "stdout",
     "output_type": "stream",
     "text": [
      "Number of parameters in network: 3.9k\n"
     ]
    },
    {
     "name": "stderr",
     "output_type": "stream",
     "text": [
      "/home/ubuntu/.local/lib/python3.6/site-packages/torch/nn/init.py:388: UserWarning: Initializing zero-element tensors is a no-op\n",
      "  warnings.warn(\"Initializing zero-element tensors is a no-op\")\n"
     ]
    }
   ],
   "source": [
    "# configure network and trainer\n",
    "pl.seed_everything(42)\n",
    "trainer = pl.Trainer(\n",
    "    gpus=0,\n",
    "    # clipping gradients is a hyperparameter and important to prevent divergance\n",
    "    # of the gradient for recurrent neural networks\n",
    "    gradient_clip_val=0.1\n",
    ")\n",
    "\n",
    "\n",
    "tft = TemporalFusionTransformer.from_dataset(\n",
    "    training,\n",
    "    # not meaningful for finding the learning rate but otherwise very important\n",
    "    learning_rate=0.03,\n",
    "    hidden_size=1,  # most important hyperparameter apart from learning rate\n",
    "    # number of attention heads. Set to up to 4 for large datasets\n",
    "    attention_head_size=4,\n",
    "    dropout=0.1,  # between 0.1 and 0.3 are good values\n",
    "    # hidden_continuous_size=4,  # set to <= hidden_size\n",
    "    output_size=7,  # 7 quantiles by default\n",
    "    loss=QuantileLoss(),\n",
    "    # reduce learning rate if no improvement in validation loss after x epochs\n",
    "#     reduce_on_plateau_patience=4\n",
    ")\n",
    "print(f\"Number of parameters in network: {tft.size()/1e3:.1f}k\")"
   ]
  },
  {
   "cell_type": "code",
   "execution_count": 225,
   "metadata": {
    "executionInfo": {
     "elapsed": 184,
     "status": "ok",
     "timestamp": 1651517795264,
     "user": {
      "displayName": "a. mishra",
      "userId": "11561480260359570297"
     },
     "user_tz": 300
    },
    "id": "4I7roCeb_UGS"
   },
   "outputs": [],
   "source": [
    "# # find optimal learning rate\n",
    "# res = trainer.tuner.lr_find(\n",
    "#     tft,\n",
    "#     train_dataloaders=train_dataloader,\n",
    "#     val_dataloaders=val_dataloader,\n",
    "#     max_lr=10.0,\n",
    "#     min_lr=1e-6,\n",
    "# )\n",
    "\n",
    "# print(f\"suggested learning rate: {res.suggestion()}\")\n",
    "# fig = res.plot(show=True, suggest=True)\n",
    "# fig.show()"
   ]
  },
  {
   "cell_type": "code",
   "execution_count": 249,
   "metadata": {
    "colab": {
     "base_uri": "https://localhost:8080/"
    },
    "executionInfo": {
     "elapsed": 442,
     "status": "ok",
     "timestamp": 1651517804410,
     "user": {
      "displayName": "a. mishra",
      "userId": "11561480260359570297"
     },
     "user_tz": 300
    },
    "id": "R01K-Rj2_WwU",
    "outputId": "3666efd4-dc35-4530-c7db-c692458ee29c"
   },
   "outputs": [
    {
     "name": "stderr",
     "output_type": "stream",
     "text": [
      "GPU available: False, used: False\n",
      "TPU available: False, using: 0 TPU cores\n",
      "IPU available: False, using: 0 IPUs\n"
     ]
    },
    {
     "name": "stdout",
     "output_type": "stream",
     "text": [
      "Number of parameters in network: 6.3k\n"
     ]
    }
   ],
   "source": [
    "\n",
    "# configure network and trainer\n",
    "early_stop_callback = EarlyStopping(monitor=\"val_loss\", min_delta=1e-4, patience=10, verbose=False, mode=\"min\")\n",
    "lr_logger = LearningRateMonitor()  # log the learning rate\n",
    "logger = TensorBoardLogger(\"lightning_logs\")  # logging results to a tensorboard\n",
    "\n",
    "trainer = pl.Trainer(\n",
    "    max_epochs=3,\n",
    "    gpus=0,\n",
    "    weights_summary=\"top\",\n",
    "#     gradient_clip_val=0.1,\n",
    "    limit_train_batches=10,  # coment in for training, running valiation every 30 batches\n",
    "    # fast_dev_run=True,  # comment in to check that networkor dataset has no serious bugs\n",
    "    callbacks=[lr_logger, early_stop_callback],\n",
    "#     logger=logger,\n",
    ")\n",
    "\n",
    "\n",
    "tft = TemporalFusionTransformer.from_dataset(\n",
    "    training,\n",
    "    learning_rate=0.03,\n",
    "    hidden_size=3,\n",
    "    attention_head_size=1,\n",
    "    dropout=0.1,\n",
    "    hidden_continuous_size=2,\n",
    "    output_size=7,  # 7 quantiles by default\n",
    "    loss=QuantileLoss(),\n",
    "#     log_interval=10,  # uncomment for learning rate finder and otherwise, e.g. to 10 for logging every 10 batches\n",
    "#     reduce_on_plateau_patience=4\n",
    ")\n",
    "print(f\"Number of parameters in network: {tft.size()/1e3:.1f}k\")"
   ]
  },
  {
   "cell_type": "code",
   "execution_count": 250,
   "metadata": {
    "colab": {
     "base_uri": "https://localhost:8080/",
     "height": 664,
     "referenced_widgets": [
      "f0b0144cfcd6487198afb98cfe6704eb",
      "fed8a91c90504b86af018910f9ff101f",
      "2200036401514b239da57ba1c64c13f5",
      "fe902e3dc883452d9428d7d7db44d2f3",
      "de5d2fda7c654074b42ebcac2865dd13",
      "ef101d28d25a478d9674c5ac64c349cf",
      "cde6396bb13845839c9cdaa950db16b2",
      "2e2800685a13453b97b03a40bd3d9bf2",
      "9cb56fb012d343979e3f7a32888f0da7",
      "85d1235e986f4700a338ff849f19de4a",
      "2cf6b77d164946478c4efd6e17decc45"
     ]
    },
    "id": "jwZISjvECiap",
    "outputId": "b95e1fe8-8bf3-4436-e33f-300ce77e617a"
   },
   "outputs": [
    {
     "name": "stderr",
     "output_type": "stream",
     "text": [
      "\n",
      "   | Name                               | Type                            | Params\n",
      "----------------------------------------------------------------------------------------\n",
      "0  | loss                               | QuantileLoss                    | 0     \n",
      "1  | logging_metrics                    | ModuleList                      | 0     \n",
      "2  | input_embeddings                   | MultiEmbedding                  | 70    \n",
      "3  | prescalers                         | ModuleDict                      | 168   \n",
      "4  | static_variable_selection          | VariableSelectionNetwork        | 275   \n",
      "5  | encoder_variable_selection         | VariableSelectionNetwork        | 2.8 K \n",
      "6  | decoder_variable_selection         | VariableSelectionNetwork        | 2.7 K \n",
      "7  | static_context_variable_selection  | GatedResidualNetwork            | 54    \n",
      "8  | static_context_initial_hidden_lstm | GatedResidualNetwork            | 54    \n",
      "9  | static_context_initial_cell_lstm   | GatedResidualNetwork            | 54    \n",
      "10 | static_context_enrichment          | GatedResidualNetwork            | 54    \n",
      "11 | lstm_encoder                       | LSTM                            | 96    \n",
      "12 | lstm_decoder                       | LSTM                            | 96    \n",
      "13 | post_lstm_gate_encoder             | GatedLinearUnit                 | 24    \n",
      "14 | post_lstm_add_norm_encoder         | AddNorm                         | 6     \n",
      "15 | static_enrichment                  | GatedResidualNetwork            | 63    \n",
      "16 | multihead_attn                     | InterpretableMultiHeadAttention | 45    \n",
      "17 | post_attn_gate_norm                | GateAddNorm                     | 30    \n",
      "18 | pos_wise_ff                        | GatedResidualNetwork            | 54    \n",
      "19 | pre_output_gate_norm               | GateAddNorm                     | 30    \n",
      "20 | output_layer                       | Linear                          | 28    \n",
      "----------------------------------------------------------------------------------------\n",
      "6.3 K     Trainable params\n",
      "0         Non-trainable params\n",
      "6.3 K     Total params\n",
      "0.025     Total estimated model params size (MB)\n"
     ]
    },
    {
     "data": {
      "application/vnd.jupyter.widget-view+json": {
       "model_id": "",
       "version_major": 2,
       "version_minor": 0
      },
      "text/plain": [
       "Validation sanity check: 0it [00:00, ?it/s]"
      ]
     },
     "metadata": {},
     "output_type": "display_data"
    },
    {
     "name": "stderr",
     "output_type": "stream",
     "text": [
      "Global seed set to 42\n",
      "/home/ubuntu/.local/lib/python3.6/site-packages/pytorch_lightning/trainer/data_loading.py:433: UserWarning: The number of training samples (10) is smaller than the logging interval Trainer(log_every_n_steps=50). Set a lower value for log_every_n_steps if you want to see logs for the training epoch.\n",
      "  f\"The number of training samples ({self.num_training_batches}) is smaller than the logging interval\"\n"
     ]
    },
    {
     "data": {
      "application/vnd.jupyter.widget-view+json": {
       "model_id": "afe595a35521405fbfd497f0f7a00e03",
       "version_major": 2,
       "version_minor": 0
      },
      "text/plain": [
       "Training: 0it [00:00, ?it/s]"
      ]
     },
     "metadata": {},
     "output_type": "display_data"
    },
    {
     "data": {
      "application/vnd.jupyter.widget-view+json": {
       "model_id": "",
       "version_major": 2,
       "version_minor": 0
      },
      "text/plain": [
       "Validating: 0it [00:00, ?it/s]"
      ]
     },
     "metadata": {},
     "output_type": "display_data"
    },
    {
     "data": {
      "application/vnd.jupyter.widget-view+json": {
       "model_id": "",
       "version_major": 2,
       "version_minor": 0
      },
      "text/plain": [
       "Validating: 0it [00:00, ?it/s]"
      ]
     },
     "metadata": {},
     "output_type": "display_data"
    },
    {
     "data": {
      "application/vnd.jupyter.widget-view+json": {
       "model_id": "",
       "version_major": 2,
       "version_minor": 0
      },
      "text/plain": [
       "Validating: 0it [00:00, ?it/s]"
      ]
     },
     "metadata": {},
     "output_type": "display_data"
    }
   ],
   "source": [
    "\n",
    "# fit network\n",
    "trainer.fit(\n",
    "    tft,\n",
    "    train_dataloaders=train_dataloader,\n",
    "    val_dataloaders=val_dataloader,\n",
    ")"
   ]
  },
  {
   "cell_type": "code",
   "execution_count": 260,
   "metadata": {
    "id": "YvJr1csfDIPG"
   },
   "outputs": [
    {
     "data": {
      "text/plain": [
       "'/home/ubuntu'"
      ]
     },
     "execution_count": 260,
     "metadata": {},
     "output_type": "execute_result"
    }
   ],
   "source": [
    "import os \n",
    "os.getcwd()"
   ]
  },
  {
   "cell_type": "code",
   "execution_count": 261,
   "metadata": {
    "executionInfo": {
     "elapsed": 91,
     "status": "ok",
     "timestamp": 1651516370491,
     "user": {
      "displayName": "a. mishra",
      "userId": "11561480260359570297"
     },
     "user_tz": 300
    },
    "id": "ld5nKLegCpQH"
   },
   "outputs": [],
   "source": [
    "best_model_path = trainer.checkpoint_callback.best_model_path"
   ]
  },
  {
   "cell_type": "code",
   "execution_count": 262,
   "metadata": {
    "colab": {
     "base_uri": "https://localhost:8080/",
     "height": 37
    },
    "executionInfo": {
     "elapsed": 10,
     "status": "ok",
     "timestamp": 1651516589103,
     "user": {
      "displayName": "a. mishra",
      "userId": "11561480260359570297"
     },
     "user_tz": 300
    },
    "id": "DOoIpF_oDzl4",
    "outputId": "252ebda4-876a-456c-d641-c236f6c02c97"
   },
   "outputs": [
    {
     "data": {
      "text/plain": [
       "'/home/ubuntu/lightning_logs/version_9/checkpoints/epoch=2-step=29.ckpt'"
      ]
     },
     "execution_count": 262,
     "metadata": {},
     "output_type": "execute_result"
    }
   ],
   "source": [
    "best_model_path"
   ]
  },
  {
   "cell_type": "code",
   "execution_count": 263,
   "metadata": {
    "colab": {
     "base_uri": "https://localhost:8080/",
     "height": 307
    },
    "executionInfo": {
     "elapsed": 86,
     "status": "error",
     "timestamp": 1651516376781,
     "user": {
      "displayName": "a. mishra",
      "userId": "11561480260359570297"
     },
     "user_tz": 300
    },
    "id": "c2-v8h5VC-y4",
    "outputId": "3dd51654-5489-4173-ec52-4fc8bc2a18f5"
   },
   "outputs": [],
   "source": [
    "best_tft = TemporalFusionTransformer.load_from_checkpoint(best_model_path)"
   ]
  },
  {
   "cell_type": "code",
   "execution_count": 264,
   "metadata": {
    "id": "GahtECEpDAV-"
   },
   "outputs": [
    {
     "data": {
      "text/plain": [
       "TemporalFusionTransformer(\n",
       "  (loss): QuantileLoss()\n",
       "  (logging_metrics): ModuleList(\n",
       "    (0): SMAPE()\n",
       "    (1): MAE()\n",
       "    (2): RMSE()\n",
       "    (3): MAPE()\n",
       "  )\n",
       "  (input_embeddings): MultiEmbedding(\n",
       "    (embeddings): ModuleDict(\n",
       "      (meter): Embedding(4, 3, padding_idx=0)\n",
       "      (month): Embedding(12, 3, padding_idx=0)\n",
       "      (primary_use): Embedding(2, 1, padding_idx=0)\n",
       "      (building_id): Embedding(6, 3, padding_idx=0)\n",
       "      (site_id): Embedding(2, 1, padding_idx=0)\n",
       "    )\n",
       "  )\n",
       "  (prescalers): ModuleDict(\n",
       "    (encoder_length): Linear(in_features=1, out_features=2, bias=True)\n",
       "    (log_meter_reading_center): Linear(in_features=1, out_features=2, bias=True)\n",
       "    (log_meter_reading_scale): Linear(in_features=1, out_features=2, bias=True)\n",
       "    (square_feet): Linear(in_features=1, out_features=2, bias=True)\n",
       "    (floor_count): Linear(in_features=1, out_features=2, bias=True)\n",
       "    (air_temperature): Linear(in_features=1, out_features=2, bias=True)\n",
       "    (cloud_coverage): Linear(in_features=1, out_features=2, bias=True)\n",
       "    (dew_temperature): Linear(in_features=1, out_features=2, bias=True)\n",
       "    (precip_depth_1_hr): Linear(in_features=1, out_features=2, bias=True)\n",
       "    (sea_level_pressure): Linear(in_features=1, out_features=2, bias=True)\n",
       "    (wind_direction): Linear(in_features=1, out_features=2, bias=True)\n",
       "    (wind_speed): Linear(in_features=1, out_features=2, bias=True)\n",
       "    (air_temperature_mean_lag3): Linear(in_features=1, out_features=2, bias=True)\n",
       "    (air_temperature_max_lag3): Linear(in_features=1, out_features=2, bias=True)\n",
       "    (air_temperature_min_lag3): Linear(in_features=1, out_features=2, bias=True)\n",
       "    (air_temperature_std_lag3): Linear(in_features=1, out_features=2, bias=True)\n",
       "    (cloud_coverage_mean_lag3): Linear(in_features=1, out_features=2, bias=True)\n",
       "    (cloud_coverage_max_lag3): Linear(in_features=1, out_features=2, bias=True)\n",
       "    (cloud_coverage_min_lag3): Linear(in_features=1, out_features=2, bias=True)\n",
       "    (cloud_coverage_std_lag3): Linear(in_features=1, out_features=2, bias=True)\n",
       "    (dew_temperature_mean_lag3): Linear(in_features=1, out_features=2, bias=True)\n",
       "    (dew_temperature_max_lag3): Linear(in_features=1, out_features=2, bias=True)\n",
       "    (dew_temperature_min_lag3): Linear(in_features=1, out_features=2, bias=True)\n",
       "    (dew_temperature_std_lag3): Linear(in_features=1, out_features=2, bias=True)\n",
       "    (precip_depth_1_hr_mean_lag3): Linear(in_features=1, out_features=2, bias=True)\n",
       "    (precip_depth_1_hr_max_lag3): Linear(in_features=1, out_features=2, bias=True)\n",
       "    (precip_depth_1_hr_min_lag3): Linear(in_features=1, out_features=2, bias=True)\n",
       "    (precip_depth_1_hr_std_lag3): Linear(in_features=1, out_features=2, bias=True)\n",
       "    (sea_level_pressure_mean_lag3): Linear(in_features=1, out_features=2, bias=True)\n",
       "    (sea_level_pressure_max_lag3): Linear(in_features=1, out_features=2, bias=True)\n",
       "    (sea_level_pressure_min_lag3): Linear(in_features=1, out_features=2, bias=True)\n",
       "    (sea_level_pressure_std_lag3): Linear(in_features=1, out_features=2, bias=True)\n",
       "    (wind_direction_mean_lag3): Linear(in_features=1, out_features=2, bias=True)\n",
       "    (wind_direction_max_lag3): Linear(in_features=1, out_features=2, bias=True)\n",
       "    (wind_direction_min_lag3): Linear(in_features=1, out_features=2, bias=True)\n",
       "    (wind_direction_std_lag3): Linear(in_features=1, out_features=2, bias=True)\n",
       "    (wind_speed_mean_lag3): Linear(in_features=1, out_features=2, bias=True)\n",
       "    (wind_speed_max_lag3): Linear(in_features=1, out_features=2, bias=True)\n",
       "    (wind_speed_min_lag3): Linear(in_features=1, out_features=2, bias=True)\n",
       "    (wind_speed_std_lag3): Linear(in_features=1, out_features=2, bias=True)\n",
       "    (time_idx): Linear(in_features=1, out_features=2, bias=True)\n",
       "    (relative_time_idx): Linear(in_features=1, out_features=2, bias=True)\n",
       "  )\n",
       "  (static_variable_selection): VariableSelectionNetwork(\n",
       "    (flattened_grn): GatedResidualNetwork(\n",
       "      (resample_norm): ResampleNorm(\n",
       "        (resample): TimeDistributedInterpolation()\n",
       "        (gate): Sigmoid()\n",
       "        (norm): LayerNorm((5,), eps=1e-05, elementwise_affine=True)\n",
       "      )\n",
       "      (fc1): Linear(in_features=10, out_features=3, bias=True)\n",
       "      (elu): ELU(alpha=1.0)\n",
       "      (fc2): Linear(in_features=3, out_features=3, bias=True)\n",
       "      (gate_norm): GateAddNorm(\n",
       "        (glu): GatedLinearUnit(\n",
       "          (dropout): Dropout(p=0.1, inplace=False)\n",
       "          (fc): Linear(in_features=3, out_features=10, bias=True)\n",
       "        )\n",
       "        (add_norm): AddNorm(\n",
       "          (norm): LayerNorm((5,), eps=1e-05, elementwise_affine=True)\n",
       "        )\n",
       "      )\n",
       "    )\n",
       "    (single_variable_grns): ModuleDict(\n",
       "      (building_id): ResampleNorm(\n",
       "        (gate): Sigmoid()\n",
       "        (norm): LayerNorm((3,), eps=1e-05, elementwise_affine=True)\n",
       "      )\n",
       "      (site_id): ResampleNorm(\n",
       "        (resample): TimeDistributedInterpolation()\n",
       "        (gate): Sigmoid()\n",
       "        (norm): LayerNorm((3,), eps=1e-05, elementwise_affine=True)\n",
       "      )\n",
       "      (encoder_length): GatedResidualNetwork(\n",
       "        (resample_norm): ResampleNorm(\n",
       "          (resample): TimeDistributedInterpolation()\n",
       "          (gate): Sigmoid()\n",
       "          (norm): LayerNorm((3,), eps=1e-05, elementwise_affine=True)\n",
       "        )\n",
       "        (fc1): Linear(in_features=2, out_features=2, bias=True)\n",
       "        (elu): ELU(alpha=1.0)\n",
       "        (fc2): Linear(in_features=2, out_features=2, bias=True)\n",
       "        (gate_norm): GateAddNorm(\n",
       "          (glu): GatedLinearUnit(\n",
       "            (dropout): Dropout(p=0.1, inplace=False)\n",
       "            (fc): Linear(in_features=2, out_features=6, bias=True)\n",
       "          )\n",
       "          (add_norm): AddNorm(\n",
       "            (norm): LayerNorm((3,), eps=1e-05, elementwise_affine=True)\n",
       "          )\n",
       "        )\n",
       "      )\n",
       "      (log_meter_reading_center): GatedResidualNetwork(\n",
       "        (resample_norm): ResampleNorm(\n",
       "          (resample): TimeDistributedInterpolation()\n",
       "          (gate): Sigmoid()\n",
       "          (norm): LayerNorm((3,), eps=1e-05, elementwise_affine=True)\n",
       "        )\n",
       "        (fc1): Linear(in_features=2, out_features=2, bias=True)\n",
       "        (elu): ELU(alpha=1.0)\n",
       "        (fc2): Linear(in_features=2, out_features=2, bias=True)\n",
       "        (gate_norm): GateAddNorm(\n",
       "          (glu): GatedLinearUnit(\n",
       "            (dropout): Dropout(p=0.1, inplace=False)\n",
       "            (fc): Linear(in_features=2, out_features=6, bias=True)\n",
       "          )\n",
       "          (add_norm): AddNorm(\n",
       "            (norm): LayerNorm((3,), eps=1e-05, elementwise_affine=True)\n",
       "          )\n",
       "        )\n",
       "      )\n",
       "      (log_meter_reading_scale): GatedResidualNetwork(\n",
       "        (resample_norm): ResampleNorm(\n",
       "          (resample): TimeDistributedInterpolation()\n",
       "          (gate): Sigmoid()\n",
       "          (norm): LayerNorm((3,), eps=1e-05, elementwise_affine=True)\n",
       "        )\n",
       "        (fc1): Linear(in_features=2, out_features=2, bias=True)\n",
       "        (elu): ELU(alpha=1.0)\n",
       "        (fc2): Linear(in_features=2, out_features=2, bias=True)\n",
       "        (gate_norm): GateAddNorm(\n",
       "          (glu): GatedLinearUnit(\n",
       "            (dropout): Dropout(p=0.1, inplace=False)\n",
       "            (fc): Linear(in_features=2, out_features=6, bias=True)\n",
       "          )\n",
       "          (add_norm): AddNorm(\n",
       "            (norm): LayerNorm((3,), eps=1e-05, elementwise_affine=True)\n",
       "          )\n",
       "        )\n",
       "      )\n",
       "    )\n",
       "    (prescalers): ModuleDict(\n",
       "      (encoder_length): Linear(in_features=1, out_features=2, bias=True)\n",
       "      (log_meter_reading_center): Linear(in_features=1, out_features=2, bias=True)\n",
       "      (log_meter_reading_scale): Linear(in_features=1, out_features=2, bias=True)\n",
       "    )\n",
       "    (softmax): Softmax(dim=-1)\n",
       "  )\n",
       "  (encoder_variable_selection): VariableSelectionNetwork(\n",
       "    (flattened_grn): GatedResidualNetwork(\n",
       "      (resample_norm): ResampleNorm(\n",
       "        (resample): TimeDistributedInterpolation()\n",
       "        (gate): Sigmoid()\n",
       "        (norm): LayerNorm((42,), eps=1e-05, elementwise_affine=True)\n",
       "      )\n",
       "      (fc1): Linear(in_features=85, out_features=3, bias=True)\n",
       "      (elu): ELU(alpha=1.0)\n",
       "      (context): Linear(in_features=3, out_features=3, bias=False)\n",
       "      (fc2): Linear(in_features=3, out_features=3, bias=True)\n",
       "      (gate_norm): GateAddNorm(\n",
       "        (glu): GatedLinearUnit(\n",
       "          (dropout): Dropout(p=0.1, inplace=False)\n",
       "          (fc): Linear(in_features=3, out_features=84, bias=True)\n",
       "        )\n",
       "        (add_norm): AddNorm(\n",
       "          (norm): LayerNorm((42,), eps=1e-05, elementwise_affine=True)\n",
       "        )\n",
       "      )\n",
       "    )\n",
       "    (single_variable_grns): ModuleDict(\n",
       "      (month): ResampleNorm(\n",
       "        (gate): Sigmoid()\n",
       "        (norm): LayerNorm((3,), eps=1e-05, elementwise_affine=True)\n",
       "      )\n",
       "      (primary_use): ResampleNorm(\n",
       "        (resample): TimeDistributedInterpolation()\n",
       "        (gate): Sigmoid()\n",
       "        (norm): LayerNorm((3,), eps=1e-05, elementwise_affine=True)\n",
       "      )\n",
       "      (meter): ResampleNorm(\n",
       "        (gate): Sigmoid()\n",
       "        (norm): LayerNorm((3,), eps=1e-05, elementwise_affine=True)\n",
       "      )\n",
       "      (square_feet): GatedResidualNetwork(\n",
       "        (resample_norm): ResampleNorm(\n",
       "          (resample): TimeDistributedInterpolation()\n",
       "          (gate): Sigmoid()\n",
       "          (norm): LayerNorm((3,), eps=1e-05, elementwise_affine=True)\n",
       "        )\n",
       "        (fc1): Linear(in_features=2, out_features=2, bias=True)\n",
       "        (elu): ELU(alpha=1.0)\n",
       "        (fc2): Linear(in_features=2, out_features=2, bias=True)\n",
       "        (gate_norm): GateAddNorm(\n",
       "          (glu): GatedLinearUnit(\n",
       "            (dropout): Dropout(p=0.1, inplace=False)\n",
       "            (fc): Linear(in_features=2, out_features=6, bias=True)\n",
       "          )\n",
       "          (add_norm): AddNorm(\n",
       "            (norm): LayerNorm((3,), eps=1e-05, elementwise_affine=True)\n",
       "          )\n",
       "        )\n",
       "      )\n",
       "      (floor_count): GatedResidualNetwork(\n",
       "        (resample_norm): ResampleNorm(\n",
       "          (resample): TimeDistributedInterpolation()\n",
       "          (gate): Sigmoid()\n",
       "          (norm): LayerNorm((3,), eps=1e-05, elementwise_affine=True)\n",
       "        )\n",
       "        (fc1): Linear(in_features=2, out_features=2, bias=True)\n",
       "        (elu): ELU(alpha=1.0)\n",
       "        (fc2): Linear(in_features=2, out_features=2, bias=True)\n",
       "        (gate_norm): GateAddNorm(\n",
       "          (glu): GatedLinearUnit(\n",
       "            (dropout): Dropout(p=0.1, inplace=False)\n",
       "            (fc): Linear(in_features=2, out_features=6, bias=True)\n",
       "          )\n",
       "          (add_norm): AddNorm(\n",
       "            (norm): LayerNorm((3,), eps=1e-05, elementwise_affine=True)\n",
       "          )\n",
       "        )\n",
       "      )\n",
       "      (air_temperature): GatedResidualNetwork(\n",
       "        (resample_norm): ResampleNorm(\n",
       "          (resample): TimeDistributedInterpolation()\n",
       "          (gate): Sigmoid()\n",
       "          (norm): LayerNorm((3,), eps=1e-05, elementwise_affine=True)\n",
       "        )\n",
       "        (fc1): Linear(in_features=2, out_features=2, bias=True)\n",
       "        (elu): ELU(alpha=1.0)\n",
       "        (fc2): Linear(in_features=2, out_features=2, bias=True)\n",
       "        (gate_norm): GateAddNorm(\n",
       "          (glu): GatedLinearUnit(\n",
       "            (dropout): Dropout(p=0.1, inplace=False)\n",
       "            (fc): Linear(in_features=2, out_features=6, bias=True)\n",
       "          )\n",
       "          (add_norm): AddNorm(\n",
       "            (norm): LayerNorm((3,), eps=1e-05, elementwise_affine=True)\n",
       "          )\n",
       "        )\n",
       "      )\n",
       "      (cloud_coverage): GatedResidualNetwork(\n",
       "        (resample_norm): ResampleNorm(\n",
       "          (resample): TimeDistributedInterpolation()\n",
       "          (gate): Sigmoid()\n",
       "          (norm): LayerNorm((3,), eps=1e-05, elementwise_affine=True)\n",
       "        )\n",
       "        (fc1): Linear(in_features=2, out_features=2, bias=True)\n",
       "        (elu): ELU(alpha=1.0)\n",
       "        (fc2): Linear(in_features=2, out_features=2, bias=True)\n",
       "        (gate_norm): GateAddNorm(\n",
       "          (glu): GatedLinearUnit(\n",
       "            (dropout): Dropout(p=0.1, inplace=False)\n",
       "            (fc): Linear(in_features=2, out_features=6, bias=True)\n",
       "          )\n",
       "          (add_norm): AddNorm(\n",
       "            (norm): LayerNorm((3,), eps=1e-05, elementwise_affine=True)\n",
       "          )\n",
       "        )\n",
       "      )\n",
       "      (dew_temperature): GatedResidualNetwork(\n",
       "        (resample_norm): ResampleNorm(\n",
       "          (resample): TimeDistributedInterpolation()\n",
       "          (gate): Sigmoid()\n",
       "          (norm): LayerNorm((3,), eps=1e-05, elementwise_affine=True)\n",
       "        )\n",
       "        (fc1): Linear(in_features=2, out_features=2, bias=True)\n",
       "        (elu): ELU(alpha=1.0)\n",
       "        (fc2): Linear(in_features=2, out_features=2, bias=True)\n",
       "        (gate_norm): GateAddNorm(\n",
       "          (glu): GatedLinearUnit(\n",
       "            (dropout): Dropout(p=0.1, inplace=False)\n",
       "            (fc): Linear(in_features=2, out_features=6, bias=True)\n",
       "          )\n",
       "          (add_norm): AddNorm(\n",
       "            (norm): LayerNorm((3,), eps=1e-05, elementwise_affine=True)\n",
       "          )\n",
       "        )\n",
       "      )\n",
       "      (precip_depth_1_hr): GatedResidualNetwork(\n",
       "        (resample_norm): ResampleNorm(\n",
       "          (resample): TimeDistributedInterpolation()\n",
       "          (gate): Sigmoid()\n",
       "          (norm): LayerNorm((3,), eps=1e-05, elementwise_affine=True)\n",
       "        )\n",
       "        (fc1): Linear(in_features=2, out_features=2, bias=True)\n",
       "        (elu): ELU(alpha=1.0)\n",
       "        (fc2): Linear(in_features=2, out_features=2, bias=True)\n",
       "        (gate_norm): GateAddNorm(\n",
       "          (glu): GatedLinearUnit(\n",
       "            (dropout): Dropout(p=0.1, inplace=False)\n",
       "            (fc): Linear(in_features=2, out_features=6, bias=True)\n",
       "          )\n",
       "          (add_norm): AddNorm(\n",
       "            (norm): LayerNorm((3,), eps=1e-05, elementwise_affine=True)\n",
       "          )\n",
       "        )\n",
       "      )\n",
       "      (sea_level_pressure): GatedResidualNetwork(\n",
       "        (resample_norm): ResampleNorm(\n",
       "          (resample): TimeDistributedInterpolation()\n",
       "          (gate): Sigmoid()\n",
       "          (norm): LayerNorm((3,), eps=1e-05, elementwise_affine=True)\n",
       "        )\n",
       "        (fc1): Linear(in_features=2, out_features=2, bias=True)\n",
       "        (elu): ELU(alpha=1.0)\n",
       "        (fc2): Linear(in_features=2, out_features=2, bias=True)\n",
       "        (gate_norm): GateAddNorm(\n",
       "          (glu): GatedLinearUnit(\n",
       "            (dropout): Dropout(p=0.1, inplace=False)\n",
       "            (fc): Linear(in_features=2, out_features=6, bias=True)\n",
       "          )\n",
       "          (add_norm): AddNorm(\n",
       "            (norm): LayerNorm((3,), eps=1e-05, elementwise_affine=True)\n",
       "          )\n",
       "        )\n",
       "      )\n",
       "      (wind_direction): GatedResidualNetwork(\n",
       "        (resample_norm): ResampleNorm(\n",
       "          (resample): TimeDistributedInterpolation()\n",
       "          (gate): Sigmoid()\n",
       "          (norm): LayerNorm((3,), eps=1e-05, elementwise_affine=True)\n",
       "        )\n",
       "        (fc1): Linear(in_features=2, out_features=2, bias=True)\n",
       "        (elu): ELU(alpha=1.0)\n",
       "        (fc2): Linear(in_features=2, out_features=2, bias=True)\n",
       "        (gate_norm): GateAddNorm(\n",
       "          (glu): GatedLinearUnit(\n",
       "            (dropout): Dropout(p=0.1, inplace=False)\n",
       "            (fc): Linear(in_features=2, out_features=6, bias=True)\n",
       "          )\n",
       "          (add_norm): AddNorm(\n",
       "            (norm): LayerNorm((3,), eps=1e-05, elementwise_affine=True)\n",
       "          )\n",
       "        )\n",
       "      )\n",
       "      (wind_speed): GatedResidualNetwork(\n",
       "        (resample_norm): ResampleNorm(\n",
       "          (resample): TimeDistributedInterpolation()\n",
       "          (gate): Sigmoid()\n",
       "          (norm): LayerNorm((3,), eps=1e-05, elementwise_affine=True)\n",
       "        )\n",
       "        (fc1): Linear(in_features=2, out_features=2, bias=True)\n",
       "        (elu): ELU(alpha=1.0)\n",
       "        (fc2): Linear(in_features=2, out_features=2, bias=True)\n",
       "        (gate_norm): GateAddNorm(\n",
       "          (glu): GatedLinearUnit(\n",
       "            (dropout): Dropout(p=0.1, inplace=False)\n",
       "            (fc): Linear(in_features=2, out_features=6, bias=True)\n",
       "          )\n",
       "          (add_norm): AddNorm(\n",
       "            (norm): LayerNorm((3,), eps=1e-05, elementwise_affine=True)\n",
       "          )\n",
       "        )\n",
       "      )\n",
       "      (air_temperature_mean_lag3): GatedResidualNetwork(\n",
       "        (resample_norm): ResampleNorm(\n",
       "          (resample): TimeDistributedInterpolation()\n",
       "          (gate): Sigmoid()\n",
       "          (norm): LayerNorm((3,), eps=1e-05, elementwise_affine=True)\n",
       "        )\n",
       "        (fc1): Linear(in_features=2, out_features=2, bias=True)\n",
       "        (elu): ELU(alpha=1.0)\n",
       "        (fc2): Linear(in_features=2, out_features=2, bias=True)\n",
       "        (gate_norm): GateAddNorm(\n",
       "          (glu): GatedLinearUnit(\n",
       "            (dropout): Dropout(p=0.1, inplace=False)\n",
       "            (fc): Linear(in_features=2, out_features=6, bias=True)\n",
       "          )\n",
       "          (add_norm): AddNorm(\n",
       "            (norm): LayerNorm((3,), eps=1e-05, elementwise_affine=True)\n",
       "          )\n",
       "        )\n",
       "      )\n",
       "      (air_temperature_max_lag3): GatedResidualNetwork(\n",
       "        (resample_norm): ResampleNorm(\n",
       "          (resample): TimeDistributedInterpolation()\n",
       "          (gate): Sigmoid()\n",
       "          (norm): LayerNorm((3,), eps=1e-05, elementwise_affine=True)\n",
       "        )\n",
       "        (fc1): Linear(in_features=2, out_features=2, bias=True)\n",
       "        (elu): ELU(alpha=1.0)\n",
       "        (fc2): Linear(in_features=2, out_features=2, bias=True)\n",
       "        (gate_norm): GateAddNorm(\n",
       "          (glu): GatedLinearUnit(\n",
       "            (dropout): Dropout(p=0.1, inplace=False)\n",
       "            (fc): Linear(in_features=2, out_features=6, bias=True)\n",
       "          )\n",
       "          (add_norm): AddNorm(\n",
       "            (norm): LayerNorm((3,), eps=1e-05, elementwise_affine=True)\n",
       "          )\n",
       "        )\n",
       "      )\n",
       "      (air_temperature_min_lag3): GatedResidualNetwork(\n",
       "        (resample_norm): ResampleNorm(\n",
       "          (resample): TimeDistributedInterpolation()\n",
       "          (gate): Sigmoid()\n",
       "          (norm): LayerNorm((3,), eps=1e-05, elementwise_affine=True)\n",
       "        )\n",
       "        (fc1): Linear(in_features=2, out_features=2, bias=True)\n",
       "        (elu): ELU(alpha=1.0)\n",
       "        (fc2): Linear(in_features=2, out_features=2, bias=True)\n",
       "        (gate_norm): GateAddNorm(\n",
       "          (glu): GatedLinearUnit(\n",
       "            (dropout): Dropout(p=0.1, inplace=False)\n",
       "            (fc): Linear(in_features=2, out_features=6, bias=True)\n",
       "          )\n",
       "          (add_norm): AddNorm(\n",
       "            (norm): LayerNorm((3,), eps=1e-05, elementwise_affine=True)\n",
       "          )\n",
       "        )\n",
       "      )\n",
       "      (air_temperature_std_lag3): GatedResidualNetwork(\n",
       "        (resample_norm): ResampleNorm(\n",
       "          (resample): TimeDistributedInterpolation()\n",
       "          (gate): Sigmoid()\n",
       "          (norm): LayerNorm((3,), eps=1e-05, elementwise_affine=True)\n",
       "        )\n",
       "        (fc1): Linear(in_features=2, out_features=2, bias=True)\n",
       "        (elu): ELU(alpha=1.0)\n",
       "        (fc2): Linear(in_features=2, out_features=2, bias=True)\n",
       "        (gate_norm): GateAddNorm(\n",
       "          (glu): GatedLinearUnit(\n",
       "            (dropout): Dropout(p=0.1, inplace=False)\n",
       "            (fc): Linear(in_features=2, out_features=6, bias=True)\n",
       "          )\n",
       "          (add_norm): AddNorm(\n",
       "            (norm): LayerNorm((3,), eps=1e-05, elementwise_affine=True)\n",
       "          )\n",
       "        )\n",
       "      )\n",
       "      (cloud_coverage_mean_lag3): GatedResidualNetwork(\n",
       "        (resample_norm): ResampleNorm(\n",
       "          (resample): TimeDistributedInterpolation()\n",
       "          (gate): Sigmoid()\n",
       "          (norm): LayerNorm((3,), eps=1e-05, elementwise_affine=True)\n",
       "        )\n",
       "        (fc1): Linear(in_features=2, out_features=2, bias=True)\n",
       "        (elu): ELU(alpha=1.0)\n",
       "        (fc2): Linear(in_features=2, out_features=2, bias=True)\n",
       "        (gate_norm): GateAddNorm(\n",
       "          (glu): GatedLinearUnit(\n",
       "            (dropout): Dropout(p=0.1, inplace=False)\n",
       "            (fc): Linear(in_features=2, out_features=6, bias=True)\n",
       "          )\n",
       "          (add_norm): AddNorm(\n",
       "            (norm): LayerNorm((3,), eps=1e-05, elementwise_affine=True)\n",
       "          )\n",
       "        )\n",
       "      )\n",
       "      (cloud_coverage_max_lag3): GatedResidualNetwork(\n",
       "        (resample_norm): ResampleNorm(\n",
       "          (resample): TimeDistributedInterpolation()\n",
       "          (gate): Sigmoid()\n",
       "          (norm): LayerNorm((3,), eps=1e-05, elementwise_affine=True)\n",
       "        )\n",
       "        (fc1): Linear(in_features=2, out_features=2, bias=True)\n",
       "        (elu): ELU(alpha=1.0)\n",
       "        (fc2): Linear(in_features=2, out_features=2, bias=True)\n",
       "        (gate_norm): GateAddNorm(\n",
       "          (glu): GatedLinearUnit(\n",
       "            (dropout): Dropout(p=0.1, inplace=False)\n",
       "            (fc): Linear(in_features=2, out_features=6, bias=True)\n",
       "          )\n",
       "          (add_norm): AddNorm(\n",
       "            (norm): LayerNorm((3,), eps=1e-05, elementwise_affine=True)\n",
       "          )\n",
       "        )\n",
       "      )\n",
       "      (cloud_coverage_min_lag3): GatedResidualNetwork(\n",
       "        (resample_norm): ResampleNorm(\n",
       "          (resample): TimeDistributedInterpolation()\n",
       "          (gate): Sigmoid()\n",
       "          (norm): LayerNorm((3,), eps=1e-05, elementwise_affine=True)\n",
       "        )\n",
       "        (fc1): Linear(in_features=2, out_features=2, bias=True)\n",
       "        (elu): ELU(alpha=1.0)\n",
       "        (fc2): Linear(in_features=2, out_features=2, bias=True)\n",
       "        (gate_norm): GateAddNorm(\n",
       "          (glu): GatedLinearUnit(\n",
       "            (dropout): Dropout(p=0.1, inplace=False)\n",
       "            (fc): Linear(in_features=2, out_features=6, bias=True)\n",
       "          )\n",
       "          (add_norm): AddNorm(\n",
       "            (norm): LayerNorm((3,), eps=1e-05, elementwise_affine=True)\n",
       "          )\n",
       "        )\n",
       "      )\n",
       "      (cloud_coverage_std_lag3): GatedResidualNetwork(\n",
       "        (resample_norm): ResampleNorm(\n",
       "          (resample): TimeDistributedInterpolation()\n",
       "          (gate): Sigmoid()\n",
       "          (norm): LayerNorm((3,), eps=1e-05, elementwise_affine=True)\n",
       "        )\n",
       "        (fc1): Linear(in_features=2, out_features=2, bias=True)\n",
       "        (elu): ELU(alpha=1.0)\n",
       "        (fc2): Linear(in_features=2, out_features=2, bias=True)\n",
       "        (gate_norm): GateAddNorm(\n",
       "          (glu): GatedLinearUnit(\n",
       "            (dropout): Dropout(p=0.1, inplace=False)\n",
       "            (fc): Linear(in_features=2, out_features=6, bias=True)\n",
       "          )\n",
       "          (add_norm): AddNorm(\n",
       "            (norm): LayerNorm((3,), eps=1e-05, elementwise_affine=True)\n",
       "          )\n",
       "        )\n",
       "      )\n",
       "      (dew_temperature_mean_lag3): GatedResidualNetwork(\n",
       "        (resample_norm): ResampleNorm(\n",
       "          (resample): TimeDistributedInterpolation()\n",
       "          (gate): Sigmoid()\n",
       "          (norm): LayerNorm((3,), eps=1e-05, elementwise_affine=True)\n",
       "        )\n",
       "        (fc1): Linear(in_features=2, out_features=2, bias=True)\n",
       "        (elu): ELU(alpha=1.0)\n",
       "        (fc2): Linear(in_features=2, out_features=2, bias=True)\n",
       "        (gate_norm): GateAddNorm(\n",
       "          (glu): GatedLinearUnit(\n",
       "            (dropout): Dropout(p=0.1, inplace=False)\n",
       "            (fc): Linear(in_features=2, out_features=6, bias=True)\n",
       "          )\n",
       "          (add_norm): AddNorm(\n",
       "            (norm): LayerNorm((3,), eps=1e-05, elementwise_affine=True)\n",
       "          )\n",
       "        )\n",
       "      )\n",
       "      (dew_temperature_max_lag3): GatedResidualNetwork(\n",
       "        (resample_norm): ResampleNorm(\n",
       "          (resample): TimeDistributedInterpolation()\n",
       "          (gate): Sigmoid()\n",
       "          (norm): LayerNorm((3,), eps=1e-05, elementwise_affine=True)\n",
       "        )\n",
       "        (fc1): Linear(in_features=2, out_features=2, bias=True)\n",
       "        (elu): ELU(alpha=1.0)\n",
       "        (fc2): Linear(in_features=2, out_features=2, bias=True)\n",
       "        (gate_norm): GateAddNorm(\n",
       "          (glu): GatedLinearUnit(\n",
       "            (dropout): Dropout(p=0.1, inplace=False)\n",
       "            (fc): Linear(in_features=2, out_features=6, bias=True)\n",
       "          )\n",
       "          (add_norm): AddNorm(\n",
       "            (norm): LayerNorm((3,), eps=1e-05, elementwise_affine=True)\n",
       "          )\n",
       "        )\n",
       "      )\n",
       "      (dew_temperature_min_lag3): GatedResidualNetwork(\n",
       "        (resample_norm): ResampleNorm(\n",
       "          (resample): TimeDistributedInterpolation()\n",
       "          (gate): Sigmoid()\n",
       "          (norm): LayerNorm((3,), eps=1e-05, elementwise_affine=True)\n",
       "        )\n",
       "        (fc1): Linear(in_features=2, out_features=2, bias=True)\n",
       "        (elu): ELU(alpha=1.0)\n",
       "        (fc2): Linear(in_features=2, out_features=2, bias=True)\n",
       "        (gate_norm): GateAddNorm(\n",
       "          (glu): GatedLinearUnit(\n",
       "            (dropout): Dropout(p=0.1, inplace=False)\n",
       "            (fc): Linear(in_features=2, out_features=6, bias=True)\n",
       "          )\n",
       "          (add_norm): AddNorm(\n",
       "            (norm): LayerNorm((3,), eps=1e-05, elementwise_affine=True)\n",
       "          )\n",
       "        )\n",
       "      )\n",
       "      (dew_temperature_std_lag3): GatedResidualNetwork(\n",
       "        (resample_norm): ResampleNorm(\n",
       "          (resample): TimeDistributedInterpolation()\n",
       "          (gate): Sigmoid()\n",
       "          (norm): LayerNorm((3,), eps=1e-05, elementwise_affine=True)\n",
       "        )\n",
       "        (fc1): Linear(in_features=2, out_features=2, bias=True)\n",
       "        (elu): ELU(alpha=1.0)\n",
       "        (fc2): Linear(in_features=2, out_features=2, bias=True)\n",
       "        (gate_norm): GateAddNorm(\n",
       "          (glu): GatedLinearUnit(\n",
       "            (dropout): Dropout(p=0.1, inplace=False)\n",
       "            (fc): Linear(in_features=2, out_features=6, bias=True)\n",
       "          )\n",
       "          (add_norm): AddNorm(\n",
       "            (norm): LayerNorm((3,), eps=1e-05, elementwise_affine=True)\n",
       "          )\n",
       "        )\n",
       "      )\n",
       "      (precip_depth_1_hr_mean_lag3): GatedResidualNetwork(\n",
       "        (resample_norm): ResampleNorm(\n",
       "          (resample): TimeDistributedInterpolation()\n",
       "          (gate): Sigmoid()\n",
       "          (norm): LayerNorm((3,), eps=1e-05, elementwise_affine=True)\n",
       "        )\n",
       "        (fc1): Linear(in_features=2, out_features=2, bias=True)\n",
       "        (elu): ELU(alpha=1.0)\n",
       "        (fc2): Linear(in_features=2, out_features=2, bias=True)\n",
       "        (gate_norm): GateAddNorm(\n",
       "          (glu): GatedLinearUnit(\n",
       "            (dropout): Dropout(p=0.1, inplace=False)\n",
       "            (fc): Linear(in_features=2, out_features=6, bias=True)\n",
       "          )\n",
       "          (add_norm): AddNorm(\n",
       "            (norm): LayerNorm((3,), eps=1e-05, elementwise_affine=True)\n",
       "          )\n",
       "        )\n",
       "      )\n",
       "      (precip_depth_1_hr_max_lag3): GatedResidualNetwork(\n",
       "        (resample_norm): ResampleNorm(\n",
       "          (resample): TimeDistributedInterpolation()\n",
       "          (gate): Sigmoid()\n",
       "          (norm): LayerNorm((3,), eps=1e-05, elementwise_affine=True)\n",
       "        )\n",
       "        (fc1): Linear(in_features=2, out_features=2, bias=True)\n",
       "        (elu): ELU(alpha=1.0)\n",
       "        (fc2): Linear(in_features=2, out_features=2, bias=True)\n",
       "        (gate_norm): GateAddNorm(\n",
       "          (glu): GatedLinearUnit(\n",
       "            (dropout): Dropout(p=0.1, inplace=False)\n",
       "            (fc): Linear(in_features=2, out_features=6, bias=True)\n",
       "          )\n",
       "          (add_norm): AddNorm(\n",
       "            (norm): LayerNorm((3,), eps=1e-05, elementwise_affine=True)\n",
       "          )\n",
       "        )\n",
       "      )\n",
       "      (precip_depth_1_hr_min_lag3): GatedResidualNetwork(\n",
       "        (resample_norm): ResampleNorm(\n",
       "          (resample): TimeDistributedInterpolation()\n",
       "          (gate): Sigmoid()\n",
       "          (norm): LayerNorm((3,), eps=1e-05, elementwise_affine=True)\n",
       "        )\n",
       "        (fc1): Linear(in_features=2, out_features=2, bias=True)\n",
       "        (elu): ELU(alpha=1.0)\n",
       "        (fc2): Linear(in_features=2, out_features=2, bias=True)\n",
       "        (gate_norm): GateAddNorm(\n",
       "          (glu): GatedLinearUnit(\n",
       "            (dropout): Dropout(p=0.1, inplace=False)\n",
       "            (fc): Linear(in_features=2, out_features=6, bias=True)\n",
       "          )\n",
       "          (add_norm): AddNorm(\n",
       "            (norm): LayerNorm((3,), eps=1e-05, elementwise_affine=True)\n",
       "          )\n",
       "        )\n",
       "      )\n",
       "      (precip_depth_1_hr_std_lag3): GatedResidualNetwork(\n",
       "        (resample_norm): ResampleNorm(\n",
       "          (resample): TimeDistributedInterpolation()\n",
       "          (gate): Sigmoid()\n",
       "          (norm): LayerNorm((3,), eps=1e-05, elementwise_affine=True)\n",
       "        )\n",
       "        (fc1): Linear(in_features=2, out_features=2, bias=True)\n",
       "        (elu): ELU(alpha=1.0)\n",
       "        (fc2): Linear(in_features=2, out_features=2, bias=True)\n",
       "        (gate_norm): GateAddNorm(\n",
       "          (glu): GatedLinearUnit(\n",
       "            (dropout): Dropout(p=0.1, inplace=False)\n",
       "            (fc): Linear(in_features=2, out_features=6, bias=True)\n",
       "          )\n",
       "          (add_norm): AddNorm(\n",
       "            (norm): LayerNorm((3,), eps=1e-05, elementwise_affine=True)\n",
       "          )\n",
       "        )\n",
       "      )\n",
       "      (sea_level_pressure_mean_lag3): GatedResidualNetwork(\n",
       "        (resample_norm): ResampleNorm(\n",
       "          (resample): TimeDistributedInterpolation()\n",
       "          (gate): Sigmoid()\n",
       "          (norm): LayerNorm((3,), eps=1e-05, elementwise_affine=True)\n",
       "        )\n",
       "        (fc1): Linear(in_features=2, out_features=2, bias=True)\n",
       "        (elu): ELU(alpha=1.0)\n",
       "        (fc2): Linear(in_features=2, out_features=2, bias=True)\n",
       "        (gate_norm): GateAddNorm(\n",
       "          (glu): GatedLinearUnit(\n",
       "            (dropout): Dropout(p=0.1, inplace=False)\n",
       "            (fc): Linear(in_features=2, out_features=6, bias=True)\n",
       "          )\n",
       "          (add_norm): AddNorm(\n",
       "            (norm): LayerNorm((3,), eps=1e-05, elementwise_affine=True)\n",
       "          )\n",
       "        )\n",
       "      )\n",
       "      (sea_level_pressure_max_lag3): GatedResidualNetwork(\n",
       "        (resample_norm): ResampleNorm(\n",
       "          (resample): TimeDistributedInterpolation()\n",
       "          (gate): Sigmoid()\n",
       "          (norm): LayerNorm((3,), eps=1e-05, elementwise_affine=True)\n",
       "        )\n",
       "        (fc1): Linear(in_features=2, out_features=2, bias=True)\n",
       "        (elu): ELU(alpha=1.0)\n",
       "        (fc2): Linear(in_features=2, out_features=2, bias=True)\n",
       "        (gate_norm): GateAddNorm(\n",
       "          (glu): GatedLinearUnit(\n",
       "            (dropout): Dropout(p=0.1, inplace=False)\n",
       "            (fc): Linear(in_features=2, out_features=6, bias=True)\n",
       "          )\n",
       "          (add_norm): AddNorm(\n",
       "            (norm): LayerNorm((3,), eps=1e-05, elementwise_affine=True)\n",
       "          )\n",
       "        )\n",
       "      )\n",
       "      (sea_level_pressure_min_lag3): GatedResidualNetwork(\n",
       "        (resample_norm): ResampleNorm(\n",
       "          (resample): TimeDistributedInterpolation()\n",
       "          (gate): Sigmoid()\n",
       "          (norm): LayerNorm((3,), eps=1e-05, elementwise_affine=True)\n",
       "        )\n",
       "        (fc1): Linear(in_features=2, out_features=2, bias=True)\n",
       "        (elu): ELU(alpha=1.0)\n",
       "        (fc2): Linear(in_features=2, out_features=2, bias=True)\n",
       "        (gate_norm): GateAddNorm(\n",
       "          (glu): GatedLinearUnit(\n",
       "            (dropout): Dropout(p=0.1, inplace=False)\n",
       "            (fc): Linear(in_features=2, out_features=6, bias=True)\n",
       "          )\n",
       "          (add_norm): AddNorm(\n",
       "            (norm): LayerNorm((3,), eps=1e-05, elementwise_affine=True)\n",
       "          )\n",
       "        )\n",
       "      )\n",
       "      (sea_level_pressure_std_lag3): GatedResidualNetwork(\n",
       "        (resample_norm): ResampleNorm(\n",
       "          (resample): TimeDistributedInterpolation()\n",
       "          (gate): Sigmoid()\n",
       "          (norm): LayerNorm((3,), eps=1e-05, elementwise_affine=True)\n",
       "        )\n",
       "        (fc1): Linear(in_features=2, out_features=2, bias=True)\n",
       "        (elu): ELU(alpha=1.0)\n",
       "        (fc2): Linear(in_features=2, out_features=2, bias=True)\n",
       "        (gate_norm): GateAddNorm(\n",
       "          (glu): GatedLinearUnit(\n",
       "            (dropout): Dropout(p=0.1, inplace=False)\n",
       "            (fc): Linear(in_features=2, out_features=6, bias=True)\n",
       "          )\n",
       "          (add_norm): AddNorm(\n",
       "            (norm): LayerNorm((3,), eps=1e-05, elementwise_affine=True)\n",
       "          )\n",
       "        )\n",
       "      )\n",
       "      (wind_direction_mean_lag3): GatedResidualNetwork(\n",
       "        (resample_norm): ResampleNorm(\n",
       "          (resample): TimeDistributedInterpolation()\n",
       "          (gate): Sigmoid()\n",
       "          (norm): LayerNorm((3,), eps=1e-05, elementwise_affine=True)\n",
       "        )\n",
       "        (fc1): Linear(in_features=2, out_features=2, bias=True)\n",
       "        (elu): ELU(alpha=1.0)\n",
       "        (fc2): Linear(in_features=2, out_features=2, bias=True)\n",
       "        (gate_norm): GateAddNorm(\n",
       "          (glu): GatedLinearUnit(\n",
       "            (dropout): Dropout(p=0.1, inplace=False)\n",
       "            (fc): Linear(in_features=2, out_features=6, bias=True)\n",
       "          )\n",
       "          (add_norm): AddNorm(\n",
       "            (norm): LayerNorm((3,), eps=1e-05, elementwise_affine=True)\n",
       "          )\n",
       "        )\n",
       "      )\n",
       "      (wind_direction_max_lag3): GatedResidualNetwork(\n",
       "        (resample_norm): ResampleNorm(\n",
       "          (resample): TimeDistributedInterpolation()\n",
       "          (gate): Sigmoid()\n",
       "          (norm): LayerNorm((3,), eps=1e-05, elementwise_affine=True)\n",
       "        )\n",
       "        (fc1): Linear(in_features=2, out_features=2, bias=True)\n",
       "        (elu): ELU(alpha=1.0)\n",
       "        (fc2): Linear(in_features=2, out_features=2, bias=True)\n",
       "        (gate_norm): GateAddNorm(\n",
       "          (glu): GatedLinearUnit(\n",
       "            (dropout): Dropout(p=0.1, inplace=False)\n",
       "            (fc): Linear(in_features=2, out_features=6, bias=True)\n",
       "          )\n",
       "          (add_norm): AddNorm(\n",
       "            (norm): LayerNorm((3,), eps=1e-05, elementwise_affine=True)\n",
       "          )\n",
       "        )\n",
       "      )\n",
       "      (wind_direction_min_lag3): GatedResidualNetwork(\n",
       "        (resample_norm): ResampleNorm(\n",
       "          (resample): TimeDistributedInterpolation()\n",
       "          (gate): Sigmoid()\n",
       "          (norm): LayerNorm((3,), eps=1e-05, elementwise_affine=True)\n",
       "        )\n",
       "        (fc1): Linear(in_features=2, out_features=2, bias=True)\n",
       "        (elu): ELU(alpha=1.0)\n",
       "        (fc2): Linear(in_features=2, out_features=2, bias=True)\n",
       "        (gate_norm): GateAddNorm(\n",
       "          (glu): GatedLinearUnit(\n",
       "            (dropout): Dropout(p=0.1, inplace=False)\n",
       "            (fc): Linear(in_features=2, out_features=6, bias=True)\n",
       "          )\n",
       "          (add_norm): AddNorm(\n",
       "            (norm): LayerNorm((3,), eps=1e-05, elementwise_affine=True)\n",
       "          )\n",
       "        )\n",
       "      )\n",
       "      (wind_direction_std_lag3): GatedResidualNetwork(\n",
       "        (resample_norm): ResampleNorm(\n",
       "          (resample): TimeDistributedInterpolation()\n",
       "          (gate): Sigmoid()\n",
       "          (norm): LayerNorm((3,), eps=1e-05, elementwise_affine=True)\n",
       "        )\n",
       "        (fc1): Linear(in_features=2, out_features=2, bias=True)\n",
       "        (elu): ELU(alpha=1.0)\n",
       "        (fc2): Linear(in_features=2, out_features=2, bias=True)\n",
       "        (gate_norm): GateAddNorm(\n",
       "          (glu): GatedLinearUnit(\n",
       "            (dropout): Dropout(p=0.1, inplace=False)\n",
       "            (fc): Linear(in_features=2, out_features=6, bias=True)\n",
       "          )\n",
       "          (add_norm): AddNorm(\n",
       "            (norm): LayerNorm((3,), eps=1e-05, elementwise_affine=True)\n",
       "          )\n",
       "        )\n",
       "      )\n",
       "      (wind_speed_mean_lag3): GatedResidualNetwork(\n",
       "        (resample_norm): ResampleNorm(\n",
       "          (resample): TimeDistributedInterpolation()\n",
       "          (gate): Sigmoid()\n",
       "          (norm): LayerNorm((3,), eps=1e-05, elementwise_affine=True)\n",
       "        )\n",
       "        (fc1): Linear(in_features=2, out_features=2, bias=True)\n",
       "        (elu): ELU(alpha=1.0)\n",
       "        (fc2): Linear(in_features=2, out_features=2, bias=True)\n",
       "        (gate_norm): GateAddNorm(\n",
       "          (glu): GatedLinearUnit(\n",
       "            (dropout): Dropout(p=0.1, inplace=False)\n",
       "            (fc): Linear(in_features=2, out_features=6, bias=True)\n",
       "          )\n",
       "          (add_norm): AddNorm(\n",
       "            (norm): LayerNorm((3,), eps=1e-05, elementwise_affine=True)\n",
       "          )\n",
       "        )\n",
       "      )\n",
       "      (wind_speed_max_lag3): GatedResidualNetwork(\n",
       "        (resample_norm): ResampleNorm(\n",
       "          (resample): TimeDistributedInterpolation()\n",
       "          (gate): Sigmoid()\n",
       "          (norm): LayerNorm((3,), eps=1e-05, elementwise_affine=True)\n",
       "        )\n",
       "        (fc1): Linear(in_features=2, out_features=2, bias=True)\n",
       "        (elu): ELU(alpha=1.0)\n",
       "        (fc2): Linear(in_features=2, out_features=2, bias=True)\n",
       "        (gate_norm): GateAddNorm(\n",
       "          (glu): GatedLinearUnit(\n",
       "            (dropout): Dropout(p=0.1, inplace=False)\n",
       "            (fc): Linear(in_features=2, out_features=6, bias=True)\n",
       "          )\n",
       "          (add_norm): AddNorm(\n",
       "            (norm): LayerNorm((3,), eps=1e-05, elementwise_affine=True)\n",
       "          )\n",
       "        )\n",
       "      )\n",
       "      (wind_speed_min_lag3): GatedResidualNetwork(\n",
       "        (resample_norm): ResampleNorm(\n",
       "          (resample): TimeDistributedInterpolation()\n",
       "          (gate): Sigmoid()\n",
       "          (norm): LayerNorm((3,), eps=1e-05, elementwise_affine=True)\n",
       "        )\n",
       "        (fc1): Linear(in_features=2, out_features=2, bias=True)\n",
       "        (elu): ELU(alpha=1.0)\n",
       "        (fc2): Linear(in_features=2, out_features=2, bias=True)\n",
       "        (gate_norm): GateAddNorm(\n",
       "          (glu): GatedLinearUnit(\n",
       "            (dropout): Dropout(p=0.1, inplace=False)\n",
       "            (fc): Linear(in_features=2, out_features=6, bias=True)\n",
       "          )\n",
       "          (add_norm): AddNorm(\n",
       "            (norm): LayerNorm((3,), eps=1e-05, elementwise_affine=True)\n",
       "          )\n",
       "        )\n",
       "      )\n",
       "      (wind_speed_std_lag3): GatedResidualNetwork(\n",
       "        (resample_norm): ResampleNorm(\n",
       "          (resample): TimeDistributedInterpolation()\n",
       "          (gate): Sigmoid()\n",
       "          (norm): LayerNorm((3,), eps=1e-05, elementwise_affine=True)\n",
       "        )\n",
       "        (fc1): Linear(in_features=2, out_features=2, bias=True)\n",
       "        (elu): ELU(alpha=1.0)\n",
       "        (fc2): Linear(in_features=2, out_features=2, bias=True)\n",
       "        (gate_norm): GateAddNorm(\n",
       "          (glu): GatedLinearUnit(\n",
       "            (dropout): Dropout(p=0.1, inplace=False)\n",
       "            (fc): Linear(in_features=2, out_features=6, bias=True)\n",
       "          )\n",
       "          (add_norm): AddNorm(\n",
       "            (norm): LayerNorm((3,), eps=1e-05, elementwise_affine=True)\n",
       "          )\n",
       "        )\n",
       "      )\n",
       "      (time_idx): GatedResidualNetwork(\n",
       "        (resample_norm): ResampleNorm(\n",
       "          (resample): TimeDistributedInterpolation()\n",
       "          (gate): Sigmoid()\n",
       "          (norm): LayerNorm((3,), eps=1e-05, elementwise_affine=True)\n",
       "        )\n",
       "        (fc1): Linear(in_features=2, out_features=2, bias=True)\n",
       "        (elu): ELU(alpha=1.0)\n",
       "        (fc2): Linear(in_features=2, out_features=2, bias=True)\n",
       "        (gate_norm): GateAddNorm(\n",
       "          (glu): GatedLinearUnit(\n",
       "            (dropout): Dropout(p=0.1, inplace=False)\n",
       "            (fc): Linear(in_features=2, out_features=6, bias=True)\n",
       "          )\n",
       "          (add_norm): AddNorm(\n",
       "            (norm): LayerNorm((3,), eps=1e-05, elementwise_affine=True)\n",
       "          )\n",
       "        )\n",
       "      )\n",
       "      (relative_time_idx): GatedResidualNetwork(\n",
       "        (resample_norm): ResampleNorm(\n",
       "          (resample): TimeDistributedInterpolation()\n",
       "          (gate): Sigmoid()\n",
       "          (norm): LayerNorm((3,), eps=1e-05, elementwise_affine=True)\n",
       "        )\n",
       "        (fc1): Linear(in_features=2, out_features=2, bias=True)\n",
       "        (elu): ELU(alpha=1.0)\n",
       "        (fc2): Linear(in_features=2, out_features=2, bias=True)\n",
       "        (gate_norm): GateAddNorm(\n",
       "          (glu): GatedLinearUnit(\n",
       "            (dropout): Dropout(p=0.1, inplace=False)\n",
       "            (fc): Linear(in_features=2, out_features=6, bias=True)\n",
       "          )\n",
       "          (add_norm): AddNorm(\n",
       "            (norm): LayerNorm((3,), eps=1e-05, elementwise_affine=True)\n",
       "          )\n",
       "        )\n",
       "      )\n",
       "    )\n",
       "    (prescalers): ModuleDict(\n",
       "      (square_feet): Linear(in_features=1, out_features=2, bias=True)\n",
       "      (floor_count): Linear(in_features=1, out_features=2, bias=True)\n",
       "      (air_temperature): Linear(in_features=1, out_features=2, bias=True)\n",
       "      (cloud_coverage): Linear(in_features=1, out_features=2, bias=True)\n",
       "      (dew_temperature): Linear(in_features=1, out_features=2, bias=True)\n",
       "      (precip_depth_1_hr): Linear(in_features=1, out_features=2, bias=True)\n",
       "      (sea_level_pressure): Linear(in_features=1, out_features=2, bias=True)\n",
       "      (wind_direction): Linear(in_features=1, out_features=2, bias=True)\n",
       "      (wind_speed): Linear(in_features=1, out_features=2, bias=True)\n",
       "      (air_temperature_mean_lag3): Linear(in_features=1, out_features=2, bias=True)\n",
       "      (air_temperature_max_lag3): Linear(in_features=1, out_features=2, bias=True)\n",
       "      (air_temperature_min_lag3): Linear(in_features=1, out_features=2, bias=True)\n",
       "      (air_temperature_std_lag3): Linear(in_features=1, out_features=2, bias=True)\n",
       "      (cloud_coverage_mean_lag3): Linear(in_features=1, out_features=2, bias=True)\n",
       "      (cloud_coverage_max_lag3): Linear(in_features=1, out_features=2, bias=True)\n",
       "      (cloud_coverage_min_lag3): Linear(in_features=1, out_features=2, bias=True)\n",
       "      (cloud_coverage_std_lag3): Linear(in_features=1, out_features=2, bias=True)\n",
       "      (dew_temperature_mean_lag3): Linear(in_features=1, out_features=2, bias=True)\n",
       "      (dew_temperature_max_lag3): Linear(in_features=1, out_features=2, bias=True)\n",
       "      (dew_temperature_min_lag3): Linear(in_features=1, out_features=2, bias=True)\n",
       "      (dew_temperature_std_lag3): Linear(in_features=1, out_features=2, bias=True)\n",
       "      (precip_depth_1_hr_mean_lag3): Linear(in_features=1, out_features=2, bias=True)\n",
       "      (precip_depth_1_hr_max_lag3): Linear(in_features=1, out_features=2, bias=True)\n",
       "      (precip_depth_1_hr_min_lag3): Linear(in_features=1, out_features=2, bias=True)\n",
       "      (precip_depth_1_hr_std_lag3): Linear(in_features=1, out_features=2, bias=True)\n",
       "      (sea_level_pressure_mean_lag3): Linear(in_features=1, out_features=2, bias=True)\n",
       "      (sea_level_pressure_max_lag3): Linear(in_features=1, out_features=2, bias=True)\n",
       "      (sea_level_pressure_min_lag3): Linear(in_features=1, out_features=2, bias=True)\n",
       "      (sea_level_pressure_std_lag3): Linear(in_features=1, out_features=2, bias=True)\n",
       "      (wind_direction_mean_lag3): Linear(in_features=1, out_features=2, bias=True)\n",
       "      (wind_direction_max_lag3): Linear(in_features=1, out_features=2, bias=True)\n",
       "      (wind_direction_min_lag3): Linear(in_features=1, out_features=2, bias=True)\n",
       "      (wind_direction_std_lag3): Linear(in_features=1, out_features=2, bias=True)\n",
       "      (wind_speed_mean_lag3): Linear(in_features=1, out_features=2, bias=True)\n",
       "      (wind_speed_max_lag3): Linear(in_features=1, out_features=2, bias=True)\n",
       "      (wind_speed_min_lag3): Linear(in_features=1, out_features=2, bias=True)\n",
       "      (wind_speed_std_lag3): Linear(in_features=1, out_features=2, bias=True)\n",
       "      (time_idx): Linear(in_features=1, out_features=2, bias=True)\n",
       "      (relative_time_idx): Linear(in_features=1, out_features=2, bias=True)\n",
       "    )\n",
       "    (softmax): Softmax(dim=-1)\n",
       "  )\n",
       "  (decoder_variable_selection): VariableSelectionNetwork(\n",
       "    (flattened_grn): GatedResidualNetwork(\n",
       "      (resample_norm): ResampleNorm(\n",
       "        (resample): TimeDistributedInterpolation()\n",
       "        (gate): Sigmoid()\n",
       "        (norm): LayerNorm((40,), eps=1e-05, elementwise_affine=True)\n",
       "      )\n",
       "      (fc1): Linear(in_features=81, out_features=3, bias=True)\n",
       "      (elu): ELU(alpha=1.0)\n",
       "      (context): Linear(in_features=3, out_features=3, bias=False)\n",
       "      (fc2): Linear(in_features=3, out_features=3, bias=True)\n",
       "      (gate_norm): GateAddNorm(\n",
       "        (glu): GatedLinearUnit(\n",
       "          (dropout): Dropout(p=0.1, inplace=False)\n",
       "          (fc): Linear(in_features=3, out_features=80, bias=True)\n",
       "        )\n",
       "        (add_norm): AddNorm(\n",
       "          (norm): LayerNorm((40,), eps=1e-05, elementwise_affine=True)\n",
       "        )\n",
       "      )\n",
       "    )\n",
       "    (single_variable_grns): ModuleDict(\n",
       "      (month): ResampleNorm(\n",
       "        (gate): Sigmoid()\n",
       "        (norm): LayerNorm((3,), eps=1e-05, elementwise_affine=True)\n",
       "      )\n",
       "      (square_feet): GatedResidualNetwork(\n",
       "        (resample_norm): ResampleNorm(\n",
       "          (resample): TimeDistributedInterpolation()\n",
       "          (gate): Sigmoid()\n",
       "          (norm): LayerNorm((3,), eps=1e-05, elementwise_affine=True)\n",
       "        )\n",
       "        (fc1): Linear(in_features=2, out_features=2, bias=True)\n",
       "        (elu): ELU(alpha=1.0)\n",
       "        (fc2): Linear(in_features=2, out_features=2, bias=True)\n",
       "        (gate_norm): GateAddNorm(\n",
       "          (glu): GatedLinearUnit(\n",
       "            (dropout): Dropout(p=0.1, inplace=False)\n",
       "            (fc): Linear(in_features=2, out_features=6, bias=True)\n",
       "          )\n",
       "          (add_norm): AddNorm(\n",
       "            (norm): LayerNorm((3,), eps=1e-05, elementwise_affine=True)\n",
       "          )\n",
       "        )\n",
       "      )\n",
       "      (floor_count): GatedResidualNetwork(\n",
       "        (resample_norm): ResampleNorm(\n",
       "          (resample): TimeDistributedInterpolation()\n",
       "          (gate): Sigmoid()\n",
       "          (norm): LayerNorm((3,), eps=1e-05, elementwise_affine=True)\n",
       "        )\n",
       "        (fc1): Linear(in_features=2, out_features=2, bias=True)\n",
       "        (elu): ELU(alpha=1.0)\n",
       "        (fc2): Linear(in_features=2, out_features=2, bias=True)\n",
       "        (gate_norm): GateAddNorm(\n",
       "          (glu): GatedLinearUnit(\n",
       "            (dropout): Dropout(p=0.1, inplace=False)\n",
       "            (fc): Linear(in_features=2, out_features=6, bias=True)\n",
       "          )\n",
       "          (add_norm): AddNorm(\n",
       "            (norm): LayerNorm((3,), eps=1e-05, elementwise_affine=True)\n",
       "          )\n",
       "        )\n",
       "      )\n",
       "      (air_temperature): GatedResidualNetwork(\n",
       "        (resample_norm): ResampleNorm(\n",
       "          (resample): TimeDistributedInterpolation()\n",
       "          (gate): Sigmoid()\n",
       "          (norm): LayerNorm((3,), eps=1e-05, elementwise_affine=True)\n",
       "        )\n",
       "        (fc1): Linear(in_features=2, out_features=2, bias=True)\n",
       "        (elu): ELU(alpha=1.0)\n",
       "        (fc2): Linear(in_features=2, out_features=2, bias=True)\n",
       "        (gate_norm): GateAddNorm(\n",
       "          (glu): GatedLinearUnit(\n",
       "            (dropout): Dropout(p=0.1, inplace=False)\n",
       "            (fc): Linear(in_features=2, out_features=6, bias=True)\n",
       "          )\n",
       "          (add_norm): AddNorm(\n",
       "            (norm): LayerNorm((3,), eps=1e-05, elementwise_affine=True)\n",
       "          )\n",
       "        )\n",
       "      )\n",
       "      (cloud_coverage): GatedResidualNetwork(\n",
       "        (resample_norm): ResampleNorm(\n",
       "          (resample): TimeDistributedInterpolation()\n",
       "          (gate): Sigmoid()\n",
       "          (norm): LayerNorm((3,), eps=1e-05, elementwise_affine=True)\n",
       "        )\n",
       "        (fc1): Linear(in_features=2, out_features=2, bias=True)\n",
       "        (elu): ELU(alpha=1.0)\n",
       "        (fc2): Linear(in_features=2, out_features=2, bias=True)\n",
       "        (gate_norm): GateAddNorm(\n",
       "          (glu): GatedLinearUnit(\n",
       "            (dropout): Dropout(p=0.1, inplace=False)\n",
       "            (fc): Linear(in_features=2, out_features=6, bias=True)\n",
       "          )\n",
       "          (add_norm): AddNorm(\n",
       "            (norm): LayerNorm((3,), eps=1e-05, elementwise_affine=True)\n",
       "          )\n",
       "        )\n",
       "      )\n",
       "      (dew_temperature): GatedResidualNetwork(\n",
       "        (resample_norm): ResampleNorm(\n",
       "          (resample): TimeDistributedInterpolation()\n",
       "          (gate): Sigmoid()\n",
       "          (norm): LayerNorm((3,), eps=1e-05, elementwise_affine=True)\n",
       "        )\n",
       "        (fc1): Linear(in_features=2, out_features=2, bias=True)\n",
       "        (elu): ELU(alpha=1.0)\n",
       "        (fc2): Linear(in_features=2, out_features=2, bias=True)\n",
       "        (gate_norm): GateAddNorm(\n",
       "          (glu): GatedLinearUnit(\n",
       "            (dropout): Dropout(p=0.1, inplace=False)\n",
       "            (fc): Linear(in_features=2, out_features=6, bias=True)\n",
       "          )\n",
       "          (add_norm): AddNorm(\n",
       "            (norm): LayerNorm((3,), eps=1e-05, elementwise_affine=True)\n",
       "          )\n",
       "        )\n",
       "      )\n",
       "      (precip_depth_1_hr): GatedResidualNetwork(\n",
       "        (resample_norm): ResampleNorm(\n",
       "          (resample): TimeDistributedInterpolation()\n",
       "          (gate): Sigmoid()\n",
       "          (norm): LayerNorm((3,), eps=1e-05, elementwise_affine=True)\n",
       "        )\n",
       "        (fc1): Linear(in_features=2, out_features=2, bias=True)\n",
       "        (elu): ELU(alpha=1.0)\n",
       "        (fc2): Linear(in_features=2, out_features=2, bias=True)\n",
       "        (gate_norm): GateAddNorm(\n",
       "          (glu): GatedLinearUnit(\n",
       "            (dropout): Dropout(p=0.1, inplace=False)\n",
       "            (fc): Linear(in_features=2, out_features=6, bias=True)\n",
       "          )\n",
       "          (add_norm): AddNorm(\n",
       "            (norm): LayerNorm((3,), eps=1e-05, elementwise_affine=True)\n",
       "          )\n",
       "        )\n",
       "      )\n",
       "      (sea_level_pressure): GatedResidualNetwork(\n",
       "        (resample_norm): ResampleNorm(\n",
       "          (resample): TimeDistributedInterpolation()\n",
       "          (gate): Sigmoid()\n",
       "          (norm): LayerNorm((3,), eps=1e-05, elementwise_affine=True)\n",
       "        )\n",
       "        (fc1): Linear(in_features=2, out_features=2, bias=True)\n",
       "        (elu): ELU(alpha=1.0)\n",
       "        (fc2): Linear(in_features=2, out_features=2, bias=True)\n",
       "        (gate_norm): GateAddNorm(\n",
       "          (glu): GatedLinearUnit(\n",
       "            (dropout): Dropout(p=0.1, inplace=False)\n",
       "            (fc): Linear(in_features=2, out_features=6, bias=True)\n",
       "          )\n",
       "          (add_norm): AddNorm(\n",
       "            (norm): LayerNorm((3,), eps=1e-05, elementwise_affine=True)\n",
       "          )\n",
       "        )\n",
       "      )\n",
       "      (wind_direction): GatedResidualNetwork(\n",
       "        (resample_norm): ResampleNorm(\n",
       "          (resample): TimeDistributedInterpolation()\n",
       "          (gate): Sigmoid()\n",
       "          (norm): LayerNorm((3,), eps=1e-05, elementwise_affine=True)\n",
       "        )\n",
       "        (fc1): Linear(in_features=2, out_features=2, bias=True)\n",
       "        (elu): ELU(alpha=1.0)\n",
       "        (fc2): Linear(in_features=2, out_features=2, bias=True)\n",
       "        (gate_norm): GateAddNorm(\n",
       "          (glu): GatedLinearUnit(\n",
       "            (dropout): Dropout(p=0.1, inplace=False)\n",
       "            (fc): Linear(in_features=2, out_features=6, bias=True)\n",
       "          )\n",
       "          (add_norm): AddNorm(\n",
       "            (norm): LayerNorm((3,), eps=1e-05, elementwise_affine=True)\n",
       "          )\n",
       "        )\n",
       "      )\n",
       "      (wind_speed): GatedResidualNetwork(\n",
       "        (resample_norm): ResampleNorm(\n",
       "          (resample): TimeDistributedInterpolation()\n",
       "          (gate): Sigmoid()\n",
       "          (norm): LayerNorm((3,), eps=1e-05, elementwise_affine=True)\n",
       "        )\n",
       "        (fc1): Linear(in_features=2, out_features=2, bias=True)\n",
       "        (elu): ELU(alpha=1.0)\n",
       "        (fc2): Linear(in_features=2, out_features=2, bias=True)\n",
       "        (gate_norm): GateAddNorm(\n",
       "          (glu): GatedLinearUnit(\n",
       "            (dropout): Dropout(p=0.1, inplace=False)\n",
       "            (fc): Linear(in_features=2, out_features=6, bias=True)\n",
       "          )\n",
       "          (add_norm): AddNorm(\n",
       "            (norm): LayerNorm((3,), eps=1e-05, elementwise_affine=True)\n",
       "          )\n",
       "        )\n",
       "      )\n",
       "      (air_temperature_mean_lag3): GatedResidualNetwork(\n",
       "        (resample_norm): ResampleNorm(\n",
       "          (resample): TimeDistributedInterpolation()\n",
       "          (gate): Sigmoid()\n",
       "          (norm): LayerNorm((3,), eps=1e-05, elementwise_affine=True)\n",
       "        )\n",
       "        (fc1): Linear(in_features=2, out_features=2, bias=True)\n",
       "        (elu): ELU(alpha=1.0)\n",
       "        (fc2): Linear(in_features=2, out_features=2, bias=True)\n",
       "        (gate_norm): GateAddNorm(\n",
       "          (glu): GatedLinearUnit(\n",
       "            (dropout): Dropout(p=0.1, inplace=False)\n",
       "            (fc): Linear(in_features=2, out_features=6, bias=True)\n",
       "          )\n",
       "          (add_norm): AddNorm(\n",
       "            (norm): LayerNorm((3,), eps=1e-05, elementwise_affine=True)\n",
       "          )\n",
       "        )\n",
       "      )\n",
       "      (air_temperature_max_lag3): GatedResidualNetwork(\n",
       "        (resample_norm): ResampleNorm(\n",
       "          (resample): TimeDistributedInterpolation()\n",
       "          (gate): Sigmoid()\n",
       "          (norm): LayerNorm((3,), eps=1e-05, elementwise_affine=True)\n",
       "        )\n",
       "        (fc1): Linear(in_features=2, out_features=2, bias=True)\n",
       "        (elu): ELU(alpha=1.0)\n",
       "        (fc2): Linear(in_features=2, out_features=2, bias=True)\n",
       "        (gate_norm): GateAddNorm(\n",
       "          (glu): GatedLinearUnit(\n",
       "            (dropout): Dropout(p=0.1, inplace=False)\n",
       "            (fc): Linear(in_features=2, out_features=6, bias=True)\n",
       "          )\n",
       "          (add_norm): AddNorm(\n",
       "            (norm): LayerNorm((3,), eps=1e-05, elementwise_affine=True)\n",
       "          )\n",
       "        )\n",
       "      )\n",
       "      (air_temperature_min_lag3): GatedResidualNetwork(\n",
       "        (resample_norm): ResampleNorm(\n",
       "          (resample): TimeDistributedInterpolation()\n",
       "          (gate): Sigmoid()\n",
       "          (norm): LayerNorm((3,), eps=1e-05, elementwise_affine=True)\n",
       "        )\n",
       "        (fc1): Linear(in_features=2, out_features=2, bias=True)\n",
       "        (elu): ELU(alpha=1.0)\n",
       "        (fc2): Linear(in_features=2, out_features=2, bias=True)\n",
       "        (gate_norm): GateAddNorm(\n",
       "          (glu): GatedLinearUnit(\n",
       "            (dropout): Dropout(p=0.1, inplace=False)\n",
       "            (fc): Linear(in_features=2, out_features=6, bias=True)\n",
       "          )\n",
       "          (add_norm): AddNorm(\n",
       "            (norm): LayerNorm((3,), eps=1e-05, elementwise_affine=True)\n",
       "          )\n",
       "        )\n",
       "      )\n",
       "      (air_temperature_std_lag3): GatedResidualNetwork(\n",
       "        (resample_norm): ResampleNorm(\n",
       "          (resample): TimeDistributedInterpolation()\n",
       "          (gate): Sigmoid()\n",
       "          (norm): LayerNorm((3,), eps=1e-05, elementwise_affine=True)\n",
       "        )\n",
       "        (fc1): Linear(in_features=2, out_features=2, bias=True)\n",
       "        (elu): ELU(alpha=1.0)\n",
       "        (fc2): Linear(in_features=2, out_features=2, bias=True)\n",
       "        (gate_norm): GateAddNorm(\n",
       "          (glu): GatedLinearUnit(\n",
       "            (dropout): Dropout(p=0.1, inplace=False)\n",
       "            (fc): Linear(in_features=2, out_features=6, bias=True)\n",
       "          )\n",
       "          (add_norm): AddNorm(\n",
       "            (norm): LayerNorm((3,), eps=1e-05, elementwise_affine=True)\n",
       "          )\n",
       "        )\n",
       "      )\n",
       "      (cloud_coverage_mean_lag3): GatedResidualNetwork(\n",
       "        (resample_norm): ResampleNorm(\n",
       "          (resample): TimeDistributedInterpolation()\n",
       "          (gate): Sigmoid()\n",
       "          (norm): LayerNorm((3,), eps=1e-05, elementwise_affine=True)\n",
       "        )\n",
       "        (fc1): Linear(in_features=2, out_features=2, bias=True)\n",
       "        (elu): ELU(alpha=1.0)\n",
       "        (fc2): Linear(in_features=2, out_features=2, bias=True)\n",
       "        (gate_norm): GateAddNorm(\n",
       "          (glu): GatedLinearUnit(\n",
       "            (dropout): Dropout(p=0.1, inplace=False)\n",
       "            (fc): Linear(in_features=2, out_features=6, bias=True)\n",
       "          )\n",
       "          (add_norm): AddNorm(\n",
       "            (norm): LayerNorm((3,), eps=1e-05, elementwise_affine=True)\n",
       "          )\n",
       "        )\n",
       "      )\n",
       "      (cloud_coverage_max_lag3): GatedResidualNetwork(\n",
       "        (resample_norm): ResampleNorm(\n",
       "          (resample): TimeDistributedInterpolation()\n",
       "          (gate): Sigmoid()\n",
       "          (norm): LayerNorm((3,), eps=1e-05, elementwise_affine=True)\n",
       "        )\n",
       "        (fc1): Linear(in_features=2, out_features=2, bias=True)\n",
       "        (elu): ELU(alpha=1.0)\n",
       "        (fc2): Linear(in_features=2, out_features=2, bias=True)\n",
       "        (gate_norm): GateAddNorm(\n",
       "          (glu): GatedLinearUnit(\n",
       "            (dropout): Dropout(p=0.1, inplace=False)\n",
       "            (fc): Linear(in_features=2, out_features=6, bias=True)\n",
       "          )\n",
       "          (add_norm): AddNorm(\n",
       "            (norm): LayerNorm((3,), eps=1e-05, elementwise_affine=True)\n",
       "          )\n",
       "        )\n",
       "      )\n",
       "      (cloud_coverage_min_lag3): GatedResidualNetwork(\n",
       "        (resample_norm): ResampleNorm(\n",
       "          (resample): TimeDistributedInterpolation()\n",
       "          (gate): Sigmoid()\n",
       "          (norm): LayerNorm((3,), eps=1e-05, elementwise_affine=True)\n",
       "        )\n",
       "        (fc1): Linear(in_features=2, out_features=2, bias=True)\n",
       "        (elu): ELU(alpha=1.0)\n",
       "        (fc2): Linear(in_features=2, out_features=2, bias=True)\n",
       "        (gate_norm): GateAddNorm(\n",
       "          (glu): GatedLinearUnit(\n",
       "            (dropout): Dropout(p=0.1, inplace=False)\n",
       "            (fc): Linear(in_features=2, out_features=6, bias=True)\n",
       "          )\n",
       "          (add_norm): AddNorm(\n",
       "            (norm): LayerNorm((3,), eps=1e-05, elementwise_affine=True)\n",
       "          )\n",
       "        )\n",
       "      )\n",
       "      (cloud_coverage_std_lag3): GatedResidualNetwork(\n",
       "        (resample_norm): ResampleNorm(\n",
       "          (resample): TimeDistributedInterpolation()\n",
       "          (gate): Sigmoid()\n",
       "          (norm): LayerNorm((3,), eps=1e-05, elementwise_affine=True)\n",
       "        )\n",
       "        (fc1): Linear(in_features=2, out_features=2, bias=True)\n",
       "        (elu): ELU(alpha=1.0)\n",
       "        (fc2): Linear(in_features=2, out_features=2, bias=True)\n",
       "        (gate_norm): GateAddNorm(\n",
       "          (glu): GatedLinearUnit(\n",
       "            (dropout): Dropout(p=0.1, inplace=False)\n",
       "            (fc): Linear(in_features=2, out_features=6, bias=True)\n",
       "          )\n",
       "          (add_norm): AddNorm(\n",
       "            (norm): LayerNorm((3,), eps=1e-05, elementwise_affine=True)\n",
       "          )\n",
       "        )\n",
       "      )\n",
       "      (dew_temperature_mean_lag3): GatedResidualNetwork(\n",
       "        (resample_norm): ResampleNorm(\n",
       "          (resample): TimeDistributedInterpolation()\n",
       "          (gate): Sigmoid()\n",
       "          (norm): LayerNorm((3,), eps=1e-05, elementwise_affine=True)\n",
       "        )\n",
       "        (fc1): Linear(in_features=2, out_features=2, bias=True)\n",
       "        (elu): ELU(alpha=1.0)\n",
       "        (fc2): Linear(in_features=2, out_features=2, bias=True)\n",
       "        (gate_norm): GateAddNorm(\n",
       "          (glu): GatedLinearUnit(\n",
       "            (dropout): Dropout(p=0.1, inplace=False)\n",
       "            (fc): Linear(in_features=2, out_features=6, bias=True)\n",
       "          )\n",
       "          (add_norm): AddNorm(\n",
       "            (norm): LayerNorm((3,), eps=1e-05, elementwise_affine=True)\n",
       "          )\n",
       "        )\n",
       "      )\n",
       "      (dew_temperature_max_lag3): GatedResidualNetwork(\n",
       "        (resample_norm): ResampleNorm(\n",
       "          (resample): TimeDistributedInterpolation()\n",
       "          (gate): Sigmoid()\n",
       "          (norm): LayerNorm((3,), eps=1e-05, elementwise_affine=True)\n",
       "        )\n",
       "        (fc1): Linear(in_features=2, out_features=2, bias=True)\n",
       "        (elu): ELU(alpha=1.0)\n",
       "        (fc2): Linear(in_features=2, out_features=2, bias=True)\n",
       "        (gate_norm): GateAddNorm(\n",
       "          (glu): GatedLinearUnit(\n",
       "            (dropout): Dropout(p=0.1, inplace=False)\n",
       "            (fc): Linear(in_features=2, out_features=6, bias=True)\n",
       "          )\n",
       "          (add_norm): AddNorm(\n",
       "            (norm): LayerNorm((3,), eps=1e-05, elementwise_affine=True)\n",
       "          )\n",
       "        )\n",
       "      )\n",
       "      (dew_temperature_min_lag3): GatedResidualNetwork(\n",
       "        (resample_norm): ResampleNorm(\n",
       "          (resample): TimeDistributedInterpolation()\n",
       "          (gate): Sigmoid()\n",
       "          (norm): LayerNorm((3,), eps=1e-05, elementwise_affine=True)\n",
       "        )\n",
       "        (fc1): Linear(in_features=2, out_features=2, bias=True)\n",
       "        (elu): ELU(alpha=1.0)\n",
       "        (fc2): Linear(in_features=2, out_features=2, bias=True)\n",
       "        (gate_norm): GateAddNorm(\n",
       "          (glu): GatedLinearUnit(\n",
       "            (dropout): Dropout(p=0.1, inplace=False)\n",
       "            (fc): Linear(in_features=2, out_features=6, bias=True)\n",
       "          )\n",
       "          (add_norm): AddNorm(\n",
       "            (norm): LayerNorm((3,), eps=1e-05, elementwise_affine=True)\n",
       "          )\n",
       "        )\n",
       "      )\n",
       "      (dew_temperature_std_lag3): GatedResidualNetwork(\n",
       "        (resample_norm): ResampleNorm(\n",
       "          (resample): TimeDistributedInterpolation()\n",
       "          (gate): Sigmoid()\n",
       "          (norm): LayerNorm((3,), eps=1e-05, elementwise_affine=True)\n",
       "        )\n",
       "        (fc1): Linear(in_features=2, out_features=2, bias=True)\n",
       "        (elu): ELU(alpha=1.0)\n",
       "        (fc2): Linear(in_features=2, out_features=2, bias=True)\n",
       "        (gate_norm): GateAddNorm(\n",
       "          (glu): GatedLinearUnit(\n",
       "            (dropout): Dropout(p=0.1, inplace=False)\n",
       "            (fc): Linear(in_features=2, out_features=6, bias=True)\n",
       "          )\n",
       "          (add_norm): AddNorm(\n",
       "            (norm): LayerNorm((3,), eps=1e-05, elementwise_affine=True)\n",
       "          )\n",
       "        )\n",
       "      )\n",
       "      (precip_depth_1_hr_mean_lag3): GatedResidualNetwork(\n",
       "        (resample_norm): ResampleNorm(\n",
       "          (resample): TimeDistributedInterpolation()\n",
       "          (gate): Sigmoid()\n",
       "          (norm): LayerNorm((3,), eps=1e-05, elementwise_affine=True)\n",
       "        )\n",
       "        (fc1): Linear(in_features=2, out_features=2, bias=True)\n",
       "        (elu): ELU(alpha=1.0)\n",
       "        (fc2): Linear(in_features=2, out_features=2, bias=True)\n",
       "        (gate_norm): GateAddNorm(\n",
       "          (glu): GatedLinearUnit(\n",
       "            (dropout): Dropout(p=0.1, inplace=False)\n",
       "            (fc): Linear(in_features=2, out_features=6, bias=True)\n",
       "          )\n",
       "          (add_norm): AddNorm(\n",
       "            (norm): LayerNorm((3,), eps=1e-05, elementwise_affine=True)\n",
       "          )\n",
       "        )\n",
       "      )\n",
       "      (precip_depth_1_hr_max_lag3): GatedResidualNetwork(\n",
       "        (resample_norm): ResampleNorm(\n",
       "          (resample): TimeDistributedInterpolation()\n",
       "          (gate): Sigmoid()\n",
       "          (norm): LayerNorm((3,), eps=1e-05, elementwise_affine=True)\n",
       "        )\n",
       "        (fc1): Linear(in_features=2, out_features=2, bias=True)\n",
       "        (elu): ELU(alpha=1.0)\n",
       "        (fc2): Linear(in_features=2, out_features=2, bias=True)\n",
       "        (gate_norm): GateAddNorm(\n",
       "          (glu): GatedLinearUnit(\n",
       "            (dropout): Dropout(p=0.1, inplace=False)\n",
       "            (fc): Linear(in_features=2, out_features=6, bias=True)\n",
       "          )\n",
       "          (add_norm): AddNorm(\n",
       "            (norm): LayerNorm((3,), eps=1e-05, elementwise_affine=True)\n",
       "          )\n",
       "        )\n",
       "      )\n",
       "      (precip_depth_1_hr_min_lag3): GatedResidualNetwork(\n",
       "        (resample_norm): ResampleNorm(\n",
       "          (resample): TimeDistributedInterpolation()\n",
       "          (gate): Sigmoid()\n",
       "          (norm): LayerNorm((3,), eps=1e-05, elementwise_affine=True)\n",
       "        )\n",
       "        (fc1): Linear(in_features=2, out_features=2, bias=True)\n",
       "        (elu): ELU(alpha=1.0)\n",
       "        (fc2): Linear(in_features=2, out_features=2, bias=True)\n",
       "        (gate_norm): GateAddNorm(\n",
       "          (glu): GatedLinearUnit(\n",
       "            (dropout): Dropout(p=0.1, inplace=False)\n",
       "            (fc): Linear(in_features=2, out_features=6, bias=True)\n",
       "          )\n",
       "          (add_norm): AddNorm(\n",
       "            (norm): LayerNorm((3,), eps=1e-05, elementwise_affine=True)\n",
       "          )\n",
       "        )\n",
       "      )\n",
       "      (precip_depth_1_hr_std_lag3): GatedResidualNetwork(\n",
       "        (resample_norm): ResampleNorm(\n",
       "          (resample): TimeDistributedInterpolation()\n",
       "          (gate): Sigmoid()\n",
       "          (norm): LayerNorm((3,), eps=1e-05, elementwise_affine=True)\n",
       "        )\n",
       "        (fc1): Linear(in_features=2, out_features=2, bias=True)\n",
       "        (elu): ELU(alpha=1.0)\n",
       "        (fc2): Linear(in_features=2, out_features=2, bias=True)\n",
       "        (gate_norm): GateAddNorm(\n",
       "          (glu): GatedLinearUnit(\n",
       "            (dropout): Dropout(p=0.1, inplace=False)\n",
       "            (fc): Linear(in_features=2, out_features=6, bias=True)\n",
       "          )\n",
       "          (add_norm): AddNorm(\n",
       "            (norm): LayerNorm((3,), eps=1e-05, elementwise_affine=True)\n",
       "          )\n",
       "        )\n",
       "      )\n",
       "      (sea_level_pressure_mean_lag3): GatedResidualNetwork(\n",
       "        (resample_norm): ResampleNorm(\n",
       "          (resample): TimeDistributedInterpolation()\n",
       "          (gate): Sigmoid()\n",
       "          (norm): LayerNorm((3,), eps=1e-05, elementwise_affine=True)\n",
       "        )\n",
       "        (fc1): Linear(in_features=2, out_features=2, bias=True)\n",
       "        (elu): ELU(alpha=1.0)\n",
       "        (fc2): Linear(in_features=2, out_features=2, bias=True)\n",
       "        (gate_norm): GateAddNorm(\n",
       "          (glu): GatedLinearUnit(\n",
       "            (dropout): Dropout(p=0.1, inplace=False)\n",
       "            (fc): Linear(in_features=2, out_features=6, bias=True)\n",
       "          )\n",
       "          (add_norm): AddNorm(\n",
       "            (norm): LayerNorm((3,), eps=1e-05, elementwise_affine=True)\n",
       "          )\n",
       "        )\n",
       "      )\n",
       "      (sea_level_pressure_max_lag3): GatedResidualNetwork(\n",
       "        (resample_norm): ResampleNorm(\n",
       "          (resample): TimeDistributedInterpolation()\n",
       "          (gate): Sigmoid()\n",
       "          (norm): LayerNorm((3,), eps=1e-05, elementwise_affine=True)\n",
       "        )\n",
       "        (fc1): Linear(in_features=2, out_features=2, bias=True)\n",
       "        (elu): ELU(alpha=1.0)\n",
       "        (fc2): Linear(in_features=2, out_features=2, bias=True)\n",
       "        (gate_norm): GateAddNorm(\n",
       "          (glu): GatedLinearUnit(\n",
       "            (dropout): Dropout(p=0.1, inplace=False)\n",
       "            (fc): Linear(in_features=2, out_features=6, bias=True)\n",
       "          )\n",
       "          (add_norm): AddNorm(\n",
       "            (norm): LayerNorm((3,), eps=1e-05, elementwise_affine=True)\n",
       "          )\n",
       "        )\n",
       "      )\n",
       "      (sea_level_pressure_min_lag3): GatedResidualNetwork(\n",
       "        (resample_norm): ResampleNorm(\n",
       "          (resample): TimeDistributedInterpolation()\n",
       "          (gate): Sigmoid()\n",
       "          (norm): LayerNorm((3,), eps=1e-05, elementwise_affine=True)\n",
       "        )\n",
       "        (fc1): Linear(in_features=2, out_features=2, bias=True)\n",
       "        (elu): ELU(alpha=1.0)\n",
       "        (fc2): Linear(in_features=2, out_features=2, bias=True)\n",
       "        (gate_norm): GateAddNorm(\n",
       "          (glu): GatedLinearUnit(\n",
       "            (dropout): Dropout(p=0.1, inplace=False)\n",
       "            (fc): Linear(in_features=2, out_features=6, bias=True)\n",
       "          )\n",
       "          (add_norm): AddNorm(\n",
       "            (norm): LayerNorm((3,), eps=1e-05, elementwise_affine=True)\n",
       "          )\n",
       "        )\n",
       "      )\n",
       "      (sea_level_pressure_std_lag3): GatedResidualNetwork(\n",
       "        (resample_norm): ResampleNorm(\n",
       "          (resample): TimeDistributedInterpolation()\n",
       "          (gate): Sigmoid()\n",
       "          (norm): LayerNorm((3,), eps=1e-05, elementwise_affine=True)\n",
       "        )\n",
       "        (fc1): Linear(in_features=2, out_features=2, bias=True)\n",
       "        (elu): ELU(alpha=1.0)\n",
       "        (fc2): Linear(in_features=2, out_features=2, bias=True)\n",
       "        (gate_norm): GateAddNorm(\n",
       "          (glu): GatedLinearUnit(\n",
       "            (dropout): Dropout(p=0.1, inplace=False)\n",
       "            (fc): Linear(in_features=2, out_features=6, bias=True)\n",
       "          )\n",
       "          (add_norm): AddNorm(\n",
       "            (norm): LayerNorm((3,), eps=1e-05, elementwise_affine=True)\n",
       "          )\n",
       "        )\n",
       "      )\n",
       "      (wind_direction_mean_lag3): GatedResidualNetwork(\n",
       "        (resample_norm): ResampleNorm(\n",
       "          (resample): TimeDistributedInterpolation()\n",
       "          (gate): Sigmoid()\n",
       "          (norm): LayerNorm((3,), eps=1e-05, elementwise_affine=True)\n",
       "        )\n",
       "        (fc1): Linear(in_features=2, out_features=2, bias=True)\n",
       "        (elu): ELU(alpha=1.0)\n",
       "        (fc2): Linear(in_features=2, out_features=2, bias=True)\n",
       "        (gate_norm): GateAddNorm(\n",
       "          (glu): GatedLinearUnit(\n",
       "            (dropout): Dropout(p=0.1, inplace=False)\n",
       "            (fc): Linear(in_features=2, out_features=6, bias=True)\n",
       "          )\n",
       "          (add_norm): AddNorm(\n",
       "            (norm): LayerNorm((3,), eps=1e-05, elementwise_affine=True)\n",
       "          )\n",
       "        )\n",
       "      )\n",
       "      (wind_direction_max_lag3): GatedResidualNetwork(\n",
       "        (resample_norm): ResampleNorm(\n",
       "          (resample): TimeDistributedInterpolation()\n",
       "          (gate): Sigmoid()\n",
       "          (norm): LayerNorm((3,), eps=1e-05, elementwise_affine=True)\n",
       "        )\n",
       "        (fc1): Linear(in_features=2, out_features=2, bias=True)\n",
       "        (elu): ELU(alpha=1.0)\n",
       "        (fc2): Linear(in_features=2, out_features=2, bias=True)\n",
       "        (gate_norm): GateAddNorm(\n",
       "          (glu): GatedLinearUnit(\n",
       "            (dropout): Dropout(p=0.1, inplace=False)\n",
       "            (fc): Linear(in_features=2, out_features=6, bias=True)\n",
       "          )\n",
       "          (add_norm): AddNorm(\n",
       "            (norm): LayerNorm((3,), eps=1e-05, elementwise_affine=True)\n",
       "          )\n",
       "        )\n",
       "      )\n",
       "      (wind_direction_min_lag3): GatedResidualNetwork(\n",
       "        (resample_norm): ResampleNorm(\n",
       "          (resample): TimeDistributedInterpolation()\n",
       "          (gate): Sigmoid()\n",
       "          (norm): LayerNorm((3,), eps=1e-05, elementwise_affine=True)\n",
       "        )\n",
       "        (fc1): Linear(in_features=2, out_features=2, bias=True)\n",
       "        (elu): ELU(alpha=1.0)\n",
       "        (fc2): Linear(in_features=2, out_features=2, bias=True)\n",
       "        (gate_norm): GateAddNorm(\n",
       "          (glu): GatedLinearUnit(\n",
       "            (dropout): Dropout(p=0.1, inplace=False)\n",
       "            (fc): Linear(in_features=2, out_features=6, bias=True)\n",
       "          )\n",
       "          (add_norm): AddNorm(\n",
       "            (norm): LayerNorm((3,), eps=1e-05, elementwise_affine=True)\n",
       "          )\n",
       "        )\n",
       "      )\n",
       "      (wind_direction_std_lag3): GatedResidualNetwork(\n",
       "        (resample_norm): ResampleNorm(\n",
       "          (resample): TimeDistributedInterpolation()\n",
       "          (gate): Sigmoid()\n",
       "          (norm): LayerNorm((3,), eps=1e-05, elementwise_affine=True)\n",
       "        )\n",
       "        (fc1): Linear(in_features=2, out_features=2, bias=True)\n",
       "        (elu): ELU(alpha=1.0)\n",
       "        (fc2): Linear(in_features=2, out_features=2, bias=True)\n",
       "        (gate_norm): GateAddNorm(\n",
       "          (glu): GatedLinearUnit(\n",
       "            (dropout): Dropout(p=0.1, inplace=False)\n",
       "            (fc): Linear(in_features=2, out_features=6, bias=True)\n",
       "          )\n",
       "          (add_norm): AddNorm(\n",
       "            (norm): LayerNorm((3,), eps=1e-05, elementwise_affine=True)\n",
       "          )\n",
       "        )\n",
       "      )\n",
       "      (wind_speed_mean_lag3): GatedResidualNetwork(\n",
       "        (resample_norm): ResampleNorm(\n",
       "          (resample): TimeDistributedInterpolation()\n",
       "          (gate): Sigmoid()\n",
       "          (norm): LayerNorm((3,), eps=1e-05, elementwise_affine=True)\n",
       "        )\n",
       "        (fc1): Linear(in_features=2, out_features=2, bias=True)\n",
       "        (elu): ELU(alpha=1.0)\n",
       "        (fc2): Linear(in_features=2, out_features=2, bias=True)\n",
       "        (gate_norm): GateAddNorm(\n",
       "          (glu): GatedLinearUnit(\n",
       "            (dropout): Dropout(p=0.1, inplace=False)\n",
       "            (fc): Linear(in_features=2, out_features=6, bias=True)\n",
       "          )\n",
       "          (add_norm): AddNorm(\n",
       "            (norm): LayerNorm((3,), eps=1e-05, elementwise_affine=True)\n",
       "          )\n",
       "        )\n",
       "      )\n",
       "      (wind_speed_max_lag3): GatedResidualNetwork(\n",
       "        (resample_norm): ResampleNorm(\n",
       "          (resample): TimeDistributedInterpolation()\n",
       "          (gate): Sigmoid()\n",
       "          (norm): LayerNorm((3,), eps=1e-05, elementwise_affine=True)\n",
       "        )\n",
       "        (fc1): Linear(in_features=2, out_features=2, bias=True)\n",
       "        (elu): ELU(alpha=1.0)\n",
       "        (fc2): Linear(in_features=2, out_features=2, bias=True)\n",
       "        (gate_norm): GateAddNorm(\n",
       "          (glu): GatedLinearUnit(\n",
       "            (dropout): Dropout(p=0.1, inplace=False)\n",
       "            (fc): Linear(in_features=2, out_features=6, bias=True)\n",
       "          )\n",
       "          (add_norm): AddNorm(\n",
       "            (norm): LayerNorm((3,), eps=1e-05, elementwise_affine=True)\n",
       "          )\n",
       "        )\n",
       "      )\n",
       "      (wind_speed_min_lag3): GatedResidualNetwork(\n",
       "        (resample_norm): ResampleNorm(\n",
       "          (resample): TimeDistributedInterpolation()\n",
       "          (gate): Sigmoid()\n",
       "          (norm): LayerNorm((3,), eps=1e-05, elementwise_affine=True)\n",
       "        )\n",
       "        (fc1): Linear(in_features=2, out_features=2, bias=True)\n",
       "        (elu): ELU(alpha=1.0)\n",
       "        (fc2): Linear(in_features=2, out_features=2, bias=True)\n",
       "        (gate_norm): GateAddNorm(\n",
       "          (glu): GatedLinearUnit(\n",
       "            (dropout): Dropout(p=0.1, inplace=False)\n",
       "            (fc): Linear(in_features=2, out_features=6, bias=True)\n",
       "          )\n",
       "          (add_norm): AddNorm(\n",
       "            (norm): LayerNorm((3,), eps=1e-05, elementwise_affine=True)\n",
       "          )\n",
       "        )\n",
       "      )\n",
       "      (wind_speed_std_lag3): GatedResidualNetwork(\n",
       "        (resample_norm): ResampleNorm(\n",
       "          (resample): TimeDistributedInterpolation()\n",
       "          (gate): Sigmoid()\n",
       "          (norm): LayerNorm((3,), eps=1e-05, elementwise_affine=True)\n",
       "        )\n",
       "        (fc1): Linear(in_features=2, out_features=2, bias=True)\n",
       "        (elu): ELU(alpha=1.0)\n",
       "        (fc2): Linear(in_features=2, out_features=2, bias=True)\n",
       "        (gate_norm): GateAddNorm(\n",
       "          (glu): GatedLinearUnit(\n",
       "            (dropout): Dropout(p=0.1, inplace=False)\n",
       "            (fc): Linear(in_features=2, out_features=6, bias=True)\n",
       "          )\n",
       "          (add_norm): AddNorm(\n",
       "            (norm): LayerNorm((3,), eps=1e-05, elementwise_affine=True)\n",
       "          )\n",
       "        )\n",
       "      )\n",
       "      (time_idx): GatedResidualNetwork(\n",
       "        (resample_norm): ResampleNorm(\n",
       "          (resample): TimeDistributedInterpolation()\n",
       "          (gate): Sigmoid()\n",
       "          (norm): LayerNorm((3,), eps=1e-05, elementwise_affine=True)\n",
       "        )\n",
       "        (fc1): Linear(in_features=2, out_features=2, bias=True)\n",
       "        (elu): ELU(alpha=1.0)\n",
       "        (fc2): Linear(in_features=2, out_features=2, bias=True)\n",
       "        (gate_norm): GateAddNorm(\n",
       "          (glu): GatedLinearUnit(\n",
       "            (dropout): Dropout(p=0.1, inplace=False)\n",
       "            (fc): Linear(in_features=2, out_features=6, bias=True)\n",
       "          )\n",
       "          (add_norm): AddNorm(\n",
       "            (norm): LayerNorm((3,), eps=1e-05, elementwise_affine=True)\n",
       "          )\n",
       "        )\n",
       "      )\n",
       "      (relative_time_idx): GatedResidualNetwork(\n",
       "        (resample_norm): ResampleNorm(\n",
       "          (resample): TimeDistributedInterpolation()\n",
       "          (gate): Sigmoid()\n",
       "          (norm): LayerNorm((3,), eps=1e-05, elementwise_affine=True)\n",
       "        )\n",
       "        (fc1): Linear(in_features=2, out_features=2, bias=True)\n",
       "        (elu): ELU(alpha=1.0)\n",
       "        (fc2): Linear(in_features=2, out_features=2, bias=True)\n",
       "        (gate_norm): GateAddNorm(\n",
       "          (glu): GatedLinearUnit(\n",
       "            (dropout): Dropout(p=0.1, inplace=False)\n",
       "            (fc): Linear(in_features=2, out_features=6, bias=True)\n",
       "          )\n",
       "          (add_norm): AddNorm(\n",
       "            (norm): LayerNorm((3,), eps=1e-05, elementwise_affine=True)\n",
       "          )\n",
       "        )\n",
       "      )\n",
       "    )\n",
       "    (prescalers): ModuleDict(\n",
       "      (square_feet): Linear(in_features=1, out_features=2, bias=True)\n",
       "      (floor_count): Linear(in_features=1, out_features=2, bias=True)\n",
       "      (air_temperature): Linear(in_features=1, out_features=2, bias=True)\n",
       "      (cloud_coverage): Linear(in_features=1, out_features=2, bias=True)\n",
       "      (dew_temperature): Linear(in_features=1, out_features=2, bias=True)\n",
       "      (precip_depth_1_hr): Linear(in_features=1, out_features=2, bias=True)\n",
       "      (sea_level_pressure): Linear(in_features=1, out_features=2, bias=True)\n",
       "      (wind_direction): Linear(in_features=1, out_features=2, bias=True)\n",
       "      (wind_speed): Linear(in_features=1, out_features=2, bias=True)\n",
       "      (air_temperature_mean_lag3): Linear(in_features=1, out_features=2, bias=True)\n",
       "      (air_temperature_max_lag3): Linear(in_features=1, out_features=2, bias=True)\n",
       "      (air_temperature_min_lag3): Linear(in_features=1, out_features=2, bias=True)\n",
       "      (air_temperature_std_lag3): Linear(in_features=1, out_features=2, bias=True)\n",
       "      (cloud_coverage_mean_lag3): Linear(in_features=1, out_features=2, bias=True)\n",
       "      (cloud_coverage_max_lag3): Linear(in_features=1, out_features=2, bias=True)\n",
       "      (cloud_coverage_min_lag3): Linear(in_features=1, out_features=2, bias=True)\n",
       "      (cloud_coverage_std_lag3): Linear(in_features=1, out_features=2, bias=True)\n",
       "      (dew_temperature_mean_lag3): Linear(in_features=1, out_features=2, bias=True)\n",
       "      (dew_temperature_max_lag3): Linear(in_features=1, out_features=2, bias=True)\n",
       "      (dew_temperature_min_lag3): Linear(in_features=1, out_features=2, bias=True)\n",
       "      (dew_temperature_std_lag3): Linear(in_features=1, out_features=2, bias=True)\n",
       "      (precip_depth_1_hr_mean_lag3): Linear(in_features=1, out_features=2, bias=True)\n",
       "      (precip_depth_1_hr_max_lag3): Linear(in_features=1, out_features=2, bias=True)\n",
       "      (precip_depth_1_hr_min_lag3): Linear(in_features=1, out_features=2, bias=True)\n",
       "      (precip_depth_1_hr_std_lag3): Linear(in_features=1, out_features=2, bias=True)\n",
       "      (sea_level_pressure_mean_lag3): Linear(in_features=1, out_features=2, bias=True)\n",
       "      (sea_level_pressure_max_lag3): Linear(in_features=1, out_features=2, bias=True)\n",
       "      (sea_level_pressure_min_lag3): Linear(in_features=1, out_features=2, bias=True)\n",
       "      (sea_level_pressure_std_lag3): Linear(in_features=1, out_features=2, bias=True)\n",
       "      (wind_direction_mean_lag3): Linear(in_features=1, out_features=2, bias=True)\n",
       "      (wind_direction_max_lag3): Linear(in_features=1, out_features=2, bias=True)\n",
       "      (wind_direction_min_lag3): Linear(in_features=1, out_features=2, bias=True)\n",
       "      (wind_direction_std_lag3): Linear(in_features=1, out_features=2, bias=True)\n",
       "      (wind_speed_mean_lag3): Linear(in_features=1, out_features=2, bias=True)\n",
       "      (wind_speed_max_lag3): Linear(in_features=1, out_features=2, bias=True)\n",
       "      (wind_speed_min_lag3): Linear(in_features=1, out_features=2, bias=True)\n",
       "      (wind_speed_std_lag3): Linear(in_features=1, out_features=2, bias=True)\n",
       "      (time_idx): Linear(in_features=1, out_features=2, bias=True)\n",
       "      (relative_time_idx): Linear(in_features=1, out_features=2, bias=True)\n",
       "    )\n",
       "    (softmax): Softmax(dim=-1)\n",
       "  )\n",
       "  (static_context_variable_selection): GatedResidualNetwork(\n",
       "    (fc1): Linear(in_features=3, out_features=3, bias=True)\n",
       "    (elu): ELU(alpha=1.0)\n",
       "    (fc2): Linear(in_features=3, out_features=3, bias=True)\n",
       "    (gate_norm): GateAddNorm(\n",
       "      (glu): GatedLinearUnit(\n",
       "        (dropout): Dropout(p=0.1, inplace=False)\n",
       "        (fc): Linear(in_features=3, out_features=6, bias=True)\n",
       "      )\n",
       "      (add_norm): AddNorm(\n",
       "        (norm): LayerNorm((3,), eps=1e-05, elementwise_affine=True)\n",
       "      )\n",
       "    )\n",
       "  )\n",
       "  (static_context_initial_hidden_lstm): GatedResidualNetwork(\n",
       "    (fc1): Linear(in_features=3, out_features=3, bias=True)\n",
       "    (elu): ELU(alpha=1.0)\n",
       "    (fc2): Linear(in_features=3, out_features=3, bias=True)\n",
       "    (gate_norm): GateAddNorm(\n",
       "      (glu): GatedLinearUnit(\n",
       "        (dropout): Dropout(p=0.1, inplace=False)\n",
       "        (fc): Linear(in_features=3, out_features=6, bias=True)\n",
       "      )\n",
       "      (add_norm): AddNorm(\n",
       "        (norm): LayerNorm((3,), eps=1e-05, elementwise_affine=True)\n",
       "      )\n",
       "    )\n",
       "  )\n",
       "  (static_context_initial_cell_lstm): GatedResidualNetwork(\n",
       "    (fc1): Linear(in_features=3, out_features=3, bias=True)\n",
       "    (elu): ELU(alpha=1.0)\n",
       "    (fc2): Linear(in_features=3, out_features=3, bias=True)\n",
       "    (gate_norm): GateAddNorm(\n",
       "      (glu): GatedLinearUnit(\n",
       "        (dropout): Dropout(p=0.1, inplace=False)\n",
       "        (fc): Linear(in_features=3, out_features=6, bias=True)\n",
       "      )\n",
       "      (add_norm): AddNorm(\n",
       "        (norm): LayerNorm((3,), eps=1e-05, elementwise_affine=True)\n",
       "      )\n",
       "    )\n",
       "  )\n",
       "  (static_context_enrichment): GatedResidualNetwork(\n",
       "    (fc1): Linear(in_features=3, out_features=3, bias=True)\n",
       "    (elu): ELU(alpha=1.0)\n",
       "    (fc2): Linear(in_features=3, out_features=3, bias=True)\n",
       "    (gate_norm): GateAddNorm(\n",
       "      (glu): GatedLinearUnit(\n",
       "        (dropout): Dropout(p=0.1, inplace=False)\n",
       "        (fc): Linear(in_features=3, out_features=6, bias=True)\n",
       "      )\n",
       "      (add_norm): AddNorm(\n",
       "        (norm): LayerNorm((3,), eps=1e-05, elementwise_affine=True)\n",
       "      )\n",
       "    )\n",
       "  )\n",
       "  (lstm_encoder): LSTM(3, 3, batch_first=True)\n",
       "  (lstm_decoder): LSTM(3, 3, batch_first=True)\n",
       "  (post_lstm_gate_encoder): GatedLinearUnit(\n",
       "    (dropout): Dropout(p=0.1, inplace=False)\n",
       "    (fc): Linear(in_features=3, out_features=6, bias=True)\n",
       "  )\n",
       "  (post_lstm_gate_decoder): GatedLinearUnit(\n",
       "    (dropout): Dropout(p=0.1, inplace=False)\n",
       "    (fc): Linear(in_features=3, out_features=6, bias=True)\n",
       "  )\n",
       "  (post_lstm_add_norm_encoder): AddNorm(\n",
       "    (norm): LayerNorm((3,), eps=1e-05, elementwise_affine=True)\n",
       "  )\n",
       "  (post_lstm_add_norm_decoder): AddNorm(\n",
       "    (norm): LayerNorm((3,), eps=1e-05, elementwise_affine=True)\n",
       "  )\n",
       "  (static_enrichment): GatedResidualNetwork(\n",
       "    (fc1): Linear(in_features=3, out_features=3, bias=True)\n",
       "    (elu): ELU(alpha=1.0)\n",
       "    (context): Linear(in_features=3, out_features=3, bias=False)\n",
       "    (fc2): Linear(in_features=3, out_features=3, bias=True)\n",
       "    (gate_norm): GateAddNorm(\n",
       "      (glu): GatedLinearUnit(\n",
       "        (dropout): Dropout(p=0.1, inplace=False)\n",
       "        (fc): Linear(in_features=3, out_features=6, bias=True)\n",
       "      )\n",
       "      (add_norm): AddNorm(\n",
       "        (norm): LayerNorm((3,), eps=1e-05, elementwise_affine=True)\n",
       "      )\n",
       "    )\n",
       "  )\n",
       "  (multihead_attn): InterpretableMultiHeadAttention(\n",
       "    (dropout): Dropout(p=0.1, inplace=False)\n",
       "    (v_layer): Linear(in_features=3, out_features=3, bias=True)\n",
       "    (q_layers): ModuleList(\n",
       "      (0): Linear(in_features=3, out_features=3, bias=True)\n",
       "    )\n",
       "    (k_layers): ModuleList(\n",
       "      (0): Linear(in_features=3, out_features=3, bias=True)\n",
       "    )\n",
       "    (attention): ScaledDotProductAttention(\n",
       "      (softmax): Softmax(dim=2)\n",
       "    )\n",
       "    (w_h): Linear(in_features=3, out_features=3, bias=False)\n",
       "  )\n",
       "  (post_attn_gate_norm): GateAddNorm(\n",
       "    (glu): GatedLinearUnit(\n",
       "      (dropout): Dropout(p=0.1, inplace=False)\n",
       "      (fc): Linear(in_features=3, out_features=6, bias=True)\n",
       "    )\n",
       "    (add_norm): AddNorm(\n",
       "      (norm): LayerNorm((3,), eps=1e-05, elementwise_affine=True)\n",
       "    )\n",
       "  )\n",
       "  (pos_wise_ff): GatedResidualNetwork(\n",
       "    (fc1): Linear(in_features=3, out_features=3, bias=True)\n",
       "    (elu): ELU(alpha=1.0)\n",
       "    (fc2): Linear(in_features=3, out_features=3, bias=True)\n",
       "    (gate_norm): GateAddNorm(\n",
       "      (glu): GatedLinearUnit(\n",
       "        (dropout): Dropout(p=0.1, inplace=False)\n",
       "        (fc): Linear(in_features=3, out_features=6, bias=True)\n",
       "      )\n",
       "      (add_norm): AddNorm(\n",
       "        (norm): LayerNorm((3,), eps=1e-05, elementwise_affine=True)\n",
       "      )\n",
       "    )\n",
       "  )\n",
       "  (pre_output_gate_norm): GateAddNorm(\n",
       "    (glu): GatedLinearUnit(\n",
       "      (fc): Linear(in_features=3, out_features=6, bias=True)\n",
       "    )\n",
       "    (add_norm): AddNorm(\n",
       "      (norm): LayerNorm((3,), eps=1e-05, elementwise_affine=True)\n",
       "    )\n",
       "  )\n",
       "  (output_layer): Linear(in_features=3, out_features=7, bias=True)\n",
       ")"
      ]
     },
     "execution_count": 264,
     "metadata": {},
     "output_type": "execute_result"
    }
   ],
   "source": [
    "best_tft"
   ]
  },
  {
   "cell_type": "code",
   "execution_count": null,
   "metadata": {},
   "outputs": [],
   "source": []
  },
  {
   "cell_type": "code",
   "execution_count": 265,
   "metadata": {},
   "outputs": [],
   "source": [
    "# load the best model according to the validation loss\n",
    "# (given that we use early stopping, this is not necessarily the last epoch)\n",
    "best_model_path = trainer.checkpoint_callback.best_model_path\n",
    "best_tft = TemporalFusionTransformer.load_from_checkpoint(best_model_path)"
   ]
  },
  {
   "cell_type": "code",
   "execution_count": 266,
   "metadata": {},
   "outputs": [],
   "source": [
    "actuals = torch.cat([y[0] for x, y in iter(val_dataloader)])\n",
    "predictions = best_tft.predict(val_dataloader)"
   ]
  },
  {
   "cell_type": "code",
   "execution_count": 267,
   "metadata": {},
   "outputs": [
    {
     "name": "stdout",
     "output_type": "stream",
     "text": [
      "(tensor([[4.5060],\n",
      "        [5.4332],\n",
      "        [3.9826],\n",
      "        [5.2730],\n",
      "        [5.3107]]), None)\n"
     ]
    }
   ],
   "source": [
    "for x, y in (iter(val_dataloader)):\n",
    "    print(y)"
   ]
  },
  {
   "cell_type": "code",
   "execution_count": 268,
   "metadata": {},
   "outputs": [
    {
     "data": {
      "text/plain": [
       "tensor(5.9177)"
      ]
     },
     "execution_count": 268,
     "metadata": {},
     "output_type": "execute_result"
    }
   ],
   "source": [
    "from torchmetrics import MeanSquaredError\n",
    "mse = MeanSquaredError()\n",
    "mse(actuals, baseline_predictions)"
   ]
  },
  {
   "cell_type": "code",
   "execution_count": null,
   "metadata": {},
   "outputs": [],
   "source": []
  },
  {
   "cell_type": "code",
   "execution_count": 274,
   "metadata": {},
   "outputs": [],
   "source": [
    "# select last 24 months from data (max_encoder_length is 24)\n",
    "encoder_data = data[lambda x: x.time_idx > x.time_idx.max() - max_encoder_length]\n",
    "\n",
    "# select last known data point and create decoder data from it by repeating it and incrementing the month\n",
    "# in a real world dataset, we should not just forward fill the covariates but specify them to account\n",
    "# for changes in special days and prices (which you absolutely should do but we are too lazy here)\n",
    "last_data = data[lambda x: x.time_idx == x.time_idx.max()]\n",
    "decoder_data = pd.concat(\n",
    "    [last_data.assign(date=lambda x: x.date + pd.offsets.MonthBegin(i)) for i in range(1, max_prediction_length + 1)],\n",
    "    ignore_index=True,\n",
    ")\n",
    "\n",
    "# add time index consistent with \"data\"\n",
    "decoder_data[\"time_idx\"] = decoder_data[\"date\"].dt.year * 12 + decoder_data[\"date\"].dt.month\n",
    "decoder_data[\"time_idx\"] += encoder_data[\"time_idx\"].max() + 1 - decoder_data[\"time_idx\"].min()\n",
    "\n",
    "# adjust additional time feature(s)\n",
    "decoder_data[\"month\"] = decoder_data.date.dt.month.astype(str).astype(\"category\")  # categories have be strings\n",
    "\n",
    "# combine encoder and decoder data\n",
    "new_prediction_data = pd.concat([encoder_data, decoder_data], ignore_index=True)"
   ]
  },
  {
   "cell_type": "code",
   "execution_count": 275,
   "metadata": {},
   "outputs": [
    {
     "name": "stderr",
     "output_type": "stream",
     "text": [
      "/home/ubuntu/.local/lib/python3.6/site-packages/pytorch_forecasting/data/encoders.py:121: UserWarning: Found 5 unknown classes which were set to NaN\n",
      "  UserWarning,\n",
      "/home/ubuntu/.local/lib/python3.6/site-packages/pytorch_forecasting/data/encoders.py:121: UserWarning: Found 1 unknown classes which were set to NaN\n",
      "  UserWarning,\n",
      "/home/ubuntu/.local/lib/python3.6/site-packages/pytorch_forecasting/data/encoders.py:121: UserWarning: Found 7 unknown classes which were set to NaN\n",
      "  UserWarning,\n",
      "/home/ubuntu/.local/lib/python3.6/site-packages/pytorch_forecasting/data/encoders.py:121: UserWarning: Found 3 unknown classes which were set to NaN\n",
      "  UserWarning,\n"
     ]
    }
   ],
   "source": [
    "new_raw_predictions, new_x = best_tft.predict(new_prediction_data, mode=\"raw\", return_x=True)"
   ]
  },
  {
   "cell_type": "code",
   "execution_count": null,
   "metadata": {},
   "outputs": [],
   "source": []
  },
  {
   "cell_type": "code",
   "execution_count": 296,
   "metadata": {},
   "outputs": [
    {
     "data": {
      "text/plain": [
       "torch.Size([5, 1])"
      ]
     },
     "execution_count": 296,
     "metadata": {},
     "output_type": "execute_result"
    }
   ],
   "source": [
    "new_x[\"decoder_target\"].shape"
   ]
  },
  {
   "cell_type": "code",
   "execution_count": 299,
   "metadata": {},
   "outputs": [
    {
     "data": {
      "text/plain": [
       "torch.Size([5, 1])"
      ]
     },
     "execution_count": 299,
     "metadata": {},
     "output_type": "execute_result"
    }
   ],
   "source": [
    "torch.mean(new_raw_predictions[\"prediction\"], dim= 2).shape"
   ]
  },
  {
   "cell_type": "code",
   "execution_count": 300,
   "metadata": {},
   "outputs": [
    {
     "data": {
      "text/plain": [
       "tensor(0.7705)"
      ]
     },
     "execution_count": 300,
     "metadata": {},
     "output_type": "execute_result"
    }
   ],
   "source": [
    "mse = MeanSquaredError()\n",
    "mse(new_x[\"decoder_target\"], torch.mean(new_raw_predictions[\"prediction\"], dim= 2))"
   ]
  },
  {
   "cell_type": "code",
   "execution_count": null,
   "metadata": {},
   "outputs": [],
   "source": []
  }
 ],
 "metadata": {
  "colab": {
   "authorship_tag": "ABX9TyOassNjCU9Ovc6ebaOw12O9",
   "machine_shape": "hm",
   "name": "may__.ipynb",
   "provenance": []
  },
  "kernelspec": {
   "display_name": "Python 3",
   "language": "python",
   "name": "python3"
  },
  "language_info": {
   "codemirror_mode": {
    "name": "ipython",
    "version": 3
   },
   "file_extension": ".py",
   "mimetype": "text/x-python",
   "name": "python",
   "nbconvert_exporter": "python",
   "pygments_lexer": "ipython3",
   "version": "3.6.9"
  },
  "widgets": {
   "application/vnd.jupyter.widget-state+json": {
    "2200036401514b239da57ba1c64c13f5": {
     "model_module": "@jupyter-widgets/controls",
     "model_module_version": "1.5.0",
     "model_name": "FloatProgressModel",
     "state": {
      "_dom_classes": [],
      "_model_module": "@jupyter-widgets/controls",
      "_model_module_version": "1.5.0",
      "_model_name": "FloatProgressModel",
      "_view_count": null,
      "_view_module": "@jupyter-widgets/controls",
      "_view_module_version": "1.5.0",
      "_view_name": "ProgressView",
      "bar_style": "info",
      "description": "",
      "description_tooltip": null,
      "layout": "IPY_MODEL_2e2800685a13453b97b03a40bd3d9bf2",
      "max": 1,
      "min": 0,
      "orientation": "horizontal",
      "style": "IPY_MODEL_9cb56fb012d343979e3f7a32888f0da7",
      "value": 0
     }
    },
    "2cf6b77d164946478c4efd6e17decc45": {
     "model_module": "@jupyter-widgets/controls",
     "model_module_version": "1.5.0",
     "model_name": "DescriptionStyleModel",
     "state": {
      "_model_module": "@jupyter-widgets/controls",
      "_model_module_version": "1.5.0",
      "_model_name": "DescriptionStyleModel",
      "_view_count": null,
      "_view_module": "@jupyter-widgets/base",
      "_view_module_version": "1.2.0",
      "_view_name": "StyleView",
      "description_width": ""
     }
    },
    "2e2800685a13453b97b03a40bd3d9bf2": {
     "model_module": "@jupyter-widgets/base",
     "model_module_version": "1.2.0",
     "model_name": "LayoutModel",
     "state": {
      "_model_module": "@jupyter-widgets/base",
      "_model_module_version": "1.2.0",
      "_model_name": "LayoutModel",
      "_view_count": null,
      "_view_module": "@jupyter-widgets/base",
      "_view_module_version": "1.2.0",
      "_view_name": "LayoutView",
      "align_content": null,
      "align_items": null,
      "align_self": null,
      "border": null,
      "bottom": null,
      "display": null,
      "flex": "2",
      "flex_flow": null,
      "grid_area": null,
      "grid_auto_columns": null,
      "grid_auto_flow": null,
      "grid_auto_rows": null,
      "grid_column": null,
      "grid_gap": null,
      "grid_row": null,
      "grid_template_areas": null,
      "grid_template_columns": null,
      "grid_template_rows": null,
      "height": null,
      "justify_content": null,
      "justify_items": null,
      "left": null,
      "margin": null,
      "max_height": null,
      "max_width": null,
      "min_height": null,
      "min_width": null,
      "object_fit": null,
      "object_position": null,
      "order": null,
      "overflow": null,
      "overflow_x": null,
      "overflow_y": null,
      "padding": null,
      "right": null,
      "top": null,
      "visibility": null,
      "width": null
     }
    },
    "85d1235e986f4700a338ff849f19de4a": {
     "model_module": "@jupyter-widgets/base",
     "model_module_version": "1.2.0",
     "model_name": "LayoutModel",
     "state": {
      "_model_module": "@jupyter-widgets/base",
      "_model_module_version": "1.2.0",
      "_model_name": "LayoutModel",
      "_view_count": null,
      "_view_module": "@jupyter-widgets/base",
      "_view_module_version": "1.2.0",
      "_view_name": "LayoutView",
      "align_content": null,
      "align_items": null,
      "align_self": null,
      "border": null,
      "bottom": null,
      "display": null,
      "flex": null,
      "flex_flow": null,
      "grid_area": null,
      "grid_auto_columns": null,
      "grid_auto_flow": null,
      "grid_auto_rows": null,
      "grid_column": null,
      "grid_gap": null,
      "grid_row": null,
      "grid_template_areas": null,
      "grid_template_columns": null,
      "grid_template_rows": null,
      "height": null,
      "justify_content": null,
      "justify_items": null,
      "left": null,
      "margin": null,
      "max_height": null,
      "max_width": null,
      "min_height": null,
      "min_width": null,
      "object_fit": null,
      "object_position": null,
      "order": null,
      "overflow": null,
      "overflow_x": null,
      "overflow_y": null,
      "padding": null,
      "right": null,
      "top": null,
      "visibility": null,
      "width": null
     }
    },
    "9cb56fb012d343979e3f7a32888f0da7": {
     "model_module": "@jupyter-widgets/controls",
     "model_module_version": "1.5.0",
     "model_name": "ProgressStyleModel",
     "state": {
      "_model_module": "@jupyter-widgets/controls",
      "_model_module_version": "1.5.0",
      "_model_name": "ProgressStyleModel",
      "_view_count": null,
      "_view_module": "@jupyter-widgets/base",
      "_view_module_version": "1.2.0",
      "_view_name": "StyleView",
      "bar_color": null,
      "description_width": ""
     }
    },
    "cde6396bb13845839c9cdaa950db16b2": {
     "model_module": "@jupyter-widgets/controls",
     "model_module_version": "1.5.0",
     "model_name": "DescriptionStyleModel",
     "state": {
      "_model_module": "@jupyter-widgets/controls",
      "_model_module_version": "1.5.0",
      "_model_name": "DescriptionStyleModel",
      "_view_count": null,
      "_view_module": "@jupyter-widgets/base",
      "_view_module_version": "1.2.0",
      "_view_name": "StyleView",
      "description_width": ""
     }
    },
    "de5d2fda7c654074b42ebcac2865dd13": {
     "model_module": "@jupyter-widgets/base",
     "model_module_version": "1.2.0",
     "model_name": "LayoutModel",
     "state": {
      "_model_module": "@jupyter-widgets/base",
      "_model_module_version": "1.2.0",
      "_model_name": "LayoutModel",
      "_view_count": null,
      "_view_module": "@jupyter-widgets/base",
      "_view_module_version": "1.2.0",
      "_view_name": "LayoutView",
      "align_content": null,
      "align_items": null,
      "align_self": null,
      "border": null,
      "bottom": null,
      "display": "inline-flex",
      "flex": null,
      "flex_flow": "row wrap",
      "grid_area": null,
      "grid_auto_columns": null,
      "grid_auto_flow": null,
      "grid_auto_rows": null,
      "grid_column": null,
      "grid_gap": null,
      "grid_row": null,
      "grid_template_areas": null,
      "grid_template_columns": null,
      "grid_template_rows": null,
      "height": null,
      "justify_content": null,
      "justify_items": null,
      "left": null,
      "margin": null,
      "max_height": null,
      "max_width": null,
      "min_height": null,
      "min_width": null,
      "object_fit": null,
      "object_position": null,
      "order": null,
      "overflow": null,
      "overflow_x": null,
      "overflow_y": null,
      "padding": null,
      "right": null,
      "top": null,
      "visibility": null,
      "width": "100%"
     }
    },
    "ef101d28d25a478d9674c5ac64c349cf": {
     "model_module": "@jupyter-widgets/base",
     "model_module_version": "1.2.0",
     "model_name": "LayoutModel",
     "state": {
      "_model_module": "@jupyter-widgets/base",
      "_model_module_version": "1.2.0",
      "_model_name": "LayoutModel",
      "_view_count": null,
      "_view_module": "@jupyter-widgets/base",
      "_view_module_version": "1.2.0",
      "_view_name": "LayoutView",
      "align_content": null,
      "align_items": null,
      "align_self": null,
      "border": null,
      "bottom": null,
      "display": null,
      "flex": null,
      "flex_flow": null,
      "grid_area": null,
      "grid_auto_columns": null,
      "grid_auto_flow": null,
      "grid_auto_rows": null,
      "grid_column": null,
      "grid_gap": null,
      "grid_row": null,
      "grid_template_areas": null,
      "grid_template_columns": null,
      "grid_template_rows": null,
      "height": null,
      "justify_content": null,
      "justify_items": null,
      "left": null,
      "margin": null,
      "max_height": null,
      "max_width": null,
      "min_height": null,
      "min_width": null,
      "object_fit": null,
      "object_position": null,
      "order": null,
      "overflow": null,
      "overflow_x": null,
      "overflow_y": null,
      "padding": null,
      "right": null,
      "top": null,
      "visibility": null,
      "width": null
     }
    },
    "f0b0144cfcd6487198afb98cfe6704eb": {
     "model_module": "@jupyter-widgets/controls",
     "model_module_version": "1.5.0",
     "model_name": "HBoxModel",
     "state": {
      "_dom_classes": [],
      "_model_module": "@jupyter-widgets/controls",
      "_model_module_version": "1.5.0",
      "_model_name": "HBoxModel",
      "_view_count": null,
      "_view_module": "@jupyter-widgets/controls",
      "_view_module_version": "1.5.0",
      "_view_name": "HBoxView",
      "box_style": "",
      "children": [
       "IPY_MODEL_fed8a91c90504b86af018910f9ff101f",
       "IPY_MODEL_2200036401514b239da57ba1c64c13f5",
       "IPY_MODEL_fe902e3dc883452d9428d7d7db44d2f3"
      ],
      "layout": "IPY_MODEL_de5d2fda7c654074b42ebcac2865dd13"
     }
    },
    "fe902e3dc883452d9428d7d7db44d2f3": {
     "model_module": "@jupyter-widgets/controls",
     "model_module_version": "1.5.0",
     "model_name": "HTMLModel",
     "state": {
      "_dom_classes": [],
      "_model_module": "@jupyter-widgets/controls",
      "_model_module_version": "1.5.0",
      "_model_name": "HTMLModel",
      "_view_count": null,
      "_view_module": "@jupyter-widgets/controls",
      "_view_module_version": "1.5.0",
      "_view_name": "HTMLView",
      "description": "",
      "description_tooltip": null,
      "layout": "IPY_MODEL_85d1235e986f4700a338ff849f19de4a",
      "placeholder": "​",
      "style": "IPY_MODEL_2cf6b77d164946478c4efd6e17decc45",
      "value": " 0/30 [00:00&lt;?, ?it/s]"
     }
    },
    "fed8a91c90504b86af018910f9ff101f": {
     "model_module": "@jupyter-widgets/controls",
     "model_module_version": "1.5.0",
     "model_name": "HTMLModel",
     "state": {
      "_dom_classes": [],
      "_model_module": "@jupyter-widgets/controls",
      "_model_module_version": "1.5.0",
      "_model_name": "HTMLModel",
      "_view_count": null,
      "_view_module": "@jupyter-widgets/controls",
      "_view_module_version": "1.5.0",
      "_view_name": "HTMLView",
      "description": "",
      "description_tooltip": null,
      "layout": "IPY_MODEL_ef101d28d25a478d9674c5ac64c349cf",
      "placeholder": "​",
      "style": "IPY_MODEL_cde6396bb13845839c9cdaa950db16b2",
      "value": "Epoch 0:   0%"
     }
    }
   }
  }
 },
 "nbformat": 4,
 "nbformat_minor": 1
}
